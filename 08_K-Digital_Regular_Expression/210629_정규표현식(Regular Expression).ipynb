{
 "cells": [
  {
   "cell_type": "code",
   "execution_count": 1,
   "metadata": {
    "ExecuteTime": {
     "end_time": "2021-06-29T00:04:43.293989Z",
     "start_time": "2021-06-29T00:04:43.289844Z"
    }
   },
   "outputs": [],
   "source": [
    "import re"
   ]
  },
  {
   "cell_type": "code",
   "execution_count": 2,
   "metadata": {
    "ExecuteTime": {
     "end_time": "2021-06-29T00:05:00.449092Z",
     "start_time": "2021-06-29T00:05:00.445940Z"
    }
   },
   "outputs": [],
   "source": [
    "r = re.compile('a.c')  # 정규 표현식을 컴파일 한다."
   ]
  },
  {
   "cell_type": "code",
   "execution_count": 4,
   "metadata": {
    "ExecuteTime": {
     "end_time": "2021-06-29T00:08:25.894947Z",
     "start_time": "2021-06-29T00:08:25.890105Z"
    }
   },
   "outputs": [
    {
     "name": "stdout",
     "output_type": "stream",
     "text": [
      "None\n"
     ]
    }
   ],
   "source": [
    "# search() : 문자열 전체를 검색하여 정규식과 매치되는지 조사한다.\n",
    "m = r.search('kkk')\n",
    "print(m)"
   ]
  },
  {
   "cell_type": "code",
   "execution_count": 7,
   "metadata": {
    "ExecuteTime": {
     "end_time": "2021-06-29T00:16:17.791353Z",
     "start_time": "2021-06-29T00:16:17.786182Z"
    }
   },
   "outputs": [
    {
     "name": "stdout",
     "output_type": "stream",
     "text": [
      "<re.Match object; span=(0, 3), match='abc'>\n",
      "abc 0 <built-in method end of re.Match object at 0x7fd408e1f030> (0, 3)\n"
     ]
    }
   ],
   "source": [
    "m = r.search('abc')  # 일치하는 데이터 값이 있다면 리턴해줌\n",
    "print(m)\n",
    "print(m.group(), m.start(), m.end, m.span())"
   ]
  },
  {
   "cell_type": "markdown",
   "metadata": {},
   "source": [
    "# 정규식을 이용한 문자열 검색\n",
    "컴파일된 패턴 (패턴 : 정규식을 컴파일한 결과) 객체를 이용하여 문자열 검색을 수행하는 메소드\n",
    "* match() : 문자열의 처음부터 정규식과 매치되는지 조사\n",
    "* search() : 문자열의 전체를 검색하여 정규식과 매치되는지 조사\n",
    "* findall() : 정규식과 매치되는 모든 문자열(substring)을 리스트로 리턴한다.\n",
    "* finditer() : 정규식과 매치되는 모든 문자열(substring)을 반복 가능한 객체로 리턴한다."
   ]
  },
  {
   "cell_type": "code",
   "execution_count": null,
   "metadata": {},
   "outputs": [],
   "source": []
  },
  {
   "cell_type": "code",
   "execution_count": null,
   "metadata": {},
   "outputs": [],
   "source": []
  },
  {
   "cell_type": "code",
   "execution_count": null,
   "metadata": {},
   "outputs": [],
   "source": []
  },
  {
   "cell_type": "code",
   "execution_count": null,
   "metadata": {},
   "outputs": [],
   "source": []
  },
  {
   "cell_type": "code",
   "execution_count": null,
   "metadata": {},
   "outputs": [],
   "source": []
  },
  {
   "cell_type": "code",
   "execution_count": null,
   "metadata": {},
   "outputs": [],
   "source": []
  }
 ],
 "metadata": {
  "kernelspec": {
   "display_name": "Python 3",
   "language": "python",
   "name": "python3"
  },
  "language_info": {
   "codemirror_mode": {
    "name": "ipython",
    "version": 3
   },
   "file_extension": ".py",
   "mimetype": "text/x-python",
   "name": "python",
   "nbconvert_exporter": "python",
   "pygments_lexer": "ipython3",
   "version": "3.8.5"
  },
  "toc": {
   "base_numbering": 1,
   "nav_menu": {},
   "number_sections": true,
   "sideBar": true,
   "skip_h1_title": false,
   "title_cell": "Table of Contents",
   "title_sidebar": "Contents",
   "toc_cell": false,
   "toc_position": {},
   "toc_section_display": true,
   "toc_window_display": false
  }
 },
 "nbformat": 4,
 "nbformat_minor": 4
}

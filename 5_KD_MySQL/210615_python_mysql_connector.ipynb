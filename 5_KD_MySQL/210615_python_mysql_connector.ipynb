{
 "cells": [
  {
   "cell_type": "code",
   "execution_count": 3,
   "id": "45e13603",
   "metadata": {},
   "outputs": [
    {
     "name": "stdout",
     "output_type": "stream",
     "text": [
      "Requirement already satisfied: pymysql in c:\\users\\happyg0\\anaconda3\\lib\\site-packages (1.0.2)\n"
     ]
    }
   ],
   "source": [
    "!pip install pymysql"
   ]
  },
  {
   "cell_type": "code",
   "execution_count": 1,
   "id": "e25473cf",
   "metadata": {},
   "outputs": [],
   "source": [
    "import pymysql"
   ]
  },
  {
   "cell_type": "code",
   "execution_count": 9,
   "id": "4593b106",
   "metadata": {
    "scrolled": false
   },
   "outputs": [
    {
     "name": "stdout",
     "output_type": "stream",
     "text": [
      "103 Atelier graphique\n",
      "112 Signal Gift Stores\n",
      "114 Australian Collectors, Co.\n",
      "119 La Rochelle Gifts\n",
      "121 Baane Mini Imports\n",
      "124 Mini Gifts Distributors Ltd.\n",
      "125 Havel & Zbyszek Co\n",
      "128 Blauer See Auto, Co.\n",
      "129 Mini Wheels Co.\n",
      "131 Land of Toys Inc.\n",
      "141 Euro+ Shopping Channel\n",
      "144 Volvo Model Replicas, Co\n",
      "145 Danish Wholesale Imports\n",
      "146 Saveley & Henriot, Co.\n",
      "148 Dragon Souveniers, Ltd.\n",
      "151 Muscle Machine Inc\n",
      "157 Diecast Classics Inc.\n",
      "161 Technics Stores Inc.\n",
      "166 Handji Gifts& Co\n",
      "167 Herkku Gifts\n",
      "168 American Souvenirs Inc\n",
      "169 Porto Imports Co.\n",
      "171 Daedalus Designs Imports\n",
      "172 La Corne D'abondance, Co.\n",
      "173 Cambridge Collectables Co.\n",
      "175 Gift Depot Inc.\n",
      "177 Osaka Souveniers Co.\n",
      "181 Vitachrome Inc.\n",
      "186 Toys of Finland, Co.\n",
      "187 AV Stores, Co.\n",
      "189 Clover Collections, Co.\n",
      "198 Auto-Moto Classics Inc.\n",
      "201 UK Collectables, Ltd.\n",
      "202 Canadian Gift Exchange Network\n",
      "204 Online Mini Collectables\n",
      "205 Toys4GrownUps.com\n",
      "206 Asian Shopping Network, Co\n",
      "209 Mini Caravy\n",
      "211 King Kong Collectables, Co.\n",
      "216 Enaco Distributors\n",
      "219 Boards & Toys Co.\n",
      "223 Natürlich Autos\n",
      "227 Heintze Collectables\n",
      "233 Québec Home Shopping Network\n",
      "237 ANG Resellers\n",
      "239 Collectable Mini Designs Co.\n",
      "240 giftsbymail.co.uk\n",
      "242 Alpha Cognac\n",
      "247 Messner Shopping Network\n",
      "249 Amica Models & Co.\n",
      "250 Lyon Souveniers\n",
      "256 Auto Associés & Cie.\n",
      "259 Toms Spezialitäten, Ltd\n",
      "260 Royal Canadian Collectables, Ltd.\n",
      "273 Franken Gifts, Co\n",
      "276 Anna's Decorations, Ltd\n",
      "278 Rovelli Gifts\n",
      "282 Souveniers And Things Co.\n",
      "286 Marta's Replicas Co.\n",
      "293 BG&E Collectables\n",
      "298 Vida Sport, Ltd\n",
      "299 Norway Gifts By Mail, Co.\n",
      "303 Schuyler Imports\n",
      "307 Der Hund Imports\n",
      "311 Oulu Toy Supplies, Inc.\n",
      "314 Petit Auto\n",
      "319 Mini Classics\n",
      "320 Mini Creations Ltd.\n",
      "321 Corporate Gift Ideas Co.\n",
      "323 Down Under Souveniers, Inc\n",
      "324 Stylish Desk Decors, Co.\n",
      "328 Tekni Collectables Inc.\n",
      "333 Australian Gift Network, Co\n",
      "334 Suominen Souveniers\n",
      "335 Cramer Spezialitäten, Ltd\n",
      "339 Classic Gift Ideas, Inc\n",
      "344 CAF Imports\n",
      "347 Men 'R' US Retailers, Ltd.\n",
      "348 Asian Treasures, Inc.\n",
      "350 Marseille Mini Autos\n",
      "353 Reims Collectables\n",
      "356 SAR Distributors, Co\n",
      "357 GiftsForHim.com\n",
      "361 Kommission Auto\n",
      "362 Gifts4AllAges.com\n",
      "363 Online Diecast Creations Co.\n",
      "369 Lisboa Souveniers, Inc\n",
      "376 Precious Collectables\n",
      "379 Collectables For Less Inc.\n",
      "381 Royale Belge\n",
      "382 Salzburg Collectables\n",
      "385 Cruz & Sons Co.\n",
      "386 L'ordine Souveniers\n",
      "398 Tokyo Collectables, Ltd\n",
      "406 Auto Canal+ Petit\n",
      "409 Stuttgart Collectable Exchange\n",
      "412 Extreme Desk Decorations, Ltd\n",
      "415 Bavarian Collectables Imports, Co.\n",
      "424 Classic Legends Inc.\n",
      "443 Feuer Online Stores, Inc\n",
      "447 Gift Ideas Corp.\n",
      "448 Scandinavian Gift Ideas\n",
      "450 The Sharp Gifts Warehouse\n",
      "452 Mini Auto Werke\n",
      "455 Super Scale Inc.\n",
      "456 Microscale Inc.\n",
      "458 Corrida Auto Replicas, Ltd\n",
      "459 Warburg Exchange\n",
      "462 FunGiftIdeas.com\n",
      "465 Anton Designs, Ltd.\n",
      "471 Australian Collectables, Ltd\n",
      "473 Frau da Collezione\n",
      "475 West Coast Collectables Co.\n",
      "477 Mit Vergnügen & Co.\n",
      "480 Kremlin Collectables, Co.\n",
      "481 Raanan Stores, Inc\n",
      "484 Iberia Gift Imports, Corp.\n",
      "486 Motor Mint Distributors Inc.\n",
      "487 Signal Collectibles Ltd.\n",
      "489 Double Decker Gift Stores, Ltd\n",
      "495 Diecast Collectables\n",
      "496 Kelly's Gift Shop\n"
     ]
    }
   ],
   "source": [
    "# local ip address : 127.0.0.1\n",
    "conn = pymysql.connect(host='localhost', port=3306, user='root', passwd='a1234', db='classicmodels')\n",
    "cur = conn.cursor()\n",
    "\n",
    "sql = 'SELECT * FROM customers'\n",
    "cur.execute(sql)\n",
    "\n",
    "#result = cur.fetchone()\n",
    "#print(result)\n",
    "\n",
    "result = cur.fetchall()\n",
    "#print(result)\n",
    "\n",
    "for row in result:\n",
    "    print(row[0], row[1])\n",
    "    \n",
    "\n",
    "# conn.commit() # insert, update, delete (table에 실제 적용)\n",
    "conn.close()  # db접속 종료"
   ]
  },
  {
   "cell_type": "code",
   "execution_count": 14,
   "id": "43acd7f0",
   "metadata": {},
   "outputs": [
    {
     "name": "stdout",
     "output_type": "stream",
     "text": [
      "SELECT * FROM customers WHERE customerNumber=%s\n",
      "119 La Rochelle Gifts Labrune\n"
     ]
    }
   ],
   "source": [
    "conn = pymysql.connect(host='localhost', port=3306, user='root', passwd='a1234', db='classicmodels')\n",
    "cur = conn.cursor()\n",
    "\n",
    "num = 119\n",
    "\n",
    "# list or tuple : %s\n",
    "sql = 'SELECT * FROM customers WHERE customerNumber=%s'\n",
    "cur.execute(sql, (num))\n",
    "print(sql)\n",
    "\n",
    "result = cur.fetchone()\n",
    "#print(result)\n",
    "print(result[0], result[1], result[2])\n",
    "\n",
    "conn.close()"
   ]
  },
  {
   "cell_type": "code",
   "execution_count": 21,
   "id": "68c77907",
   "metadata": {},
   "outputs": [
    {
     "name": "stdout",
     "output_type": "stream",
     "text": [
      "SELECT * FROM customers WHERE customerName=%s\n",
      "(119, 'La Rochelle Gifts', 'Labrune', 'Janine ', '40.67.8555', '67, rue des Cinquante Otages', None, 'Nantes', None, '44000', 'France', 1370, Decimal('118200.00'))\n"
     ]
    }
   ],
   "source": [
    "conn = pymysql.connect(host='localhost', port=3306, user='root', passwd='a1234', db='classicmodels')\n",
    "cur = conn.cursor()\n",
    "\n",
    "search = 'La Rochelle Gifts'\n",
    "sql = '''SELECT * FROM customers WHERE customerName=%s'''\n",
    "cur.execute(sql, (search,))\n",
    "print(sql)\n",
    "\n",
    "result = cur.fetchall()\n",
    "for row in result:\n",
    "    print(row)\n",
    "\n",
    "conn.close()"
   ]
  },
  {
   "cell_type": "code",
   "execution_count": 25,
   "id": "ca9bfc4a",
   "metadata": {},
   "outputs": [
    {
     "name": "stdout",
     "output_type": "stream",
     "text": [
      "SELECT * FROM customers WHERE customerName LIKE binary \"%A%\"\n",
      "(103, 'Atelier graphique', 'Schmitt', 'Carine ', '40.32.2555', '54, rue Royale', None, 'Nantes', None, '44000', 'France', 1370, Decimal('21000.00'))\n",
      "(114, 'Australian Collectors, Co.', 'Ferguson', 'Peter', '03 9520 4555', '636 St Kilda Road', 'Level 3', 'Melbourne', 'Victoria', '3004', 'Australia', 1611, Decimal('117300.00'))\n",
      "(128, 'Blauer See Auto, Co.', 'Keitel', 'Roland', '+49 69 66 90 2555', 'Lyonerstr. 34', None, 'Frankfurt', None, '60528', 'Germany', 1504, Decimal('59700.00'))\n",
      "(168, 'American Souvenirs Inc', 'Franco', 'Keith', '2035557845', '149 Spinnaker Dr.', 'Suite 101', 'New Haven', 'CT', '97823', 'USA', 1286, Decimal('0.00'))\n",
      "(187, 'AV Stores, Co.', 'Ashworth', 'Rachel', '(171) 555-1555', 'Fauntleroy Circus', None, 'Manchester', None, 'EC2 5NT', 'UK', 1501, Decimal('136800.00'))\n",
      "(198, 'Auto-Moto Classics Inc.', 'Taylor', 'Leslie', '6175558428', '16780 Pompton St.', None, 'Brickhaven', 'MA', '58339', 'USA', 1216, Decimal('23000.00'))\n",
      "(206, 'Asian Shopping Network, Co', 'Walker', 'Brydey', '+612 9411 1555', 'Suntec Tower Three', '8 Temasek', 'Singapore', None, '038988', 'Singapore', None, Decimal('0.00'))\n",
      "(223, 'Natürlich Autos', 'Kloss', 'Horst ', '0372-555188', 'Taucherstraße 10', None, 'Cunewalde', None, '01307', 'Germany', None, Decimal('0.00'))\n",
      "(237, 'ANG Resellers', 'Camino', 'Alejandra ', '(91) 745 6555', 'Gran Vía, 1', None, 'Madrid', None, '28001', 'Spain', None, Decimal('0.00'))\n",
      "(242, 'Alpha Cognac', 'Roulet', 'Annette ', '61.77.6555', '1 rue Alsace-Lorraine', None, 'Toulouse', None, '31000', 'France', 1370, Decimal('61100.00'))\n",
      "(249, 'Amica Models & Co.', 'Accorti', 'Paolo ', '011-4988555', 'Via Monte Bianco 34', None, 'Torino', None, '10100', 'Italy', 1401, Decimal('113000.00'))\n",
      "(256, 'Auto Associés & Cie.', 'Tonini', 'Daniel ', '30.59.8555', \"67, avenue de l'Europe\", None, 'Versailles', None, '78000', 'France', 1370, Decimal('77900.00'))\n",
      "(276, \"Anna's Decorations, Ltd\", \"O'Hara\", 'Anna', '02 9936 8555', '201 Miller Street', 'Level 15', 'North Sydney', 'NSW', '2060', 'Australia', 1611, Decimal('107800.00'))\n",
      "(282, 'Souveniers And Things Co.', 'Huxley', 'Adrian', '+61 2 9495 8555', 'Monitor Money Building', '815 Pacific Hwy', 'Chatswood', 'NSW', '2067', 'Australia', 1611, Decimal('93300.00'))\n",
      "(314, 'Petit Auto', 'Dewey', 'Catherine ', '(02) 5554 67', 'Rue Joseph-Bens 532', None, 'Bruxelles', None, 'B-1180', 'Belgium', 1401, Decimal('79900.00'))\n",
      "(333, 'Australian Gift Network, Co', 'Calaghan', 'Ben', '61-7-3844-6555', '31 Duncan St. West End', None, 'South Brisbane', 'Queensland', '4101', 'Australia', 1611, Decimal('51600.00'))\n",
      "(344, 'CAF Imports', 'Fernandez', 'Jesus', '+34 913 728 555', 'Merchants House', \"27-30 Merchant's Quay\", 'Madrid', None, '28023', 'Spain', 1702, Decimal('59600.00'))\n",
      "(348, 'Asian Treasures, Inc.', 'McKenna', 'Patricia ', '2967 555', '8 Johnstown Road', None, 'Cork', 'Co. Cork', None, 'Ireland', None, Decimal('0.00'))\n",
      "(350, 'Marseille Mini Autos', 'Lebihan', 'Laurence ', '91.24.4555', '12, rue des Bouchers', None, 'Marseille', None, '13008', 'France', 1337, Decimal('65000.00'))\n",
      "(356, 'SAR Distributors, Co', 'Kuger', 'Armand', '+27 21 550 3555', '1250 Pretorius Street', None, 'Hatfield', 'Pretoria', '0028', 'South Africa', None, Decimal('0.00'))\n",
      "(361, 'Kommission Auto', 'Josephs', 'Karin', '0251-555259', 'Luisenstr. 48', None, 'Münster', None, '44087', 'Germany', None, Decimal('0.00'))\n",
      "(362, 'Gifts4AllAges.com', 'Yoshido', 'Juri', '6175559555', '8616 Spinnaker Dr.', None, 'Boston', 'MA', '51003', 'USA', 1216, Decimal('41900.00'))\n",
      "(406, 'Auto Canal+ Petit', 'Perrier', 'Dominique', '(1) 47.55.6555', '25, rue Lauriston', None, 'Paris', None, '75016', 'France', 1337, Decimal('95000.00'))\n",
      "(452, 'Mini Auto Werke', 'Mendel', 'Roland ', '7675-3555', 'Kirchgasse 6', None, 'Graz', None, '8010', 'Austria', 1401, Decimal('45300.00'))\n",
      "(458, 'Corrida Auto Replicas, Ltd', 'Sommer', 'Martín ', '(91) 555 22 82', 'C/ Araquil, 67', None, 'Madrid', None, '28023', 'Spain', 1702, Decimal('104600.00'))\n",
      "(465, 'Anton Designs, Ltd.', 'Anton', 'Carmen', '+34 913 728555', 'c/ Gobelas, 19-1 Urb. La Florida', None, 'Madrid', None, '28023', 'Spain', None, Decimal('0.00'))\n",
      "(471, 'Australian Collectables, Ltd', 'Clenahan', 'Sean', '61-9-3844-6555', '7 Allen Street', None, 'Glen Waverly', 'Victoria', '3150', 'Australia', 1611, Decimal('60300.00'))\n"
     ]
    }
   ],
   "source": [
    "conn = pymysql.connect(host='localhost', port=3306, user='root', passwd='a1234', db='classicmodels')\n",
    "cur = conn.cursor()\n",
    "\n",
    "search = 'A'                                 # LIKE binary \"%A%\"\n",
    "sql = 'SELECT * FROM customers WHERE customerName LIKE binary \"%%%s%%\"' % (search)\n",
    "cur.execute(sql)\n",
    "print(sql)\n",
    "\n",
    "result = cur.fetchall()\n",
    "for row in result:\n",
    "    print(row)\n",
    "\n",
    "conn.close()"
   ]
  },
  {
   "cell_type": "code",
   "execution_count": 26,
   "id": "928ed493",
   "metadata": {},
   "outputs": [
    {
     "name": "stdout",
     "output_type": "stream",
     "text": [
      "SELECT * FROM customers WHERE customerName LIKE binary %s\n",
      "(103, 'Atelier graphique', 'Schmitt', 'Carine ', '40.32.2555', '54, rue Royale', None, 'Nantes', None, '44000', 'France', 1370, Decimal('21000.00'))\n",
      "(114, 'Australian Collectors, Co.', 'Ferguson', 'Peter', '03 9520 4555', '636 St Kilda Road', 'Level 3', 'Melbourne', 'Victoria', '3004', 'Australia', 1611, Decimal('117300.00'))\n",
      "(128, 'Blauer See Auto, Co.', 'Keitel', 'Roland', '+49 69 66 90 2555', 'Lyonerstr. 34', None, 'Frankfurt', None, '60528', 'Germany', 1504, Decimal('59700.00'))\n",
      "(168, 'American Souvenirs Inc', 'Franco', 'Keith', '2035557845', '149 Spinnaker Dr.', 'Suite 101', 'New Haven', 'CT', '97823', 'USA', 1286, Decimal('0.00'))\n",
      "(187, 'AV Stores, Co.', 'Ashworth', 'Rachel', '(171) 555-1555', 'Fauntleroy Circus', None, 'Manchester', None, 'EC2 5NT', 'UK', 1501, Decimal('136800.00'))\n",
      "(198, 'Auto-Moto Classics Inc.', 'Taylor', 'Leslie', '6175558428', '16780 Pompton St.', None, 'Brickhaven', 'MA', '58339', 'USA', 1216, Decimal('23000.00'))\n",
      "(206, 'Asian Shopping Network, Co', 'Walker', 'Brydey', '+612 9411 1555', 'Suntec Tower Three', '8 Temasek', 'Singapore', None, '038988', 'Singapore', None, Decimal('0.00'))\n",
      "(223, 'Natürlich Autos', 'Kloss', 'Horst ', '0372-555188', 'Taucherstraße 10', None, 'Cunewalde', None, '01307', 'Germany', None, Decimal('0.00'))\n",
      "(237, 'ANG Resellers', 'Camino', 'Alejandra ', '(91) 745 6555', 'Gran Vía, 1', None, 'Madrid', None, '28001', 'Spain', None, Decimal('0.00'))\n",
      "(242, 'Alpha Cognac', 'Roulet', 'Annette ', '61.77.6555', '1 rue Alsace-Lorraine', None, 'Toulouse', None, '31000', 'France', 1370, Decimal('61100.00'))\n",
      "(249, 'Amica Models & Co.', 'Accorti', 'Paolo ', '011-4988555', 'Via Monte Bianco 34', None, 'Torino', None, '10100', 'Italy', 1401, Decimal('113000.00'))\n",
      "(256, 'Auto Associés & Cie.', 'Tonini', 'Daniel ', '30.59.8555', \"67, avenue de l'Europe\", None, 'Versailles', None, '78000', 'France', 1370, Decimal('77900.00'))\n",
      "(276, \"Anna's Decorations, Ltd\", \"O'Hara\", 'Anna', '02 9936 8555', '201 Miller Street', 'Level 15', 'North Sydney', 'NSW', '2060', 'Australia', 1611, Decimal('107800.00'))\n",
      "(282, 'Souveniers And Things Co.', 'Huxley', 'Adrian', '+61 2 9495 8555', 'Monitor Money Building', '815 Pacific Hwy', 'Chatswood', 'NSW', '2067', 'Australia', 1611, Decimal('93300.00'))\n",
      "(314, 'Petit Auto', 'Dewey', 'Catherine ', '(02) 5554 67', 'Rue Joseph-Bens 532', None, 'Bruxelles', None, 'B-1180', 'Belgium', 1401, Decimal('79900.00'))\n",
      "(333, 'Australian Gift Network, Co', 'Calaghan', 'Ben', '61-7-3844-6555', '31 Duncan St. West End', None, 'South Brisbane', 'Queensland', '4101', 'Australia', 1611, Decimal('51600.00'))\n",
      "(344, 'CAF Imports', 'Fernandez', 'Jesus', '+34 913 728 555', 'Merchants House', \"27-30 Merchant's Quay\", 'Madrid', None, '28023', 'Spain', 1702, Decimal('59600.00'))\n",
      "(348, 'Asian Treasures, Inc.', 'McKenna', 'Patricia ', '2967 555', '8 Johnstown Road', None, 'Cork', 'Co. Cork', None, 'Ireland', None, Decimal('0.00'))\n",
      "(350, 'Marseille Mini Autos', 'Lebihan', 'Laurence ', '91.24.4555', '12, rue des Bouchers', None, 'Marseille', None, '13008', 'France', 1337, Decimal('65000.00'))\n",
      "(356, 'SAR Distributors, Co', 'Kuger', 'Armand', '+27 21 550 3555', '1250 Pretorius Street', None, 'Hatfield', 'Pretoria', '0028', 'South Africa', None, Decimal('0.00'))\n",
      "(361, 'Kommission Auto', 'Josephs', 'Karin', '0251-555259', 'Luisenstr. 48', None, 'Münster', None, '44087', 'Germany', None, Decimal('0.00'))\n",
      "(362, 'Gifts4AllAges.com', 'Yoshido', 'Juri', '6175559555', '8616 Spinnaker Dr.', None, 'Boston', 'MA', '51003', 'USA', 1216, Decimal('41900.00'))\n",
      "(406, 'Auto Canal+ Petit', 'Perrier', 'Dominique', '(1) 47.55.6555', '25, rue Lauriston', None, 'Paris', None, '75016', 'France', 1337, Decimal('95000.00'))\n",
      "(452, 'Mini Auto Werke', 'Mendel', 'Roland ', '7675-3555', 'Kirchgasse 6', None, 'Graz', None, '8010', 'Austria', 1401, Decimal('45300.00'))\n",
      "(458, 'Corrida Auto Replicas, Ltd', 'Sommer', 'Martín ', '(91) 555 22 82', 'C/ Araquil, 67', None, 'Madrid', None, '28023', 'Spain', 1702, Decimal('104600.00'))\n",
      "(465, 'Anton Designs, Ltd.', 'Anton', 'Carmen', '+34 913 728555', 'c/ Gobelas, 19-1 Urb. La Florida', None, 'Madrid', None, '28023', 'Spain', None, Decimal('0.00'))\n",
      "(471, 'Australian Collectables, Ltd', 'Clenahan', 'Sean', '61-9-3844-6555', '7 Allen Street', None, 'Glen Waverly', 'Victoria', '3150', 'Australia', 1611, Decimal('60300.00'))\n"
     ]
    }
   ],
   "source": [
    "conn = pymysql.connect(host='localhost', port=3306, user='root', passwd='a1234', db='classicmodels')\n",
    "cur = conn.cursor()\n",
    "\n",
    "search = 'A'                                 # LIKE binary \"%A%\"\n",
    "sql = 'SELECT * FROM customers WHERE customerName LIKE binary %s'\n",
    "cur.execute(sql, \"%%%s%%\" %(search))\n",
    "print(sql)\n",
    "\n",
    "result = cur.fetchall()\n",
    "for row in result:\n",
    "    print(row)\n",
    "\n",
    "conn.close()"
   ]
  },
  {
   "cell_type": "markdown",
   "id": "231ed0fd",
   "metadata": {},
   "source": [
    "table: person  \n",
    "id, name의 값을 input()을 이용해서 수정할 데이터를 입력을 받아서 수행하는 프로그램을 구현하세요.\n"
   ]
  },
  {
   "cell_type": "code",
   "execution_count": 10,
   "id": "3942507d",
   "metadata": {},
   "outputs": [
    {
     "name": "stdout",
     "output_type": "stream",
     "text": [
      "id : 20\n",
      "name 유대위\n",
      "UPDATE person SET name=%s WHERE id=%s;\n"
     ]
    }
   ],
   "source": [
    "id = int(input('id : '));\n",
    "name = input('name ')\n",
    "\n",
    "conn = pymysql.connect(host='localhost', port=3306, user='root', passwd='a1234', db='shop')\n",
    "cur = conn.cursor()\n",
    "\n",
    "#sql = 'UPDATE person SET name=%s WHERE id=%s;' % (name, id)\n",
    "#cur.execute(sql)\n",
    "\n",
    "data = (name, id)\n",
    "sql = 'UPDATE person SET name=%s WHERE id=%s;'\n",
    "cur.execute(sql, data)  # cur.execute(sql, (name, id))\n",
    "print(sql)\n",
    "conn.commit()\n",
    "\n",
    "conn.close()"
   ]
  },
  {
   "cell_type": "code",
   "execution_count": 12,
   "id": "c8439094",
   "metadata": {},
   "outputs": [
    {
     "name": "stdout",
     "output_type": "stream",
     "text": [
      "id : 20\n",
      "name 송중기\n",
      "UPDATE person SET name=%(name)s WHERE id=%(id)s;\n"
     ]
    }
   ],
   "source": [
    "id = int(input('id : '));\n",
    "name = input('name ')\n",
    "\n",
    "conn = pymysql.connect(host='localhost', port=3306, user='root', passwd='a1234', db='shop')\n",
    "cur = conn.cursor()\n",
    "\n",
    "data = {'id':id, 'name':name}\n",
    "sql = 'UPDATE person SET name=%(name)s WHERE id=%(id)s;'\n",
    "cur.execute(sql, data)\n",
    "print(sql)\n",
    "\n",
    "conn.commit()\n",
    "conn.close()"
   ]
  },
  {
   "cell_type": "code",
   "execution_count": 13,
   "id": "b2b6d7b3",
   "metadata": {},
   "outputs": [
    {
     "name": "stdout",
     "output_type": "stream",
     "text": [
      "INSERT INTO person(id,name,age) VALUES(%s,%s,%s)\n"
     ]
    }
   ],
   "source": [
    "conn = pymysql.connect(host='localhost', port=3306, user='root', passwd='a1234', db='shop')\n",
    "cur = conn.cursor()\n",
    "\n",
    "data = (40, '이기상', 21)\n",
    "sql = 'INSERT INTO person(id,name,age) VALUES(%s,%s,%s)'\n",
    "cur.execute(sql, data)\n",
    "print(sql)\n",
    "\n",
    "conn.commit()\n",
    "conn.close()"
   ]
  },
  {
   "cell_type": "markdown",
   "id": "a7ab576a",
   "metadata": {},
   "source": [
    "execute(): 단일성 입력(하나의 레코드 입력)  \n",
    "executemany(): 배치 처리 (여러개의 레코드 입력)"
   ]
  },
  {
   "cell_type": "code",
   "execution_count": 15,
   "id": "bd6cb4c5",
   "metadata": {},
   "outputs": [
    {
     "name": "stdout",
     "output_type": "stream",
     "text": [
      "INSERT INTO person(id,name,age) VALUES(%s,%s,%s)\n"
     ]
    }
   ],
   "source": [
    "conn = pymysql.connect(host='localhost', port=3306, user='root', passwd='a1234', db='shop')\n",
    "cur = conn.cursor()\n",
    "\n",
    "#data = [(50, '레드', 23),(60, '그린', 25)]\n",
    "data = [(70, '블루', 23)]\n",
    "sql = 'INSERT INTO person(id,name,age) VALUES(%s,%s,%s)'\n",
    "cur.executemany(sql, data)\n",
    "print(sql)\n",
    "\n",
    "conn.commit()\n",
    "conn.close()"
   ]
  },
  {
   "cell_type": "code",
   "execution_count": 16,
   "id": "16482b9a",
   "metadata": {},
   "outputs": [
    {
     "name": "stdout",
     "output_type": "stream",
     "text": [
      "INSERT INTO person(id,name,age) VALUES(%(id)s,%(name)s,%(age)s)\n"
     ]
    }
   ],
   "source": [
    "conn = pymysql.connect(host='localhost', port=3306, user='root', passwd='a1234', db='shop')\n",
    "cur = conn.cursor()\n",
    "\n",
    "data = [{'id':80, 'name':'강아지', 'age':32},{'id':90, 'name':'고양이', 'age':37}]\n",
    "sql = 'INSERT INTO person(id,name,age) VALUES(%(id)s,%(name)s,%(age)s)'\n",
    "cur.executemany(sql, data)\n",
    "print(sql)\n",
    "\n",
    "conn.commit()\n",
    "conn.close()"
   ]
  },
  {
   "cell_type": "code",
   "execution_count": 19,
   "id": "c970ee05",
   "metadata": {
    "scrolled": true
   },
   "outputs": [
    {
     "name": "stdout",
     "output_type": "stream",
     "text": [
      "id: 80\n",
      "DELETE FROM person WHERE id=%s\n",
      "delete: 1\n"
     ]
    }
   ],
   "source": [
    "id = int(input('id: '))\n",
    "\n",
    "conn = pymysql.connect(host='localhost', port=3306, user='root', passwd='a1234', db='shop')\n",
    "cur = conn.cursor()\n",
    "\n",
    "data = (id)\n",
    "sql = 'DELETE FROM person WHERE id=%s'\n",
    "cnt = cur.execute(sql, data)\n",
    "print(sql)\n",
    "print('delete: %s' %(cnt)) # print('delete: {}'.format(cnt))\n",
    "\n",
    "conn.commit()\n",
    "conn.close()"
   ]
  },
  {
   "cell_type": "code",
   "execution_count": 2,
   "id": "ccc39d9e",
   "metadata": {},
   "outputs": [
    {
     "name": "stdout",
     "output_type": "stream",
     "text": [
      "ex) 20,4020,40\n",
      "DELETE FROM person WHERE id=%s\n",
      "delete: 2\n"
     ]
    }
   ],
   "source": [
    "id = input('ex) 20,40')\n",
    "data = id.split(',')\n",
    "\n",
    "conn = pymysql.connect(host='localhost', port=3306, user='root', passwd='a1234', db='shop')\n",
    "cur = conn.cursor()\n",
    "\n",
    "sql = 'DELETE FROM person WHERE id=%s'\n",
    "cnt = cur.executemany(sql, data)\n",
    "print(sql)\n",
    "print('delete: %s' %(cnt)) # print('delete: {}'.format(cnt))\n",
    "\n",
    "#conn.commit()\n",
    "conn.close()"
   ]
  },
  {
   "cell_type": "code",
   "execution_count": null,
   "id": "ac106e33",
   "metadata": {},
   "outputs": [],
   "source": [
    "id = input('ex) 20,40\\n')\n",
    "\n",
    "print('id:',id)\n",
    "\n",
    "idList= id.split(',') \n",
    "print('idList:', idList)  # ['20', '40']\n",
    "\n",
    "data = []\n",
    "\n",
    "for i in idList:\n",
    "    data.append(int(i))\n",
    "\n",
    "print('data:', data)\n",
    "\n",
    "conn = pymysql.connect(host='localhost', port=3306, user='root', passwd='a1234' , db='shop')\n",
    "cur = conn.cursor()\n",
    "\n",
    "sql = 'DELETE FROM person WHERE id=%s'\n",
    "cnt = cur.executemany(sql, data)\n",
    "print(sql)\n",
    "print('delete:%s' % (cnt))  # print('delete:{}'.format(cnt))\n",
    "\n",
    "#conn.commit()\n",
    "conn.close()\n"
   ]
  },
  {
   "cell_type": "code",
   "execution_count": null,
   "id": "45d31361",
   "metadata": {},
   "outputs": [],
   "source": [
    "id = input(\"ex) 20,40\\n\")\n",
    "\n",
    "data = [int(i) for i in id.split(',')]\n",
    "\n",
    "conn = pymysql.connect(host='localhost', port=3306, user='root', passwd='a1234' , db='shop')\n",
    "cur = conn.cursor()\n",
    "\n",
    "sql = 'DELETE FROM person WHERE id=%s'\n",
    "cnt = cur.executemany(sql, data)\n",
    "print(sql)\n",
    "print('delete:%s' % (cnt))  # print('delete:{}'.format(cnt))\n",
    "\n",
    "#conn.commit()\n",
    "conn.close()"
   ]
  },
  {
   "cell_type": "code",
   "execution_count": null,
   "id": "6eacf65e",
   "metadata": {},
   "outputs": [],
   "source": []
  }
 ],
 "metadata": {
  "kernelspec": {
   "display_name": "Python 3",
   "language": "python",
   "name": "python3"
  },
  "language_info": {
   "codemirror_mode": {
    "name": "ipython",
    "version": 3
   },
   "file_extension": ".py",
   "mimetype": "text/x-python",
   "name": "python",
   "nbconvert_exporter": "python",
   "pygments_lexer": "ipython3",
   "version": "3.8.8"
  }
 },
 "nbformat": 4,
 "nbformat_minor": 5
}

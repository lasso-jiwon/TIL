{
 "cells": [
  {
   "cell_type": "markdown",
   "id": "c03f1dc5",
   "metadata": {},
   "source": [
    "# Numpy\n",
    "- NumPy는 Numerical Python의 줄임말로, 파이썬에서 산술 계산을 위한 가장 필수 패키지중 하나이다.\n",
    "- 과학 계산을 위한 대부분의 패키지는 NumPy의 배열 객체를 데이터 교환을 위한 공통 언어처럼 사용한다.\n",
    "- 효율적인 다차원 배열인 ndarray(n dimensional array)는 빠른 배열 계산과 유연한 브로드캐스팅 기능을 제공한다.\n",
    "- 반복문을 작성할 필요 없이 전체 데이터 배열을 빠르게 계산할 수 있는 표준 수학 함수이다.\n",
    "- 배열 데이터를 디스크에 쓰거나 읽을 수 있는 도구와 메모리에 적재된 파일을 다루는 도구이다.\n",
    "- 선형대수, 난수 생성기등에 사용된다.\n",
    "- C, C++, 포트란으로 작성한 코드를 연결할 수 있는 C API가 제공된다.\n",
    "\n",
    "\n",
    "공식문서 https://numpy.org/doc/stable/  \n",
    "numpy 100 문제 https://github.com/rougier/numpy-100\n"
   ]
  },
  {
   "cell_type": "markdown",
   "id": "ee8798d6",
   "metadata": {},
   "source": [
    "### 1. 데이터 생성"
   ]
  },
  {
   "cell_type": "code",
   "execution_count": 51,
   "id": "8736b712",
   "metadata": {},
   "outputs": [],
   "source": [
    "import numpy as np"
   ]
  },
  {
   "cell_type": "code",
   "execution_count": 2,
   "id": "96617b1a",
   "metadata": {},
   "outputs": [],
   "source": [
    "a = np.zeros(3)  # 1차원 배열 = 벡터"
   ]
  },
  {
   "cell_type": "code",
   "execution_count": 3,
   "id": "0791f105",
   "metadata": {},
   "outputs": [
    {
     "data": {
      "text/plain": [
       "array([0., 0., 0.])"
      ]
     },
     "execution_count": 3,
     "metadata": {},
     "output_type": "execute_result"
    }
   ],
   "source": [
    "a"
   ]
  },
  {
   "cell_type": "code",
   "execution_count": 4,
   "id": "09dcab27",
   "metadata": {},
   "outputs": [
    {
     "name": "stdout",
     "output_type": "stream",
     "text": [
      "[0. 0. 0.]\n"
     ]
    }
   ],
   "source": [
    "print(a)"
   ]
  },
  {
   "cell_type": "markdown",
   "id": "85e8cd4b",
   "metadata": {},
   "source": [
    "처음 객제들은 type(), dir()을 해본다."
   ]
  },
  {
   "cell_type": "code",
   "execution_count": 5,
   "id": "a3cc9ed2",
   "metadata": {},
   "outputs": [
    {
     "data": {
      "text/plain": [
       "numpy.ndarray"
      ]
     },
     "execution_count": 5,
     "metadata": {},
     "output_type": "execute_result"
    }
   ],
   "source": [
    "type(a)"
   ]
  },
  {
   "cell_type": "code",
   "execution_count": 6,
   "id": "fe1bc8eb",
   "metadata": {},
   "outputs": [
    {
     "name": "stdout",
     "output_type": "stream",
     "text": [
      "['T', '__abs__', '__add__', '__and__', '__array__', '__array_finalize__', '__array_function__', '__array_interface__', '__array_prepare__', '__array_priority__', '__array_struct__', '__array_ufunc__', '__array_wrap__', '__bool__', '__class__', '__complex__', '__contains__', '__copy__', '__deepcopy__', '__delattr__', '__delitem__', '__dir__', '__divmod__', '__doc__', '__eq__', '__float__', '__floordiv__', '__format__', '__ge__', '__getattribute__', '__getitem__', '__gt__', '__hash__', '__iadd__', '__iand__', '__ifloordiv__', '__ilshift__', '__imatmul__', '__imod__', '__imul__', '__index__', '__init__', '__init_subclass__', '__int__', '__invert__', '__ior__', '__ipow__', '__irshift__', '__isub__', '__iter__', '__itruediv__', '__ixor__', '__le__', '__len__', '__lshift__', '__lt__', '__matmul__', '__mod__', '__mul__', '__ne__', '__neg__', '__new__', '__or__', '__pos__', '__pow__', '__radd__', '__rand__', '__rdivmod__', '__reduce__', '__reduce_ex__', '__repr__', '__rfloordiv__', '__rlshift__', '__rmatmul__', '__rmod__', '__rmul__', '__ror__', '__rpow__', '__rrshift__', '__rshift__', '__rsub__', '__rtruediv__', '__rxor__', '__setattr__', '__setitem__', '__setstate__', '__sizeof__', '__str__', '__sub__', '__subclasshook__', '__truediv__', '__xor__', 'all', 'any', 'argmax', 'argmin', 'argpartition', 'argsort', 'astype', 'base', 'byteswap', 'choose', 'clip', 'compress', 'conj', 'conjugate', 'copy', 'ctypes', 'cumprod', 'cumsum', 'data', 'diagonal', 'dot', 'dtype', 'dump', 'dumps', 'fill', 'flags', 'flat', 'flatten', 'getfield', 'imag', 'item', 'itemset', 'itemsize', 'max', 'mean', 'min', 'nbytes', 'ndim', 'newbyteorder', 'nonzero', 'partition', 'prod', 'ptp', 'put', 'ravel', 'real', 'repeat', 'reshape', 'resize', 'round', 'searchsorted', 'setfield', 'setflags', 'shape', 'size', 'sort', 'squeeze', 'std', 'strides', 'sum', 'swapaxes', 'take', 'tobytes', 'tofile', 'tolist', 'tostring', 'trace', 'transpose', 'var', 'view']\n"
     ]
    }
   ],
   "source": [
    "print(dir(a))"
   ]
  },
  {
   "cell_type": "code",
   "execution_count": 7,
   "id": "d8f2c08d",
   "metadata": {},
   "outputs": [],
   "source": [
    "# list 생성\n",
    "b = [1, 2, 3]"
   ]
  },
  {
   "cell_type": "code",
   "execution_count": 8,
   "id": "5b0e6175",
   "metadata": {},
   "outputs": [
    {
     "data": {
      "text/plain": [
       "list"
      ]
     },
     "execution_count": 8,
     "metadata": {},
     "output_type": "execute_result"
    }
   ],
   "source": [
    "type(b)"
   ]
  },
  {
   "cell_type": "code",
   "execution_count": 9,
   "id": "91500f14",
   "metadata": {},
   "outputs": [
    {
     "name": "stdout",
     "output_type": "stream",
     "text": [
      "['__add__', '__class__', '__contains__', '__delattr__', '__delitem__', '__dir__', '__doc__', '__eq__', '__format__', '__ge__', '__getattribute__', '__getitem__', '__gt__', '__hash__', '__iadd__', '__imul__', '__init__', '__init_subclass__', '__iter__', '__le__', '__len__', '__lt__', '__mul__', '__ne__', '__new__', '__reduce__', '__reduce_ex__', '__repr__', '__reversed__', '__rmul__', '__setattr__', '__setitem__', '__sizeof__', '__str__', '__subclasshook__', 'append', 'clear', 'copy', 'count', 'extend', 'index', 'insert', 'pop', 'remove', 'reverse', 'sort']\n"
     ]
    }
   ],
   "source": [
    "print(dir(b))"
   ]
  },
  {
   "cell_type": "markdown",
   "id": "f0e4ddd8",
   "metadata": {},
   "source": [
    "### numpy 값 만들기"
   ]
  },
  {
   "cell_type": "code",
   "execution_count": null,
   "id": "53263694",
   "metadata": {},
   "outputs": [],
   "source": []
  },
  {
   "cell_type": "code",
   "execution_count": 12,
   "id": "e2b6210d",
   "metadata": {},
   "outputs": [],
   "source": [
    "# 1차원 배열 = 벡터\n",
    "a = np.array([1,2,3,4])"
   ]
  },
  {
   "cell_type": "code",
   "execution_count": 11,
   "id": "4f5978c3",
   "metadata": {},
   "outputs": [
    {
     "data": {
      "text/plain": [
       "array([1, 2, 3, 4])"
      ]
     },
     "execution_count": 11,
     "metadata": {},
     "output_type": "execute_result"
    }
   ],
   "source": [
    "a"
   ]
  },
  {
   "cell_type": "code",
   "execution_count": 14,
   "id": "73c4c77f",
   "metadata": {},
   "outputs": [],
   "source": [
    "# 2차원 배열 = 행렬\n",
    "b = np.array([[1,2],[3,4]])"
   ]
  },
  {
   "cell_type": "code",
   "execution_count": 15,
   "id": "969f8f2e",
   "metadata": {},
   "outputs": [
    {
     "data": {
      "text/plain": [
       "array([[1, 2],\n",
       "       [3, 4]])"
      ]
     },
     "execution_count": 15,
     "metadata": {},
     "output_type": "execute_result"
    }
   ],
   "source": [
    "b"
   ]
  },
  {
   "cell_type": "code",
   "execution_count": 16,
   "id": "3c3279da",
   "metadata": {},
   "outputs": [
    {
     "data": {
      "text/plain": [
       "numpy.ndarray"
      ]
     },
     "execution_count": 16,
     "metadata": {},
     "output_type": "execute_result"
    }
   ],
   "source": [
    "type(b)"
   ]
  },
  {
   "cell_type": "code",
   "execution_count": 17,
   "id": "2130cbc3",
   "metadata": {},
   "outputs": [
    {
     "name": "stdout",
     "output_type": "stream",
     "text": [
      "['T', '__abs__', '__add__', '__and__', '__array__', '__array_finalize__', '__array_function__', '__array_interface__', '__array_prepare__', '__array_priority__', '__array_struct__', '__array_ufunc__', '__array_wrap__', '__bool__', '__class__', '__complex__', '__contains__', '__copy__', '__deepcopy__', '__delattr__', '__delitem__', '__dir__', '__divmod__', '__doc__', '__eq__', '__float__', '__floordiv__', '__format__', '__ge__', '__getattribute__', '__getitem__', '__gt__', '__hash__', '__iadd__', '__iand__', '__ifloordiv__', '__ilshift__', '__imatmul__', '__imod__', '__imul__', '__index__', '__init__', '__init_subclass__', '__int__', '__invert__', '__ior__', '__ipow__', '__irshift__', '__isub__', '__iter__', '__itruediv__', '__ixor__', '__le__', '__len__', '__lshift__', '__lt__', '__matmul__', '__mod__', '__mul__', '__ne__', '__neg__', '__new__', '__or__', '__pos__', '__pow__', '__radd__', '__rand__', '__rdivmod__', '__reduce__', '__reduce_ex__', '__repr__', '__rfloordiv__', '__rlshift__', '__rmatmul__', '__rmod__', '__rmul__', '__ror__', '__rpow__', '__rrshift__', '__rshift__', '__rsub__', '__rtruediv__', '__rxor__', '__setattr__', '__setitem__', '__setstate__', '__sizeof__', '__str__', '__sub__', '__subclasshook__', '__truediv__', '__xor__', 'all', 'any', 'argmax', 'argmin', 'argpartition', 'argsort', 'astype', 'base', 'byteswap', 'choose', 'clip', 'compress', 'conj', 'conjugate', 'copy', 'ctypes', 'cumprod', 'cumsum', 'data', 'diagonal', 'dot', 'dtype', 'dump', 'dumps', 'fill', 'flags', 'flat', 'flatten', 'getfield', 'imag', 'item', 'itemset', 'itemsize', 'max', 'mean', 'min', 'nbytes', 'ndim', 'newbyteorder', 'nonzero', 'partition', 'prod', 'ptp', 'put', 'ravel', 'real', 'repeat', 'reshape', 'resize', 'round', 'searchsorted', 'setfield', 'setflags', 'shape', 'size', 'sort', 'squeeze', 'std', 'strides', 'sum', 'swapaxes', 'take', 'tobytes', 'tofile', 'tolist', 'tostring', 'trace', 'transpose', 'var', 'view']\n"
     ]
    }
   ],
   "source": [
    "print(dir(b))"
   ]
  },
  {
   "cell_type": "code",
   "execution_count": 22,
   "id": "eefb5ced",
   "metadata": {},
   "outputs": [],
   "source": [
    "# 3차원 배열 이상 = 텐서(tensor)\n",
    "c = np.array([[[1,2],[3,4],[5,6]]])"
   ]
  },
  {
   "cell_type": "code",
   "execution_count": 23,
   "id": "cb6768ad",
   "metadata": {},
   "outputs": [
    {
     "data": {
      "text/plain": [
       "array([[[1, 2],\n",
       "        [3, 4],\n",
       "        [5, 6]]])"
      ]
     },
     "execution_count": 23,
     "metadata": {},
     "output_type": "execute_result"
    }
   ],
   "source": [
    "c"
   ]
  },
  {
   "cell_type": "code",
   "execution_count": 24,
   "id": "295f3c66",
   "metadata": {},
   "outputs": [
    {
     "data": {
      "text/plain": [
       "numpy.ndarray"
      ]
     },
     "execution_count": 24,
     "metadata": {},
     "output_type": "execute_result"
    }
   ],
   "source": [
    "type(c)"
   ]
  },
  {
   "cell_type": "code",
   "execution_count": 25,
   "id": "770c62ab",
   "metadata": {},
   "outputs": [
    {
     "name": "stdout",
     "output_type": "stream",
     "text": [
      "['T', '__abs__', '__add__', '__and__', '__array__', '__array_finalize__', '__array_function__', '__array_interface__', '__array_prepare__', '__array_priority__', '__array_struct__', '__array_ufunc__', '__array_wrap__', '__bool__', '__class__', '__complex__', '__contains__', '__copy__', '__deepcopy__', '__delattr__', '__delitem__', '__dir__', '__divmod__', '__doc__', '__eq__', '__float__', '__floordiv__', '__format__', '__ge__', '__getattribute__', '__getitem__', '__gt__', '__hash__', '__iadd__', '__iand__', '__ifloordiv__', '__ilshift__', '__imatmul__', '__imod__', '__imul__', '__index__', '__init__', '__init_subclass__', '__int__', '__invert__', '__ior__', '__ipow__', '__irshift__', '__isub__', '__iter__', '__itruediv__', '__ixor__', '__le__', '__len__', '__lshift__', '__lt__', '__matmul__', '__mod__', '__mul__', '__ne__', '__neg__', '__new__', '__or__', '__pos__', '__pow__', '__radd__', '__rand__', '__rdivmod__', '__reduce__', '__reduce_ex__', '__repr__', '__rfloordiv__', '__rlshift__', '__rmatmul__', '__rmod__', '__rmul__', '__ror__', '__rpow__', '__rrshift__', '__rshift__', '__rsub__', '__rtruediv__', '__rxor__', '__setattr__', '__setitem__', '__setstate__', '__sizeof__', '__str__', '__sub__', '__subclasshook__', '__truediv__', '__xor__', 'all', 'any', 'argmax', 'argmin', 'argpartition', 'argsort', 'astype', 'base', 'byteswap', 'choose', 'clip', 'compress', 'conj', 'conjugate', 'copy', 'ctypes', 'cumprod', 'cumsum', 'data', 'diagonal', 'dot', 'dtype', 'dump', 'dumps', 'fill', 'flags', 'flat', 'flatten', 'getfield', 'imag', 'item', 'itemset', 'itemsize', 'max', 'mean', 'min', 'nbytes', 'ndim', 'newbyteorder', 'nonzero', 'partition', 'prod', 'ptp', 'put', 'ravel', 'real', 'repeat', 'reshape', 'resize', 'round', 'searchsorted', 'setfield', 'setflags', 'shape', 'size', 'sort', 'squeeze', 'std', 'strides', 'sum', 'swapaxes', 'take', 'tobytes', 'tofile', 'tolist', 'tostring', 'trace', 'transpose', 'var', 'view']\n"
     ]
    }
   ],
   "source": [
    "print(dir(c))"
   ]
  },
  {
   "cell_type": "code",
   "execution_count": 26,
   "id": "1439da09",
   "metadata": {},
   "outputs": [],
   "source": [
    "# 문자 데이터가 하나라도 있으면 전체가 문자로 바뀐다.\n",
    "a = np.array([1,'2',3])"
   ]
  },
  {
   "cell_type": "code",
   "execution_count": 27,
   "id": "cf01494e",
   "metadata": {},
   "outputs": [
    {
     "data": {
      "text/plain": [
       "array(['1', '2', '3'], dtype='<U11')"
      ]
     },
     "execution_count": 27,
     "metadata": {},
     "output_type": "execute_result"
    }
   ],
   "source": [
    "# numpy는 homogeneous 이다\n",
    "a"
   ]
  },
  {
   "cell_type": "code",
   "execution_count": 28,
   "id": "4b8cda5f",
   "metadata": {},
   "outputs": [],
   "source": [
    "b = np.array(['a', 1, True])"
   ]
  },
  {
   "cell_type": "code",
   "execution_count": 29,
   "id": "7f674641",
   "metadata": {},
   "outputs": [
    {
     "data": {
      "text/plain": [
       "array(['a', '1', 'True'], dtype='<U11')"
      ]
     },
     "execution_count": 29,
     "metadata": {},
     "output_type": "execute_result"
    }
   ],
   "source": [
    "b"
   ]
  },
  {
   "cell_type": "code",
   "execution_count": 32,
   "id": "8e2a226c",
   "metadata": {},
   "outputs": [],
   "source": [
    "# tuple로 인자를 넣으면 그대로 모양을 만든다.\n",
    "# (2,3) : 2행 3열 행렬을 만든다.\n",
    "# zeros는 0으로 값을 모두 채운다.\n",
    "a = np.zeros((2,3))"
   ]
  },
  {
   "cell_type": "code",
   "execution_count": 33,
   "id": "c498d10b",
   "metadata": {},
   "outputs": [
    {
     "data": {
      "text/plain": [
       "array([[0., 0., 0.],\n",
       "       [0., 0., 0.]])"
      ]
     },
     "execution_count": 33,
     "metadata": {},
     "output_type": "execute_result"
    }
   ],
   "source": [
    "a"
   ]
  },
  {
   "cell_type": "code",
   "execution_count": 34,
   "id": "a2dcb922",
   "metadata": {},
   "outputs": [],
   "source": [
    "# tuple대신 int로 넣으면 벡터로 모양을 만든다\n",
    "b = np.zeros(2)"
   ]
  },
  {
   "cell_type": "code",
   "execution_count": 35,
   "id": "662b3ea7",
   "metadata": {},
   "outputs": [
    {
     "data": {
      "text/plain": [
       "array([0., 0.])"
      ]
     },
     "execution_count": 35,
     "metadata": {},
     "output_type": "execute_result"
    }
   ],
   "source": [
    "b"
   ]
  },
  {
   "cell_type": "markdown",
   "id": "821e8bb4",
   "metadata": {},
   "source": [
    "np.eye"
   ]
  },
  {
   "cell_type": "code",
   "execution_count": 37,
   "id": "da5c1d51",
   "metadata": {},
   "outputs": [],
   "source": [
    "# eye는 단위 행렬\n",
    "# 숫자만 사용할 수 있다.\n",
    "a = np.eye(3)"
   ]
  },
  {
   "cell_type": "code",
   "execution_count": 38,
   "id": "025d2991",
   "metadata": {},
   "outputs": [
    {
     "data": {
      "text/plain": [
       "array([[1., 0., 0.],\n",
       "       [0., 1., 0.],\n",
       "       [0., 0., 1.]])"
      ]
     },
     "execution_count": 38,
     "metadata": {},
     "output_type": "execute_result"
    }
   ],
   "source": [
    "a"
   ]
  },
  {
   "cell_type": "code",
   "execution_count": 39,
   "id": "e856671b",
   "metadata": {},
   "outputs": [],
   "source": [
    "# eye는 행과 열의 크기를 지정할 수 있다.\n",
    "b = np.eye(3,2)"
   ]
  },
  {
   "cell_type": "code",
   "execution_count": 40,
   "id": "f9f16120",
   "metadata": {},
   "outputs": [
    {
     "data": {
      "text/plain": [
       "array([[1., 0.],\n",
       "       [0., 1.],\n",
       "       [0., 0.]])"
      ]
     },
     "execution_count": 40,
     "metadata": {},
     "output_type": "execute_result"
    }
   ],
   "source": [
    "b"
   ]
  },
  {
   "cell_type": "code",
   "execution_count": 42,
   "id": "204201d9",
   "metadata": {},
   "outputs": [],
   "source": [
    "# 크기(1)가 시작되는 위치를 지정해줄 수 있다.\n",
    "c = np.eye(3, 4, k=1)"
   ]
  },
  {
   "cell_type": "code",
   "execution_count": 43,
   "id": "256682e5",
   "metadata": {},
   "outputs": [
    {
     "data": {
      "text/plain": [
       "array([[0., 1., 0., 0.],\n",
       "       [0., 0., 1., 0.],\n",
       "       [0., 0., 0., 1.]])"
      ]
     },
     "execution_count": 43,
     "metadata": {},
     "output_type": "execute_result"
    }
   ],
   "source": [
    "c"
   ]
  },
  {
   "cell_type": "markdown",
   "id": "03fd3e6f",
   "metadata": {},
   "source": [
    "mp.identity"
   ]
  },
  {
   "cell_type": "code",
   "execution_count": 48,
   "id": "8eea8092",
   "metadata": {},
   "outputs": [],
   "source": [
    "# 수학에서 단위행렬은 영어로 identity matrix\n",
    "# 크기한개만 지정해서 생성할 수 있다.\n",
    "a = np.identity(3)"
   ]
  },
  {
   "cell_type": "code",
   "execution_count": 49,
   "id": "dcee646a",
   "metadata": {},
   "outputs": [
    {
     "data": {
      "text/plain": [
       "array([[1., 0., 0.],\n",
       "       [0., 1., 0.],\n",
       "       [0., 0., 1.]])"
      ]
     },
     "execution_count": 49,
     "metadata": {},
     "output_type": "execute_result"
    }
   ],
   "source": [
    "a"
   ]
  },
  {
   "cell_type": "code",
   "execution_count": 50,
   "id": "aad5d2fc",
   "metadata": {},
   "outputs": [
    {
     "ename": "TypeError",
     "evalue": "Cannot interpret '2' as a data type",
     "output_type": "error",
     "traceback": [
      "\u001b[1;31m---------------------------------------------------------------------------\u001b[0m",
      "\u001b[1;31mTypeError\u001b[0m                                 Traceback (most recent call last)",
      "\u001b[1;32m<ipython-input-50-aa3f3fb4faa3>\u001b[0m in \u001b[0;36m<module>\u001b[1;34m\u001b[0m\n\u001b[1;32m----> 1\u001b[1;33m \u001b[0mb\u001b[0m \u001b[1;33m=\u001b[0m \u001b[0mnp\u001b[0m\u001b[1;33m.\u001b[0m\u001b[0midentity\u001b[0m\u001b[1;33m(\u001b[0m\u001b[1;36m3\u001b[0m\u001b[1;33m,\u001b[0m\u001b[1;36m2\u001b[0m\u001b[1;33m)\u001b[0m\u001b[1;33m\u001b[0m\u001b[1;33m\u001b[0m\u001b[0m\n\u001b[0m",
      "\u001b[1;32mC:\\ProgramData\\Anaconda3\\lib\\site-packages\\numpy\\core\\numeric.py\u001b[0m in \u001b[0;36midentity\u001b[1;34m(n, dtype, like)\u001b[0m\n\u001b[0;32m   2172\u001b[0m \u001b[1;33m\u001b[0m\u001b[0m\n\u001b[0;32m   2173\u001b[0m     \u001b[1;32mfrom\u001b[0m \u001b[0mnumpy\u001b[0m \u001b[1;32mimport\u001b[0m \u001b[0meye\u001b[0m\u001b[1;33m\u001b[0m\u001b[1;33m\u001b[0m\u001b[0m\n\u001b[1;32m-> 2174\u001b[1;33m     \u001b[1;32mreturn\u001b[0m \u001b[0meye\u001b[0m\u001b[1;33m(\u001b[0m\u001b[0mn\u001b[0m\u001b[1;33m,\u001b[0m \u001b[0mdtype\u001b[0m\u001b[1;33m=\u001b[0m\u001b[0mdtype\u001b[0m\u001b[1;33m,\u001b[0m \u001b[0mlike\u001b[0m\u001b[1;33m=\u001b[0m\u001b[0mlike\u001b[0m\u001b[1;33m)\u001b[0m\u001b[1;33m\u001b[0m\u001b[1;33m\u001b[0m\u001b[0m\n\u001b[0m\u001b[0;32m   2175\u001b[0m \u001b[1;33m\u001b[0m\u001b[0m\n\u001b[0;32m   2176\u001b[0m \u001b[1;33m\u001b[0m\u001b[0m\n",
      "\u001b[1;32mC:\\ProgramData\\Anaconda3\\lib\\site-packages\\numpy\\lib\\twodim_base.py\u001b[0m in \u001b[0;36meye\u001b[1;34m(N, M, k, dtype, order, like)\u001b[0m\n\u001b[0;32m    207\u001b[0m     \u001b[1;32mif\u001b[0m \u001b[0mM\u001b[0m \u001b[1;32mis\u001b[0m \u001b[1;32mNone\u001b[0m\u001b[1;33m:\u001b[0m\u001b[1;33m\u001b[0m\u001b[1;33m\u001b[0m\u001b[0m\n\u001b[0;32m    208\u001b[0m         \u001b[0mM\u001b[0m \u001b[1;33m=\u001b[0m \u001b[0mN\u001b[0m\u001b[1;33m\u001b[0m\u001b[1;33m\u001b[0m\u001b[0m\n\u001b[1;32m--> 209\u001b[1;33m     \u001b[0mm\u001b[0m \u001b[1;33m=\u001b[0m \u001b[0mzeros\u001b[0m\u001b[1;33m(\u001b[0m\u001b[1;33m(\u001b[0m\u001b[0mN\u001b[0m\u001b[1;33m,\u001b[0m \u001b[0mM\u001b[0m\u001b[1;33m)\u001b[0m\u001b[1;33m,\u001b[0m \u001b[0mdtype\u001b[0m\u001b[1;33m=\u001b[0m\u001b[0mdtype\u001b[0m\u001b[1;33m,\u001b[0m \u001b[0morder\u001b[0m\u001b[1;33m=\u001b[0m\u001b[0morder\u001b[0m\u001b[1;33m)\u001b[0m\u001b[1;33m\u001b[0m\u001b[1;33m\u001b[0m\u001b[0m\n\u001b[0m\u001b[0;32m    210\u001b[0m     \u001b[1;32mif\u001b[0m \u001b[0mk\u001b[0m \u001b[1;33m>=\u001b[0m \u001b[0mM\u001b[0m\u001b[1;33m:\u001b[0m\u001b[1;33m\u001b[0m\u001b[1;33m\u001b[0m\u001b[0m\n\u001b[0;32m    211\u001b[0m         \u001b[1;32mreturn\u001b[0m \u001b[0mm\u001b[0m\u001b[1;33m\u001b[0m\u001b[1;33m\u001b[0m\u001b[0m\n",
      "\u001b[1;31mTypeError\u001b[0m: Cannot interpret '2' as a data type"
     ]
    }
   ],
   "source": [
    "# TypeError\n",
    "# 인자 하나만 지정할 수 있다.\n",
    "b = np.identity(3,2)"
   ]
  },
  {
   "cell_type": "markdown",
   "id": "65474d72",
   "metadata": {},
   "source": [
    "np.full"
   ]
  },
  {
   "cell_type": "code",
   "execution_count": 52,
   "id": "e39c45c6",
   "metadata": {},
   "outputs": [],
   "source": [
    "# 지정한 크기의 배열을 생성하고 채울값을 지정한다.\n",
    "# 2행 2열의 배열 생성한 후 1로 채워준다.\n",
    "a = np.full((2,2), 1)"
   ]
  },
  {
   "cell_type": "code",
   "execution_count": 53,
   "id": "8466f8c4",
   "metadata": {},
   "outputs": [
    {
     "data": {
      "text/plain": [
       "array([[1, 1],\n",
       "       [1, 1]])"
      ]
     },
     "execution_count": 53,
     "metadata": {},
     "output_type": "execute_result"
    }
   ],
   "source": [
    "a"
   ]
  },
  {
   "cell_type": "code",
   "execution_count": 54,
   "id": "cf9477ee",
   "metadata": {},
   "outputs": [],
   "source": [
    "# int로 크기를 지정하면 1행 n열의 배열을 생성한다.\n",
    "# 1행 3열의 배열 생성한 후 4로 채워준다.\n",
    "b = np.full(3,4)"
   ]
  },
  {
   "cell_type": "code",
   "execution_count": 55,
   "id": "c079280a",
   "metadata": {},
   "outputs": [
    {
     "data": {
      "text/plain": [
       "array([4, 4, 4])"
      ]
     },
     "execution_count": 55,
     "metadata": {},
     "output_type": "execute_result"
    }
   ],
   "source": [
    "b"
   ]
  },
  {
   "cell_type": "code",
   "execution_count": 57,
   "id": "55ba652d",
   "metadata": {},
   "outputs": [],
   "source": [
    "c = np.full((1,2),[1,2])"
   ]
  },
  {
   "cell_type": "code",
   "execution_count": 58,
   "id": "e3ed0cb2",
   "metadata": {},
   "outputs": [
    {
     "data": {
      "text/plain": [
       "array([[1, 2]])"
      ]
     },
     "execution_count": 58,
     "metadata": {},
     "output_type": "execute_result"
    }
   ],
   "source": [
    "c"
   ]
  },
  {
   "cell_type": "code",
   "execution_count": 60,
   "id": "53428157",
   "metadata": {},
   "outputs": [],
   "source": [
    "d = np.full((2,2), [1,2])"
   ]
  },
  {
   "cell_type": "code",
   "execution_count": 61,
   "id": "396c3458",
   "metadata": {},
   "outputs": [
    {
     "data": {
      "text/plain": [
       "array([[1, 2],\n",
       "       [1, 2]])"
      ]
     },
     "execution_count": 61,
     "metadata": {},
     "output_type": "execute_result"
    }
   ],
   "source": [
    "d"
   ]
  },
  {
   "cell_type": "code",
   "execution_count": 62,
   "id": "0e88a466",
   "metadata": {},
   "outputs": [],
   "source": [
    "e = np.full((1,3),[1,2,3])"
   ]
  },
  {
   "cell_type": "code",
   "execution_count": 64,
   "id": "6e7668c6",
   "metadata": {},
   "outputs": [
    {
     "data": {
      "text/plain": [
       "array([[1, 2, 3]])"
      ]
     },
     "execution_count": 64,
     "metadata": {},
     "output_type": "execute_result"
    }
   ],
   "source": [
    "e"
   ]
  },
  {
   "cell_type": "code",
   "execution_count": 65,
   "id": "f92f3387",
   "metadata": {},
   "outputs": [],
   "source": [
    "f = np.full((2,3),[1,2,3])"
   ]
  },
  {
   "cell_type": "code",
   "execution_count": 66,
   "id": "f45faf5f",
   "metadata": {},
   "outputs": [
    {
     "data": {
      "text/plain": [
       "array([[1, 2, 3],\n",
       "       [1, 2, 3]])"
      ]
     },
     "execution_count": 66,
     "metadata": {},
     "output_type": "execute_result"
    }
   ],
   "source": [
    "f"
   ]
  },
  {
   "cell_type": "markdown",
   "id": "32cee54e",
   "metadata": {},
   "source": [
    "np.empty"
   ]
  },
  {
   "cell_type": "code",
   "execution_count": 71,
   "id": "117edcc0",
   "metadata": {},
   "outputs": [],
   "source": [
    "# random 값으로 1행 3열의 배열을 생성된다.\n",
    "a = np.empty(3)"
   ]
  },
  {
   "cell_type": "code",
   "execution_count": 72,
   "id": "1c119e05",
   "metadata": {},
   "outputs": [
    {
     "data": {
      "text/plain": [
       "array([8.77855876e-312, 0.00000000e+000, 4.94065646e-324])"
      ]
     },
     "execution_count": 72,
     "metadata": {},
     "output_type": "execute_result"
    }
   ],
   "source": [
    "a"
   ]
  },
  {
   "cell_type": "code",
   "execution_count": 73,
   "id": "47d52cff",
   "metadata": {},
   "outputs": [],
   "source": [
    "# zeros해서 생성한 배열이 있으면 배열의 값을 0으로 채워버린다.\n",
    "b = np.empty((2,3))"
   ]
  },
  {
   "cell_type": "code",
   "execution_count": 74,
   "id": "a0079cff",
   "metadata": {},
   "outputs": [
    {
     "data": {
      "text/plain": [
       "array([[0., 0., 0.],\n",
       "       [0., 0., 0.]])"
      ]
     },
     "execution_count": 74,
     "metadata": {},
     "output_type": "execute_result"
    }
   ],
   "source": [
    "b"
   ]
  },
  {
   "cell_type": "code",
   "execution_count": 75,
   "id": "a55e5541",
   "metadata": {},
   "outputs": [],
   "source": [
    "c= np.empty([2,3])"
   ]
  },
  {
   "cell_type": "code",
   "execution_count": 76,
   "id": "d69f2c06",
   "metadata": {},
   "outputs": [
    {
     "data": {
      "text/plain": [
       "array([[0., 0., 0.],\n",
       "       [0., 0., 0.]])"
      ]
     },
     "execution_count": 76,
     "metadata": {},
     "output_type": "execute_result"
    }
   ],
   "source": [
    "c"
   ]
  },
  {
   "cell_type": "code",
   "execution_count": 77,
   "id": "d00d58a9",
   "metadata": {},
   "outputs": [],
   "source": [
    "d = np.empty((2,5))"
   ]
  },
  {
   "cell_type": "code",
   "execution_count": 78,
   "id": "8ec43d83",
   "metadata": {},
   "outputs": [
    {
     "data": {
      "text/plain": [
       "array([[ 8.77865840e-312,  2.32210854e-322,  0.00000000e+000,\n",
       "         0.00000000e+000, -3.81152633e-032],\n",
       "       [ 1.16095484e-028,  5.28595592e-085,  3.18650134e-110,\n",
       "         2.91237123e+257,  4.71294503e+257]])"
      ]
     },
     "execution_count": 78,
     "metadata": {},
     "output_type": "execute_result"
    }
   ],
   "source": [
    "d"
   ]
  },
  {
   "cell_type": "code",
   "execution_count": 79,
   "id": "e6301d44",
   "metadata": {},
   "outputs": [],
   "source": [
    "m = np.zeros((3,4))"
   ]
  },
  {
   "cell_type": "code",
   "execution_count": 80,
   "id": "716649bd",
   "metadata": {},
   "outputs": [
    {
     "data": {
      "text/plain": [
       "array([[0., 0., 0., 0.],\n",
       "       [0., 0., 0., 0.],\n",
       "       [0., 0., 0., 0.]])"
      ]
     },
     "execution_count": 80,
     "metadata": {},
     "output_type": "execute_result"
    }
   ],
   "source": [
    "m"
   ]
  },
  {
   "cell_type": "code",
   "execution_count": 81,
   "id": "c173e013",
   "metadata": {},
   "outputs": [],
   "source": [
    "n = np.empty((3,4))"
   ]
  },
  {
   "cell_type": "code",
   "execution_count": 82,
   "id": "e45357f0",
   "metadata": {},
   "outputs": [
    {
     "data": {
      "text/plain": [
       "array([[0., 0., 0., 0.],\n",
       "       [0., 0., 0., 0.],\n",
       "       [0., 0., 0., 0.]])"
      ]
     },
     "execution_count": 82,
     "metadata": {},
     "output_type": "execute_result"
    }
   ],
   "source": [
    "n"
   ]
  },
  {
   "cell_type": "code",
   "execution_count": 83,
   "id": "d0ddf3d3",
   "metadata": {},
   "outputs": [],
   "source": [
    "k = np.empty((4,5))"
   ]
  },
  {
   "cell_type": "code",
   "execution_count": 84,
   "id": "8d9940ab",
   "metadata": {},
   "outputs": [
    {
     "data": {
      "text/plain": [
       "array([[8.77865500e-312, 6.27463370e-322, 0.00000000e+000,\n",
       "        0.00000000e+000, 1.89146896e-307],\n",
       "       [5.30276956e+180, 1.02941932e-071, 6.97665885e-076,\n",
       "        5.06479213e-086, 3.35760519e-143],\n",
       "       [6.01433264e+175, 6.93885958e+218, 5.56218858e+180,\n",
       "        3.94356143e+180, 2.76886598e-057],\n",
       "       [2.12746673e+160, 7.39875369e-038, 1.08694577e-071,\n",
       "        4.45785774e-143, 1.50008929e+248]])"
      ]
     },
     "execution_count": 84,
     "metadata": {},
     "output_type": "execute_result"
    }
   ],
   "source": [
    "k"
   ]
  },
  {
   "cell_type": "code",
   "execution_count": 85,
   "id": "84ce042e",
   "metadata": {},
   "outputs": [],
   "source": [
    "p = np.zeros((4,5))"
   ]
  },
  {
   "cell_type": "code",
   "execution_count": 86,
   "id": "9101889b",
   "metadata": {},
   "outputs": [
    {
     "data": {
      "text/plain": [
       "array([[0., 0., 0., 0., 0.],\n",
       "       [0., 0., 0., 0., 0.],\n",
       "       [0., 0., 0., 0., 0.],\n",
       "       [0., 0., 0., 0., 0.]])"
      ]
     },
     "execution_count": 86,
     "metadata": {},
     "output_type": "execute_result"
    }
   ],
   "source": [
    "p"
   ]
  },
  {
   "cell_type": "code",
   "execution_count": 91,
   "id": "052fe1cf",
   "metadata": {},
   "outputs": [],
   "source": [
    "k = np.empty((4,5))"
   ]
  },
  {
   "cell_type": "code",
   "execution_count": 92,
   "id": "03fcf1b0",
   "metadata": {},
   "outputs": [
    {
     "data": {
      "text/plain": [
       "array([[0., 0., 0., 0., 0.],\n",
       "       [0., 0., 0., 0., 0.],\n",
       "       [0., 0., 0., 0., 0.],\n",
       "       [0., 0., 0., 0., 0.]])"
      ]
     },
     "execution_count": 92,
     "metadata": {},
     "output_type": "execute_result"
    }
   ],
   "source": [
    "k"
   ]
  },
  {
   "cell_type": "code",
   "execution_count": 93,
   "id": "cfde5d00",
   "metadata": {},
   "outputs": [],
   "source": [
    "z = np.empty(6)"
   ]
  },
  {
   "cell_type": "code",
   "execution_count": 94,
   "id": "d1f1dce9",
   "metadata": {},
   "outputs": [
    {
     "data": {
      "text/plain": [
       "array([1., 0., 0., 1., 0., 0.])"
      ]
     },
     "execution_count": 94,
     "metadata": {},
     "output_type": "execute_result"
    }
   ],
   "source": [
    "z"
   ]
  },
  {
   "cell_type": "code",
   "execution_count": 97,
   "id": "0f5f0a27",
   "metadata": {},
   "outputs": [],
   "source": [
    "s = np.empty(16)"
   ]
  },
  {
   "cell_type": "code",
   "execution_count": 98,
   "id": "ad089dba",
   "metadata": {},
   "outputs": [
    {
     "data": {
      "text/plain": [
       "array([4.67296746e-307, 1.69121096e-306, 1.69119873e-306, 8.34441742e-308,\n",
       "       1.78022342e-306, 6.23058028e-307, 9.79107872e-307, 6.89807188e-307,\n",
       "       7.56594375e-307, 6.23060065e-307, 1.78021527e-306, 8.34454050e-308,\n",
       "       1.11261027e-306, 1.15706896e-306, 1.33512173e-306, 1.33504432e-306])"
      ]
     },
     "execution_count": 98,
     "metadata": {},
     "output_type": "execute_result"
    }
   ],
   "source": [
    "s"
   ]
  },
  {
   "cell_type": "code",
   "execution_count": 99,
   "id": "009d3702",
   "metadata": {},
   "outputs": [],
   "source": [
    "p = np.zeros((4,4))"
   ]
  },
  {
   "cell_type": "code",
   "execution_count": 100,
   "id": "b23c2af4",
   "metadata": {},
   "outputs": [
    {
     "data": {
      "text/plain": [
       "array([[0., 0., 0., 0.],\n",
       "       [0., 0., 0., 0.],\n",
       "       [0., 0., 0., 0.],\n",
       "       [0., 0., 0., 0.]])"
      ]
     },
     "execution_count": 100,
     "metadata": {},
     "output_type": "execute_result"
    }
   ],
   "source": [
    "p"
   ]
  },
  {
   "cell_type": "code",
   "execution_count": 101,
   "id": "6e0de568",
   "metadata": {},
   "outputs": [],
   "source": [
    "k = np.empty(16)"
   ]
  },
  {
   "cell_type": "code",
   "execution_count": 102,
   "id": "c5358f0c",
   "metadata": {},
   "outputs": [
    {
     "data": {
      "text/plain": [
       "array([0., 0., 0., 0., 0., 0., 0., 0., 0., 0., 0., 0., 0., 0., 0., 0.])"
      ]
     },
     "execution_count": 102,
     "metadata": {},
     "output_type": "execute_result"
    }
   ],
   "source": [
    "k"
   ]
  },
  {
   "cell_type": "markdown",
   "id": "39382bb7",
   "metadata": {},
   "source": [
    "np.ones"
   ]
  },
  {
   "cell_type": "code",
   "execution_count": 103,
   "id": "3d8b59a7",
   "metadata": {},
   "outputs": [],
   "source": [
    "# 1행 3열 배열 생성 한 후 모든 값을 1로 채운다.\n",
    "a = np.ones(3)"
   ]
  },
  {
   "cell_type": "code",
   "execution_count": 104,
   "id": "7ef22616",
   "metadata": {},
   "outputs": [
    {
     "data": {
      "text/plain": [
       "array([1., 1., 1.])"
      ]
     },
     "execution_count": 104,
     "metadata": {},
     "output_type": "execute_result"
    }
   ],
   "source": [
    "a"
   ]
  },
  {
   "cell_type": "code",
   "execution_count": 105,
   "id": "e8642e9b",
   "metadata": {},
   "outputs": [],
   "source": [
    "# 3행4열 배열 생성한 후 모든 값을 1로 채운다.\n",
    "b = np.ones((3,4))"
   ]
  },
  {
   "cell_type": "code",
   "execution_count": 106,
   "id": "73115252",
   "metadata": {},
   "outputs": [
    {
     "data": {
      "text/plain": [
       "array([[1., 1., 1., 1.],\n",
       "       [1., 1., 1., 1.],\n",
       "       [1., 1., 1., 1.]])"
      ]
     },
     "execution_count": 106,
     "metadata": {},
     "output_type": "execute_result"
    }
   ],
   "source": [
    "b"
   ]
  },
  {
   "cell_type": "code",
   "execution_count": 107,
   "id": "678fb101",
   "metadata": {},
   "outputs": [],
   "source": [
    "c = np.ones([3,4])"
   ]
  },
  {
   "cell_type": "code",
   "execution_count": 108,
   "id": "531cb865",
   "metadata": {},
   "outputs": [
    {
     "data": {
      "text/plain": [
       "array([[1., 1., 1., 1.],\n",
       "       [1., 1., 1., 1.],\n",
       "       [1., 1., 1., 1.]])"
      ]
     },
     "execution_count": 108,
     "metadata": {},
     "output_type": "execute_result"
    }
   ],
   "source": [
    "c"
   ]
  },
  {
   "cell_type": "code",
   "execution_count": 110,
   "id": "0b116d1e",
   "metadata": {},
   "outputs": [],
   "source": [
    "# ones로 생성한 값을 그대로 사용을 한다.\n",
    "# 즉, empty의 앞에서 생성한 크기가 있으면 그대로 값을 사용한다.\n",
    "d = np.empty((3,4))"
   ]
  },
  {
   "cell_type": "code",
   "execution_count": 111,
   "id": "46a02817",
   "metadata": {},
   "outputs": [
    {
     "data": {
      "text/plain": [
       "array([[1., 1., 1., 1.],\n",
       "       [1., 1., 1., 1.],\n",
       "       [1., 1., 1., 1.]])"
      ]
     },
     "execution_count": 111,
     "metadata": {},
     "output_type": "execute_result"
    }
   ],
   "source": [
    "d"
   ]
  },
  {
   "cell_type": "code",
   "execution_count": 116,
   "id": "536ae42c",
   "metadata": {},
   "outputs": [],
   "source": [
    "e = np.eye(3,4)"
   ]
  },
  {
   "cell_type": "code",
   "execution_count": 117,
   "id": "82ed4faa",
   "metadata": {},
   "outputs": [
    {
     "data": {
      "text/plain": [
       "array([[1., 0., 0., 0.],\n",
       "       [0., 1., 0., 0.],\n",
       "       [0., 0., 1., 0.]])"
      ]
     },
     "execution_count": 117,
     "metadata": {},
     "output_type": "execute_result"
    }
   ],
   "source": [
    "e"
   ]
  },
  {
   "cell_type": "code",
   "execution_count": 118,
   "id": "5e87e740",
   "metadata": {},
   "outputs": [],
   "source": [
    "f = np.empty((3,4))"
   ]
  },
  {
   "cell_type": "code",
   "execution_count": 119,
   "id": "5b4b779c",
   "metadata": {},
   "outputs": [
    {
     "data": {
      "text/plain": [
       "array([[1., 0., 0., 0.],\n",
       "       [0., 1., 0., 0.],\n",
       "       [0., 0., 1., 0.]])"
      ]
     },
     "execution_count": 119,
     "metadata": {},
     "output_type": "execute_result"
    }
   ],
   "source": [
    "f"
   ]
  },
  {
   "cell_type": "code",
   "execution_count": 120,
   "id": "a02b917a",
   "metadata": {},
   "outputs": [],
   "source": [
    "k = np.identity(3)"
   ]
  },
  {
   "cell_type": "code",
   "execution_count": 121,
   "id": "c399f874",
   "metadata": {},
   "outputs": [
    {
     "data": {
      "text/plain": [
       "array([[1., 0., 0.],\n",
       "       [0., 1., 0.],\n",
       "       [0., 0., 1.]])"
      ]
     },
     "execution_count": 121,
     "metadata": {},
     "output_type": "execute_result"
    }
   ],
   "source": [
    "k"
   ]
  },
  {
   "cell_type": "code",
   "execution_count": 124,
   "id": "3588e1ee",
   "metadata": {},
   "outputs": [],
   "source": [
    "r = np.empty((3,3))"
   ]
  },
  {
   "cell_type": "code",
   "execution_count": 125,
   "id": "b87078d7",
   "metadata": {},
   "outputs": [
    {
     "data": {
      "text/plain": [
       "array([[1., 0., 0.],\n",
       "       [0., 1., 0.],\n",
       "       [0., 0., 1.]])"
      ]
     },
     "execution_count": 125,
     "metadata": {},
     "output_type": "execute_result"
    }
   ],
   "source": [
    "r"
   ]
  },
  {
   "cell_type": "code",
   "execution_count": 126,
   "id": "927be910",
   "metadata": {},
   "outputs": [],
   "source": [
    "u = np.full((3,4), 0) # 0과 1로 되어있더라도 값을 지정하는 것들은 가져오지 않음."
   ]
  },
  {
   "cell_type": "code",
   "execution_count": 127,
   "id": "24a2e232",
   "metadata": {},
   "outputs": [
    {
     "data": {
      "text/plain": [
       "array([[0, 0, 0, 0],\n",
       "       [0, 0, 0, 0],\n",
       "       [0, 0, 0, 0]])"
      ]
     },
     "execution_count": 127,
     "metadata": {},
     "output_type": "execute_result"
    }
   ],
   "source": [
    "u"
   ]
  },
  {
   "cell_type": "code",
   "execution_count": 128,
   "id": "7f44ba82",
   "metadata": {},
   "outputs": [],
   "source": [
    "t = np.empty((3,4))"
   ]
  },
  {
   "cell_type": "code",
   "execution_count": 129,
   "id": "17bacc87",
   "metadata": {},
   "outputs": [
    {
     "data": {
      "text/plain": [
       "array([[1., 0., 0., 0.],\n",
       "       [0., 1., 0., 0.],\n",
       "       [0., 0., 1., 0.]])"
      ]
     },
     "execution_count": 129,
     "metadata": {},
     "output_type": "execute_result"
    }
   ],
   "source": [
    "t"
   ]
  },
  {
   "cell_type": "markdown",
   "id": "f1361290",
   "metadata": {},
   "source": [
    "_like"
   ]
  },
  {
   "cell_type": "code",
   "execution_count": 61,
   "id": "7c032e7f",
   "metadata": {},
   "outputs": [],
   "source": [
    "a = np.array([[1,2,3],[4,5,6]])"
   ]
  },
  {
   "cell_type": "code",
   "execution_count": 62,
   "id": "ae50a56a",
   "metadata": {},
   "outputs": [
    {
     "data": {
      "text/plain": [
       "array([[1, 2, 3],\n",
       "       [4, 5, 6]])"
      ]
     },
     "execution_count": 62,
     "metadata": {},
     "output_type": "execute_result"
    }
   ],
   "source": [
    "a"
   ]
  },
  {
   "cell_type": "code",
   "execution_count": 63,
   "id": "b0ffd03e",
   "metadata": {},
   "outputs": [
    {
     "data": {
      "text/plain": [
       "(2, 3)"
      ]
     },
     "execution_count": 63,
     "metadata": {},
     "output_type": "execute_result"
    }
   ],
   "source": [
    "a.shape"
   ]
  },
  {
   "cell_type": "code",
   "execution_count": 64,
   "id": "47b10993",
   "metadata": {},
   "outputs": [],
   "source": [
    "# _like가 붙으면 shape이 같게 만들어진다.\n",
    "# 연산하기 위해서 shape을 맞춰야하는 경우가 있다.\n",
    "b = np.empty_like(a)"
   ]
  },
  {
   "cell_type": "code",
   "execution_count": 65,
   "id": "0e1a6772",
   "metadata": {},
   "outputs": [
    {
     "data": {
      "text/plain": [
       "array([[1914582736,        733,          0],\n",
       "       [         0,     131075,    7929968]])"
      ]
     },
     "execution_count": 65,
     "metadata": {},
     "output_type": "execute_result"
    }
   ],
   "source": [
    "b"
   ]
  },
  {
   "cell_type": "code",
   "execution_count": 66,
   "id": "0ea67970",
   "metadata": {},
   "outputs": [
    {
     "data": {
      "text/plain": [
       "'1.20.1'"
      ]
     },
     "execution_count": 66,
     "metadata": {},
     "output_type": "execute_result"
    }
   ],
   "source": [
    "np.__version__"
   ]
  },
  {
   "cell_type": "code",
   "execution_count": 67,
   "id": "e73dcf55",
   "metadata": {},
   "outputs": [],
   "source": [
    "a = np.eye(2)"
   ]
  },
  {
   "cell_type": "code",
   "execution_count": 68,
   "id": "b7adb545",
   "metadata": {},
   "outputs": [],
   "source": [
    "b = np.eye(3)"
   ]
  },
  {
   "cell_type": "code",
   "execution_count": 69,
   "id": "9cb98dc6",
   "metadata": {},
   "outputs": [
    {
     "data": {
      "text/plain": [
       "(2, 2)"
      ]
     },
     "execution_count": 69,
     "metadata": {},
     "output_type": "execute_result"
    }
   ],
   "source": [
    "a.shape"
   ]
  },
  {
   "cell_type": "code",
   "execution_count": 70,
   "id": "2e292525",
   "metadata": {},
   "outputs": [
    {
     "data": {
      "text/plain": [
       "(3, 3)"
      ]
     },
     "execution_count": 70,
     "metadata": {},
     "output_type": "execute_result"
    }
   ],
   "source": [
    "b.shape"
   ]
  },
  {
   "cell_type": "code",
   "execution_count": 71,
   "id": "b35f28f7",
   "metadata": {},
   "outputs": [
    {
     "ename": "ValueError",
     "evalue": "operands could not be broadcast together with shapes (2,2) (3,3) ",
     "output_type": "error",
     "traceback": [
      "\u001b[1;31m---------------------------------------------------------------------------\u001b[0m",
      "\u001b[1;31mValueError\u001b[0m                                Traceback (most recent call last)",
      "\u001b[1;32m<ipython-input-71-ca730b97bf8a>\u001b[0m in \u001b[0;36m<module>\u001b[1;34m\u001b[0m\n\u001b[1;32m----> 1\u001b[1;33m \u001b[0ma\u001b[0m\u001b[1;33m+\u001b[0m\u001b[0mb\u001b[0m\u001b[1;33m\u001b[0m\u001b[1;33m\u001b[0m\u001b[0m\n\u001b[0m",
      "\u001b[1;31mValueError\u001b[0m: operands could not be broadcast together with shapes (2,2) (3,3) "
     ]
    }
   ],
   "source": [
    "# ValueError\n",
    "a+b"
   ]
  },
  {
   "cell_type": "code",
   "execution_count": 74,
   "id": "d9806f42",
   "metadata": {},
   "outputs": [],
   "source": [
    "a= np.linspace(0,49) # num = 50"
   ]
  },
  {
   "cell_type": "code",
   "execution_count": 75,
   "id": "5692aa32",
   "metadata": {},
   "outputs": [
    {
     "data": {
      "text/plain": [
       "array([ 0.,  1.,  2.,  3.,  4.,  5.,  6.,  7.,  8.,  9., 10., 11., 12.,\n",
       "       13., 14., 15., 16., 17., 18., 19., 20., 21., 22., 23., 24., 25.,\n",
       "       26., 27., 28., 29., 30., 31., 32., 33., 34., 35., 36., 37., 38.,\n",
       "       39., 40., 41., 42., 43., 44., 45., 46., 47., 48., 49.])"
      ]
     },
     "execution_count": 75,
     "metadata": {},
     "output_type": "execute_result"
    }
   ],
   "source": [
    "a"
   ]
  },
  {
   "cell_type": "code",
   "execution_count": 76,
   "id": "12a3d085",
   "metadata": {},
   "outputs": [
    {
     "data": {
      "text/plain": [
       "50"
      ]
     },
     "execution_count": 76,
     "metadata": {},
     "output_type": "execute_result"
    }
   ],
   "source": [
    "len(a)"
   ]
  },
  {
   "cell_type": "code",
   "execution_count": 77,
   "id": "282ec452",
   "metadata": {},
   "outputs": [
    {
     "data": {
      "text/plain": [
       "array([ 1. ,  5.5, 10. ])"
      ]
     },
     "execution_count": 77,
     "metadata": {},
     "output_type": "execute_result"
    }
   ],
   "source": [
    "# 1부터 10까지 3개의 요소를 생성\n",
    "# 기본은 endpoint=True로 설정되어 있기 때문에 10이 포함이 된다.\n",
    "np.linspace(1,10,3)"
   ]
  },
  {
   "cell_type": "code",
   "execution_count": 78,
   "id": "f179dc76",
   "metadata": {},
   "outputs": [
    {
     "data": {
      "text/plain": [
       "array([1., 4., 7.])"
      ]
     },
     "execution_count": 78,
     "metadata": {},
     "output_type": "execute_result"
    }
   ],
   "source": [
    "# 1부터 10미만 사이에서 3개의 요소를생성한다.\n",
    "# endpoint = False로 설정되어 있으므로 10이 포함이 안된다.\n",
    "np.linspace(1, 10, 3, endpoint=False)"
   ]
  },
  {
   "cell_type": "code",
   "execution_count": 79,
   "id": "85d93ff0",
   "metadata": {},
   "outputs": [
    {
     "data": {
      "text/plain": [
       "array([1.  , 3.25, 5.5 , 7.75])"
      ]
     },
     "execution_count": 79,
     "metadata": {},
     "output_type": "execute_result"
    }
   ],
   "source": [
    "np.linspace(1, 10, 4, endpoint=False)"
   ]
  },
  {
   "cell_type": "code",
   "execution_count": 94,
   "id": "bf2c1acb",
   "metadata": {},
   "outputs": [],
   "source": [
    "# linspace와 비슷하다.\n",
    "# 1부터 50까지 10개의 로그스케일 요소를 생성\n",
    "a = np.logspace(1, 50, 10)"
   ]
  },
  {
   "cell_type": "code",
   "execution_count": 95,
   "id": "7d4a1cdb",
   "metadata": {},
   "outputs": [
    {
     "data": {
      "text/plain": [
       "array([1.00000000e+01, 2.78255940e+06, 7.74263683e+11, 2.15443469e+17,\n",
       "       5.99484250e+22, 1.66810054e+28, 4.64158883e+33, 1.29154967e+39,\n",
       "       3.59381366e+44, 1.00000000e+50])"
      ]
     },
     "execution_count": 95,
     "metadata": {},
     "output_type": "execute_result"
    }
   ],
   "source": [
    "a"
   ]
  },
  {
   "cell_type": "markdown",
   "id": "9b207f4d",
   "metadata": {},
   "source": [
    "dtype\n",
    "\n",
    "numpy는 c를 기반으로 해서 만들었기 때문에 C의  데이터 타입을 차용할 수 있다."
   ]
  },
  {
   "cell_type": "code",
   "execution_count": 83,
   "id": "67f17c76",
   "metadata": {},
   "outputs": [],
   "source": [
    "a = np.array([1,2,3], dtype = np.int8)"
   ]
  },
  {
   "cell_type": "code",
   "execution_count": 84,
   "id": "bbef4454",
   "metadata": {},
   "outputs": [
    {
     "data": {
      "text/plain": [
       "array([1, 2, 3], dtype=int8)"
      ]
     },
     "execution_count": 84,
     "metadata": {},
     "output_type": "execute_result"
    }
   ],
   "source": [
    "a"
   ]
  },
  {
   "cell_type": "code",
   "execution_count": 85,
   "id": "79550bcf",
   "metadata": {},
   "outputs": [
    {
     "data": {
      "text/plain": [
       "numpy.ndarray"
      ]
     },
     "execution_count": 85,
     "metadata": {},
     "output_type": "execute_result"
    }
   ],
   "source": [
    "type(a)"
   ]
  },
  {
   "cell_type": "code",
   "execution_count": 86,
   "id": "aa794e78",
   "metadata": {},
   "outputs": [
    {
     "data": {
      "text/plain": [
       "numpy.int8"
      ]
     },
     "execution_count": 86,
     "metadata": {},
     "output_type": "execute_result"
    }
   ],
   "source": [
    "type(a[0])"
   ]
  },
  {
   "cell_type": "code",
   "execution_count": 92,
   "id": "aa50e057",
   "metadata": {},
   "outputs": [],
   "source": [
    "# np.int8은 -128 ~ 127 사이의 값을 저장할 수 있다. (2^8 = 256개)\n",
    "b = np.array([129, 128, 127, 2, 3, -127, -128, -129], dtype=np.int8)  "
   ]
  },
  {
   "cell_type": "code",
   "execution_count": 93,
   "id": "8f277ea7",
   "metadata": {},
   "outputs": [
    {
     "data": {
      "text/plain": [
       "array([-127, -128,  127,    2,    3, -127, -128,  127], dtype=int8)"
      ]
     },
     "execution_count": 93,
     "metadata": {},
     "output_type": "execute_result"
    }
   ],
   "source": [
    "b"
   ]
  },
  {
   "cell_type": "code",
   "execution_count": 89,
   "id": "4db9f5bb",
   "metadata": {},
   "outputs": [
    {
     "data": {
      "text/plain": [
       "numpy.int32"
      ]
     },
     "execution_count": 89,
     "metadata": {},
     "output_type": "execute_result"
    }
   ],
   "source": [
    "type(b[0])"
   ]
  },
  {
   "cell_type": "code",
   "execution_count": 96,
   "id": "b5346fce",
   "metadata": {},
   "outputs": [],
   "source": [
    "c = np.array([127, 2, 3, -127, -128], dtype=int)"
   ]
  },
  {
   "cell_type": "code",
   "execution_count": 97,
   "id": "911ccd69",
   "metadata": {},
   "outputs": [
    {
     "data": {
      "text/plain": [
       "array([ 127,    2,    3, -127, -128])"
      ]
     },
     "execution_count": 97,
     "metadata": {},
     "output_type": "execute_result"
    }
   ],
   "source": [
    "c"
   ]
  },
  {
   "cell_type": "code",
   "execution_count": 98,
   "id": "7127f1e6",
   "metadata": {},
   "outputs": [
    {
     "data": {
      "text/plain": [
       "numpy.int32"
      ]
     },
     "execution_count": 98,
     "metadata": {},
     "output_type": "execute_result"
    }
   ],
   "source": [
    "type(c[0])"
   ]
  },
  {
   "cell_type": "code",
   "execution_count": 99,
   "id": "f0875bae",
   "metadata": {},
   "outputs": [],
   "source": [
    "# 문자열 표현으로 쓸 수 있다.\n",
    "d = np.array([267, 8, 4], dtype='i8')"
   ]
  },
  {
   "cell_type": "code",
   "execution_count": 100,
   "id": "bf93d98b",
   "metadata": {},
   "outputs": [
    {
     "data": {
      "text/plain": [
       "array([267,   8,   4], dtype=int64)"
      ]
     },
     "execution_count": 100,
     "metadata": {},
     "output_type": "execute_result"
    }
   ],
   "source": [
    "d"
   ]
  },
  {
   "cell_type": "code",
   "execution_count": 101,
   "id": "692c711d",
   "metadata": {},
   "outputs": [
    {
     "data": {
      "text/plain": [
       "numpy.int64"
      ]
     },
     "execution_count": 101,
     "metadata": {},
     "output_type": "execute_result"
    }
   ],
   "source": [
    "type(d[0])"
   ]
  },
  {
   "cell_type": "markdown",
   "id": "b68f78fd",
   "metadata": {},
   "source": [
    "python의 도움말"
   ]
  },
  {
   "cell_type": "code",
   "execution_count": 102,
   "id": "0165693d",
   "metadata": {},
   "outputs": [],
   "source": [
    "?sum"
   ]
  },
  {
   "cell_type": "code",
   "execution_count": 103,
   "id": "71c65330",
   "metadata": {},
   "outputs": [
    {
     "name": "stdout",
     "output_type": "stream",
     "text": [
      "Help on built-in function sum in module builtins:\n",
      "\n",
      "sum(iterable, /, start=0)\n",
      "    Return the sum of a 'start' value (default: 0) plus an iterable of numbers\n",
      "    \n",
      "    When the iterable is empty, return the start value.\n",
      "    This function is intended specifically for use with numeric values and may\n",
      "    reject non-numeric types.\n",
      "\n"
     ]
    }
   ],
   "source": [
    "help(sum)"
   ]
  },
  {
   "cell_type": "code",
   "execution_count": 104,
   "id": "7bc980e8",
   "metadata": {},
   "outputs": [
    {
     "data": {
      "text/plain": [
       "<function sum(iterable, /, start=0)>"
      ]
     },
     "execution_count": 104,
     "metadata": {},
     "output_type": "execute_result"
    }
   ],
   "source": [
    "# jupyter도움말 : shift + tab\n",
    "sum"
   ]
  },
  {
   "cell_type": "code",
   "execution_count": 106,
   "id": "20388aa4",
   "metadata": {},
   "outputs": [
    {
     "name": "stdout",
     "output_type": "stream",
     "text": [
      "Search results for 'sum'\n",
      "------------------------\n",
      "numpy.sum\n",
      "    Sum of array elements over a given axis.\n",
      "numpy.cumsum\n",
      "    Return the cumulative sum of the elements along a given axis.\n",
      "numpy.einsum\n",
      "    einsum(subscripts, *operands, out=None, dtype=None, order='K',\n",
      "numpy.nansum\n",
      "    Return the sum of array elements over a given axis treating Not a\n",
      "numpy.nancumsum\n",
      "    Return the cumulative sum of array elements over a given axis treating Not a\n",
      "numpy.einsum_path\n",
      "    Evaluates the lowest cost contraction order for an einsum expression by\n",
      "numpy.trace\n",
      "    Return the sum along diagonals of the array.\n",
      "numpy.ma.sum\n",
      "    Return the sum of the array elements over the given axis.\n",
      "numpy.Bytes0.sum\n",
      "    Scalar method identical to the corresponding array attribute.\n",
      "numpy.polyadd\n",
      "    Find the sum of two polynomials.\n",
      "numpy.ma.cumsum\n",
      "    Return the cumulative sum of the array elements over the given axis.\n",
      "numpy.logaddexp\n",
      "    Logarithm of the sum of exponentiations of the inputs.\n",
      "numpy.Bytes0.cumsum\n",
      "    Scalar method identical to the corresponding array attribute.\n",
      "numpy.logaddexp2\n",
      "    Logarithm of the sum of exponentiations of the inputs in base-2.\n",
      "numpy.matrix.sum\n",
      "    Returns the sum of the matrix elements, along the given axis.\n",
      "numpy.chararray.sum\n",
      "    Return the sum of the array elements over the given axis.\n",
      "numpy.mask_indices\n",
      "    Return the indices to access (n, n) arrays, given a masking function.\n",
      "numpy.chararray.cumsum\n",
      "    Return the cumulative sum of the elements along the given axis.\n",
      "numpy.Str0.expandtabs\n",
      "    Return a copy where all tab characters are expanded using spaces.\n",
      "numpy.chararray.trace\n",
      "    Return the sum along diagonals of the array.\n",
      "numpy.Bytes0.expandtabs\n",
      "    Return a copy where all tab characters are expanded using spaces.\n",
      "numpy.format_float_positional\n",
      "    Format a floating-point scalar as a decimal string in positional notation.\n",
      "numpy.format_float_scientific\n",
      "    Format a floating-point scalar as a decimal string in scientific notation.\n",
      "numpy.linalg.tensorsolve\n",
      "    Solve the tensor equation ``a x = b`` for x.\n",
      "numpy.ma.MaskedArray.sum\n",
      "    Return the sum of the array elements over the given axis.\n",
      "numpy.ma.MaskedArray.cumsum\n",
      "    Return the cumulative sum of the array elements over the given axis.\n",
      "numpy.core._umath_tests.cumsum\n",
      "    Cumulative sum of the input (n)->(n)\n",
      "numpy.ma.MaskedArray.trace\n",
      "    Return the sum along diagonals of the array.\n",
      "numpy.core._multiarray_umath.c_einsum\n",
      "    c_einsum(subscripts, *operands, out=None, dtype=None, order='K',\n",
      "numpy.polynomial.Hermite._add\n",
      "    Add one Hermite series to another.\n",
      "numpy.polynomial.HermiteE._add\n",
      "    Add one Hermite series to another.\n",
      "numpy.polynomial.Laguerre._add\n",
      "    Add one Laguerre series to another.\n",
      "numpy.polynomial.Legendre._add\n",
      "    Add one Legendre series to another.\n",
      "numpy.polynomial.Chebyshev._add\n",
      "    Add one Chebyshev series to another.\n",
      "numpy.polynomial.Polynomial._add\n",
      "    Add one polynomial to another.\n",
      "numpy.AxisError.__class__.__sizeof__\n",
      "    Return memory consumption of the type object.\n",
      "numpy.add\n",
      "    Add arguments element-wise.\n",
      "numpy.cov\n",
      "    Estimate a covariance matrix, given data and weights.\n",
      "numpy.dot\n",
      "    Dot product of two arrays. Specifically,\n",
      "numpy.std\n",
      "    Compute the standard deviation along the specified axis.\n",
      "numpy.var\n",
      "    Compute the variance along the specified axis.\n",
      "numpy.diag\n",
      "    Extract a diagonal or construct a diagonal array.\n",
      "numpy.diff\n",
      "    Calculate the n-th discrete difference along the given axis.\n",
      "numpy.in1d\n",
      "    Test whether each element of a 1-D array is also present in a second array.\n",
      "numpy.isin\n",
      "    Calculates `element in test_elements`, broadcasting over `element` only.\n",
      "numpy.kron\n",
      "    Kronecker product of two arrays.\n",
      "numpy.core.setup_common.get_api_versions\n",
      "    Return current C API checksum and the recorded checksum.\n",
      "numpy.mean\n",
      "    Compute the arithmetic mean along the specified axis.\n",
      "numpy.poly\n",
      "    Find the coefficients of a polynomial with the given sequence of roots.\n",
      "numpy.cross\n",
      "    Return the cross product of two (arrays of) vectors.\n",
      "numpy.inner\n",
      "    Inner product of two arrays.\n",
      "numpy.outer\n",
      "    Compute the outer product of two vectors.\n",
      "numpy.roots\n",
      "    Return the roots of a polynomial with coefficients given in p.\n",
      "numpy.trapz\n",
      "    Integrate along the given axis using the composite trapezoidal rule.\n",
      "numpy.choose\n",
      "    Construct an array from an index array and a set of arrays to choose from.\n",
      "numpy.matmul\n",
      "    Matrix product of two arrays.\n",
      "numpy.nanstd\n",
      "    Compute the standard deviation along the specified axis, while\n",
      "numpy.nanvar\n",
      "    Compute the variance along the specified axis, while ignoring NaNs.\n",
      "numpy.nditer\n",
      "    Efficient multi-dimensional iterator object to iterate over arrays.\n",
      "numpy.poly1d\n",
      "    A one-dimensional polynomial class.\n",
      "numpy.average\n",
      "    Compute the weighted average along the specified axis.\n",
      "numpy.isclose\n",
      "    Returns a boolean array where two arrays are element-wise equal within a\n",
      "numpy.nanmean\n",
      "    Compute the arithmetic mean along the specified axis, ignoring NaNs.\n",
      "numpy.nanprod\n",
      "    Return the product of array elements over a given axis treating Not a\n",
      "numpy.polyder\n",
      "    Return the derivative of the specified order of a polynomial.\n",
      "numpy.polydiv\n",
      "    Returns the quotient and remainder of polynomial division.\n",
      "numpy.polyfit\n",
      "    Least squares polynomial fit.\n",
      "numpy.polyint\n",
      "    Return an antiderivative (indefinite integral) of a polynomial.\n",
      "numpy.polymul\n",
      "    Find the product of two polynomials.\n",
      "numpy.polysub\n",
      "    Difference (subtraction) of two polynomials.\n",
      "numpy.polyval\n",
      "    Evaluate a polynomial at specific values.\n",
      "numpy.bincount\n",
      "    Count number of occurrences of each value in array of non-negative ints.\n",
      "numpy.blackman\n",
      "    Return the Blackman window.\n",
      "numpy.convolve\n",
      "    Returns the discrete, linear convolution of two one-dimensional sequences.\n",
      "numpy.diagflat\n",
      "    Create a two-dimensional array with the flattened input as a diagonal.\n",
      "numpy.diagonal\n",
      "    Return specified diagonals.\n",
      "numpy.gradient\n",
      "    Return the gradient of an N-dimensional array.\n",
      "numpy.setxor1d\n",
      "    Find the set exclusive-or of two arrays.\n",
      "numpy.correlate\n",
      "    Cross-correlation of two 1-dimensional sequences.\n",
      "numpy.histogram\n",
      "    Compute the histogram of a set of data.\n",
      "numpy.piecewise\n",
      "    Evaluate a piecewise-defined function.\n",
      "numpy.setdiff1d\n",
      "    Find the set difference of two arrays.\n",
      "numpy.tensordot\n",
      "    Compute tensor dot product along specified axes.\n",
      "numpy.vectorize\n",
      "    vectorize(pyfunc, otypes=None, doc=None, excluded=None, cache=False,\n",
      "numpy.histogram2d\n",
      "    Compute the bi-dimensional histogram of two data samples.\n",
      "numpy.histogramdd\n",
      "    Compute the multidimensional histogram of some data.\n",
      "numpy.intersect1d\n",
      "    Find the intersection of two arrays.\n",
      "numpy.ma.add\n",
      "    Add arguments element-wise.\n",
      "numpy.array2string\n",
      "    Return a string representation of an array.\n",
      "numpy.ma.var\n",
      "    Compute the variance along the specified axis.\n",
      "numpy.lib.tests.test_utils.old_func4\n",
      "    Summary.\n",
      "numpy.lib.tests.test_utils.old_func5\n",
      "    Summary.\n",
      "numpy.searchsorted\n",
      "    Find indices where elements should be inserted to maintain order.\n",
      "numpy.fft.hfft\n",
      "    Compute the FFT of a signal that has Hermitian symmetry, i.e., a real\n",
      "numpy.fft.ifft\n",
      "    Compute the one-dimensional inverse discrete Fourier Transform.\n",
      "numpy.fft.irfft\n",
      "    Computes the inverse of `rfft`.\n",
      "numpy.ma.inner\n",
      "    Inner product of two arrays.\n",
      "numpy.ma.outer\n",
      "    Compute the outer product of two vectors.\n",
      "numpy.ma.trace\n",
      "    a.trace(offset=0, axis1=0, axis2=1, dtype=None, out=None)\n",
      "numpy.apply_over_axes\n",
      "    Apply a function repeatedly over multiple axes.\n",
      "numpy.fft.irfftn\n",
      "    Computes the inverse of `rfftn`.\n",
      "numpy.linalg.svd\n",
      "    Singular Value Decomposition.\n",
      "numpy.ma.average\n",
      "    Return the weighted average of array over the given axis.\n",
      "numpy.ma.polyfit\n",
      "    Least squares polynomial fit.\n",
      "numpy.set_printoptions\n",
      "    Set printing options.\n",
      "numpy.linalg.cond\n",
      "    Compute the condition number of a matrix.\n",
      "numpy.linalg.norm\n",
      "    Matrix or vector norm.\n",
      "numpy.linalg.pinv\n",
      "    Compute the (Moore-Penrose) pseudo-inverse of a matrix.\n",
      "numpy.ma.convolve\n",
      "    Returns the discrete, linear convolution of two one-dimensional sequences.\n",
      "numpy.ma.diagflat\n",
      "    Create a two-dimensional array with the flattened input as a diagonal.\n",
      "numpy.linalg.lstsq\n",
      "    Return the least-squares solution to a linear matrix equation.\n",
      "numpy.random.PCG64\n",
      "    BitGenerator for the PCG-64 pseudo-random number generator.\n",
      "numpy.random.SFC64\n",
      "    BitGenerator for Chris Doty-Humphrey's Small Fast Chaotic PRNG.\n",
      "numpy.ufunc.reduce\n",
      "    Reduces `array`'s dimension by one, by applying ufunc along one axis.\n",
      "numpy.histogram_bin_edges\n",
      "    Function to calculate only the edges of the bins used by the `histogram`\n",
      "numpy.random.Philox\n",
      "    Container for the Philox (4x64) pseudo-random number generator.\n",
      "numpy.random.MT19937\n",
      "    Container for the Mersenne Twister pseudo-random number generator.\n",
      "numpy.ufunc.reduceat\n",
      "    Performs a (local) reduce with specified slices over a single axis.\n",
      "numpy.linalg.multi_dot\n",
      "    Compute the dot product of two or more arrays in a single function call,\n",
      "numpy.linalg.tensorinv\n",
      "    Compute the 'inverse' of an N-dimensional array.\n",
      "numpy.ufunc.accumulate\n",
      "    Accumulate the result of applying the operator to all elements.\n",
      "numpy.linalg.matrix_rank\n",
      "    Return matrix rank of array using SVD method\n",
      "numpy.ma.apply_over_axes\n",
      "    Apply a function repeatedly over multiple axes.\n",
      "numpy.ma.MaskedArray.var\n",
      "    Compute the variance along the specified axis.\n",
      "numpy.random.Generator.f\n",
      "    Draw samples from an F distribution.\n",
      "numpy.distutils.command.sdist.sdist.write_manifest\n",
      "    Write the file list in 'self.filelist' (presumably as filled in\n",
      "numpy.random.RandomState.f\n",
      "    Draw samples from an F distribution.\n",
      "numpy.random.MT19937.jumped\n",
      "    Returns a new bit generator with the state jumped\n",
      "numpy.polynomial.Hermite.fit\n",
      "    Least squares fit to data.\n",
      "numpy.polynomial.Hermite._fit\n",
      "    Least squares fit of Hermite series to data.\n",
      "numpy.core._multiarray_umath.dot\n",
      "    Dot product of two arrays. Specifically,\n",
      "numpy.polynomial.HermiteE.fit\n",
      "    Least squares fit to data.\n",
      "numpy.polynomial.Laguerre.fit\n",
      "    Least squares fit to data.\n",
      "numpy.polynomial.Legendre.fit\n",
      "    Least squares fit to data.\n",
      "numpy.random.Generator.choice\n",
      "    Generates a random sample from a given 1-D array\n",
      "numpy.polynomial.Chebyshev.fit\n",
      "    Least squares fit to data.\n",
      "numpy.polynomial.HermiteE._fit\n",
      "    Least squares fit of Hermite series to data.\n",
      "numpy.polynomial.Laguerre._fit\n",
      "    Least squares fit of Laguerre series to data.\n",
      "numpy.polynomial.Legendre._fit\n",
      "    Least squares fit of Legendre series to data.\n",
      "numpy.polynomial.Chebyshev._fit\n",
      "    Least squares fit of Chebyshev series to data.\n",
      "numpy.polynomial.Hermite._roots\n",
      "    Compute the roots of a Hermite series.\n",
      "numpy.core._multiarray_umath.inner\n",
      "    Inner product of two arrays.\n",
      "numpy.polynomial.Polynomial.fit\n",
      "    Least squares fit to data.\n",
      "numpy.random.Generator.binomial\n",
      "    Draw samples from a binomial distribution.\n",
      "numpy.random.Generator.logistic\n",
      "    Draw samples from a logistic distribution.\n",
      "numpy.random.Generator.rayleigh\n",
      "    Draw samples from a Rayleigh distribution.\n",
      "numpy.random.RandomState.choice\n",
      "    Generates a random sample from a given 1-D array\n",
      "numpy.polynomial.HermiteE._roots\n",
      "    Compute the roots of a HermiteE series.\n",
      "numpy.polynomial.Laguerre._roots\n",
      "    Compute the roots of a Laguerre series.\n",
      "numpy.polynomial.Legendre._roots\n",
      "    Compute the roots of a Legendre series.\n",
      "numpy.polynomial.Polynomial._fit\n",
      "    Least-squares fit of a polynomial to data.\n",
      "numpy.random.Generator.chisquare\n",
      "    Draw samples from a chi-square distribution.\n",
      "numpy.random.Generator.dirichlet\n",
      "    Draw samples from the Dirichlet distribution.\n",
      "numpy.random.Generator.geometric\n",
      "    Draw samples from the geometric distribution.\n",
      "numpy.random.Generator.lognormal\n",
      "    Draw samples from a log-normal distribution.\n",
      "numpy.polynomial.Chebyshev._roots\n",
      "    Compute the roots of a Chebyshev series.\n",
      "numpy.random.Generator.standard_t\n",
      "    Draw samples from a standard Student's t distribution with `df` degrees\n",
      "numpy.random.RandomState.binomial\n",
      "    Draw samples from a binomial distribution.\n",
      "numpy.random.RandomState.logistic\n",
      "    Draw samples from a logistic distribution.\n",
      "numpy.random.RandomState.rayleigh\n",
      "    Draw samples from a Rayleigh distribution.\n",
      "numpy.core._multiarray_umath.bincount\n",
      "    Count number of occurrences of each value in array of non-negative ints.\n",
      "numpy.polynomial.Polynomial._roots\n",
      "    Compute the roots of a polynomial.\n",
      "numpy.polynomial.hermite.hermval2d\n",
      "    Evaluate a 2-D Hermite series at points (x, y).\n",
      "numpy.polynomial.hermite.hermval3d\n",
      "    Evaluate a 3-D Hermite series at points (x, y, z).\n",
      "numpy.polynomial.laguerre.lagval2d\n",
      "    Evaluate a 2-D Laguerre series at points (x, y).\n",
      "numpy.polynomial.laguerre.lagval3d\n",
      "    Evaluate a 3-D Laguerre series at points (x, y, z).\n",
      "numpy.polynomial.legendre.legval2d\n",
      "    Evaluate a 2-D Legendre series at points (x, y).\n",
      "numpy.polynomial.legendre.legval3d\n",
      "    Evaluate a 3-D Legendre series at points (x, y, z).\n",
      "numpy.random.Generator.multinomial\n",
      "    Draw samples from a multinomial distribution.\n",
      "numpy.random.RandomState.chisquare\n",
      "    Draw samples from a chi-square distribution.\n",
      "numpy.random.RandomState.dirichlet\n",
      "    Draw samples from the Dirichlet distribution.\n",
      "numpy.random.RandomState.geometric\n",
      "    Draw samples from the geometric distribution.\n",
      "numpy.random.RandomState.lognormal\n",
      "    Draw samples from a log-normal distribution.\n",
      "numpy.random.RandomState.set_state\n",
      "    set_state(state)\n",
      "numpy.polynomial.hermite.hermgrid2d\n",
      "    Evaluate a 2-D Hermite series on the Cartesian product of x and y.\n",
      "numpy.polynomial.hermite.hermgrid3d\n",
      "    Evaluate a 3-D Hermite series on the Cartesian product of x, y, and z.\n",
      "numpy.polynomial.laguerre.laggrid2d\n",
      "    Evaluate a 2-D Laguerre series on the Cartesian product of x and y.\n",
      "numpy.polynomial.laguerre.laggrid3d\n",
      "    Evaluate a 3-D Laguerre series on the Cartesian product of x, y, and z.\n",
      "numpy.polynomial.legendre.leggrid2d\n",
      "    Evaluate a 2-D Legendre series on the Cartesian product of x and y.\n",
      "numpy.polynomial.legendre.leggrid3d\n",
      "    Evaluate a 3-D Legendre series on the Cartesian product of x, y, and z.\n",
      "numpy.random.Generator.noncentral_f\n",
      "    Draw samples from the noncentral F distribution.\n",
      "numpy.random.RandomState.standard_t\n",
      "    Draw samples from a standard Student's t distribution with `df` degrees\n",
      "numpy.polynomial.chebyshev.chebval2d\n",
      "    Evaluate a 2-D Chebyshev series at points (x, y).\n",
      "numpy.polynomial.chebyshev.chebval3d\n",
      "    Evaluate a 3-D Chebyshev series at points (x, y, z).\n",
      "numpy.random.RandomState.multinomial\n",
      "    Draw samples from a multinomial distribution.\n",
      "numpy.polynomial.chebyshev.chebgrid2d\n",
      "    Evaluate a 2-D Chebyshev series on the Cartesian product of x and y.\n",
      "numpy.polynomial.chebyshev.chebgrid3d\n",
      "    Evaluate a 3-D Chebyshev series on the Cartesian product of x, y, and z.\n",
      "numpy.polynomial.hermite_e.hermeval2d\n",
      "    Evaluate a 2-D HermiteE series at points (x, y).\n",
      "numpy.polynomial.hermite_e.hermeval3d\n",
      "    Evaluate a 3-D Hermite_e series at points (x, y, z).\n",
      "numpy.polynomial.polynomial.polyval2d\n",
      "    Evaluate a 2-D polynomial at points (x, y).\n",
      "numpy.polynomial.polynomial.polyval3d\n",
      "    Evaluate a 3-D polynomial at points (x, y, z).\n",
      "numpy.random.Generator.hypergeometric\n",
      "    Draw samples from a Hypergeometric distribution.\n",
      "numpy.random.RandomState.noncentral_f\n",
      "    Draw samples from the noncentral F distribution.\n",
      "numpy.polynomial.hermite_e.hermegrid2d\n",
      "    Evaluate a 2-D HermiteE series on the Cartesian product of x and y.\n",
      "numpy.polynomial.hermite_e.hermegrid3d\n",
      "    Evaluate a 3-D HermiteE series on the Cartesian product of x, y, and z.\n",
      "numpy.polynomial.polynomial.polygrid2d\n",
      "    Evaluate a 2-D polynomial on the Cartesian product of x and y.\n",
      "numpy.polynomial.polynomial.polygrid3d\n",
      "    Evaluate a 3-D polynomial on the Cartesian product of x, y and z.\n",
      "numpy.random.Generator.standard_cauchy\n",
      "    Draw samples from a standard Cauchy distribution with mode = 0.\n",
      "numpy.distutils.command.build_clib.build_clib.check_library_list\n",
      "    Ensure that the list of libraries is valid.\n",
      "numpy.distutils.command.build_ext.build_ext.check_extensions_list\n",
      "    Ensure that the list of extensions (presumably provided as a\n",
      "numpy.random.RandomState.hypergeometric\n",
      "    Draw samples from a Hypergeometric distribution.\n",
      "numpy.lib.recfunctions.apply_along_fields\n",
      "    Apply function 'func' as a reduction across fields of a structured array.\n",
      "numpy.random.Generator.negative_binomial\n",
      "    Draw samples from a negative binomial distribution.\n",
      "numpy.distutils.command.develop.develop.create_index.__getitem__\n",
      "    Return a newest-to-oldest list of distributions for `project_name`\n",
      "numpy.testing._private.noseclasses.NumpyDocTestFinder._find_lineno\n",
      "    Return a line number of the given object's docstring.  Note:\n",
      "numpy.random.RandomState.random_integers\n",
      "    Random integers of type `np.int_` between `low` and `high`, inclusive.\n",
      "numpy.random.RandomState.standard_cauchy\n",
      "    Draw samples from a standard Cauchy distribution with mode = 0.\n",
      "numpy.random.RandomState.negative_binomial\n",
      "    Draw samples from a negative binomial distribution.\n",
      "numpy.random.Generator.noncentral_chisquare\n",
      "    Draw samples from a noncentral chi-square distribution.\n",
      "numpy.random.RandomState.noncentral_chisquare\n",
      "    Draw samples from a noncentral chi-square distribution.\n",
      "numpy.random.Generator.multivariate_hypergeometric\n",
      "    multivariate_hypergeometric(colors, nsample, size=None,\n",
      "numpy.distutils.misc_util.Configuration.set_options\n",
      "    Configure Configuration instance.\n",
      "numpy.distutils.misc_util.Configuration.add_subpackage\n",
      "    Add a sub-package to the current Configuration instance.\n",
      "numpy.distutils.misc_util.Configuration.get_subpackage\n",
      "    Return list of subpackage configurations.\n",
      "numpy.distutils.ccompiler_opt.CCompilerOpt.feature_ahead\n",
      "    Return list of features in 'names' after remove any\n",
      "numpy.distutils.ccompiler_opt.CCompilerOpt.feature_untied\n",
      "    same as 'feature_ahead()' but if both features implied each other\n",
      "numpy.distutils.misc_util.Configuration.add_npy_pkg_config\n",
      "    Generate and install a npy-pkg config file from a template.\n",
      "numpy.linalg.tests.test_deprecations.test_qr_mode_full_future_warning\n",
      "    Check mode='full' FutureWarning.\n",
      "numpy.distutils.tests.test_ccompiler_opt_conf.TestConfFeatures.subTest\n",
      "    Return a context manager that will return the enclosed block"
     ]
    }
   ],
   "source": [
    "np.lookfor('sum')"
   ]
  },
  {
   "cell_type": "code",
   "execution_count": 107,
   "id": "d0ee8805",
   "metadata": {},
   "outputs": [],
   "source": [
    "a = np.array([[1,2,3],[4,5,6]])"
   ]
  },
  {
   "cell_type": "code",
   "execution_count": 109,
   "id": "0a5872f0",
   "metadata": {},
   "outputs": [
    {
     "data": {
      "text/plain": [
       "(2, 3)"
      ]
     },
     "execution_count": 109,
     "metadata": {},
     "output_type": "execute_result"
    }
   ],
   "source": [
    "# array의 shape을 알려준다.\n",
    "a.shape"
   ]
  },
  {
   "cell_type": "code",
   "execution_count": 110,
   "id": "ff91eb44",
   "metadata": {},
   "outputs": [
    {
     "data": {
      "text/plain": [
       "2"
      ]
     },
     "execution_count": 110,
     "metadata": {},
     "output_type": "execute_result"
    }
   ],
   "source": [
    "# 몇 차원인지 알려준다.\n",
    "# shape로도 알 수 있다.\n",
    "a.ndim"
   ]
  },
  {
   "cell_type": "code",
   "execution_count": 112,
   "id": "e55735e2",
   "metadata": {},
   "outputs": [
    {
     "data": {
      "text/plain": [
       "dtype('int32')"
      ]
     },
     "execution_count": 112,
     "metadata": {},
     "output_type": "execute_result"
    }
   ],
   "source": [
    "# 데이터 타입을 알려준다.\n",
    "a.dtype"
   ]
  },
  {
   "cell_type": "code",
   "execution_count": 114,
   "id": "ce6e61d4",
   "metadata": {},
   "outputs": [
    {
     "data": {
      "text/plain": [
       "6"
      ]
     },
     "execution_count": 114,
     "metadata": {},
     "output_type": "execute_result"
    }
   ],
   "source": [
    "# 요소의 개수를 알려준다.\n",
    "# shape만 있으면 알 수 있다.\n",
    "a.size"
   ]
  },
  {
   "cell_type": "code",
   "execution_count": 115,
   "id": "5b26aa83",
   "metadata": {},
   "outputs": [
    {
     "data": {
      "text/plain": [
       "4"
      ]
     },
     "execution_count": 115,
     "metadata": {},
     "output_type": "execute_result"
    }
   ],
   "source": [
    "# 요소당 byte 수를 알려준다.\n",
    "# dtype을 8ㄹ 나누면 itemsize가 된다. dtype만 있으면 알 수 있다.\n",
    "a.itemsize # 1byte=8bit ( 4bytes = 32bit)"
   ]
  },
  {
   "cell_type": "markdown",
   "id": "118dd862",
   "metadata": {},
   "source": [
    "### numpy와 python의 속도차이"
   ]
  },
  {
   "cell_type": "code",
   "execution_count": 116,
   "id": "36629ca6",
   "metadata": {},
   "outputs": [
    {
     "data": {
      "text/plain": [
       "array([0, 1, 2, 3, 4, 5, 6, 7, 8, 9])"
      ]
     },
     "execution_count": 116,
     "metadata": {},
     "output_type": "execute_result"
    }
   ],
   "source": [
    "np.arange(10) # range"
   ]
  },
  {
   "cell_type": "raw",
   "id": "c7f22f0c",
   "metadata": {},
   "source": [
    "값이 작을 때는 속도가 비슷하다.\n",
    "값이 커지면 속도 차이가 난다. 값이 커지면 overflow가 발생해 값은 다를 수도 있다."
   ]
  },
  {
   "cell_type": "code",
   "execution_count": 117,
   "id": "1957aa64",
   "metadata": {},
   "outputs": [
    {
     "name": "stdout",
     "output_type": "stream",
     "text": [
      "Wall time: 576 ms\n"
     ]
    },
    {
     "data": {
      "text/plain": [
       "887459712"
      ]
     },
     "execution_count": 117,
     "metadata": {},
     "output_type": "execute_result"
    }
   ],
   "source": [
    "# numpy를 이용한 계산\n",
    "%time np.sum(np.arange(100000000))"
   ]
  },
  {
   "cell_type": "code",
   "execution_count": 119,
   "id": "2cb8accb",
   "metadata": {},
   "outputs": [
    {
     "name": "stdout",
     "output_type": "stream",
     "text": [
      "Wall time: 7.83 s\n"
     ]
    },
    {
     "data": {
      "text/plain": [
       "4999999950000000"
      ]
     },
     "execution_count": 119,
     "metadata": {},
     "output_type": "execute_result"
    }
   ],
   "source": [
    "# python을 이용한 계산\n",
    "%time sum(range(100000000))"
   ]
  },
  {
   "cell_type": "markdown",
   "id": "e50b2e0b",
   "metadata": {},
   "source": [
    "같은 np.sum()사용하더라도 값을 생성하는 방법에 따라 속도가 달라진다."
   ]
  },
  {
   "cell_type": "code",
   "execution_count": 120,
   "id": "9dfc41fb",
   "metadata": {
    "scrolled": false
   },
   "outputs": [
    {
     "name": "stdout",
     "output_type": "stream",
     "text": [
      "Wall time: 432 ms\n"
     ]
    },
    {
     "data": {
      "text/plain": [
       "887459712"
      ]
     },
     "execution_count": 120,
     "metadata": {},
     "output_type": "execute_result"
    }
   ],
   "source": [
    "%time np.sum(np.arange(100000000))"
   ]
  },
  {
   "cell_type": "code",
   "execution_count": null,
   "id": "ea1e780b",
   "metadata": {},
   "outputs": [],
   "source": [
    "%time np.sum(range(100000000))"
   ]
  },
  {
   "cell_type": "markdown",
   "id": "8655fd42",
   "metadata": {},
   "source": [
    "### copy"
   ]
  },
  {
   "cell_type": "code",
   "execution_count": null,
   "id": "5165d258",
   "metadata": {},
   "outputs": [],
   "source": [
    "※ 대입문 6가지  \n",
    "a = 1  \n",
    "a = b = 1   # a = b = [1,2,3]\n",
    "a,b = 1,2  \n",
    "a, *b = 1,2,3\n",
    "a += 1  # a = a +1 \n",
    "global, nonlocal\n"
   ]
  },
  {
   "cell_type": "markdown",
   "id": "060cd25a",
   "metadata": {},
   "source": [
    "python에서 copy"
   ]
  },
  {
   "cell_type": "code",
   "execution_count": 3,
   "id": "65d39dbc",
   "metadata": {},
   "outputs": [],
   "source": [
    "a = [1, 2, 3] # heterogeneous, sequence, mutable"
   ]
  },
  {
   "cell_type": "code",
   "execution_count": 4,
   "id": "4e28e2ed",
   "metadata": {},
   "outputs": [],
   "source": [
    "b = a"
   ]
  },
  {
   "cell_type": "code",
   "execution_count": 5,
   "id": "41374035",
   "metadata": {},
   "outputs": [
    {
     "data": {
      "text/plain": [
       "[1, 2, 3]"
      ]
     },
     "execution_count": 5,
     "metadata": {},
     "output_type": "execute_result"
    }
   ],
   "source": [
    "b"
   ]
  },
  {
   "cell_type": "code",
   "execution_count": 6,
   "id": "97e2d0e1",
   "metadata": {},
   "outputs": [
    {
     "data": {
      "text/plain": [
       "True"
      ]
     },
     "execution_count": 6,
     "metadata": {},
     "output_type": "execute_result"
    }
   ],
   "source": [
    "a is b #메모리 주소 비교"
   ]
  },
  {
   "cell_type": "code",
   "execution_count": 7,
   "id": "eb218924",
   "metadata": {},
   "outputs": [],
   "source": [
    "# a와 b가 메모리 주소를 공유\n",
    "# b 값을 변경하면 a도 같이 변경이 된다.\n",
    "b[0] = 7"
   ]
  },
  {
   "cell_type": "code",
   "execution_count": 8,
   "id": "f943394c",
   "metadata": {},
   "outputs": [
    {
     "data": {
      "text/plain": [
       "[7, 2, 3]"
      ]
     },
     "execution_count": 8,
     "metadata": {},
     "output_type": "execute_result"
    }
   ],
   "source": [
    "b"
   ]
  },
  {
   "cell_type": "code",
   "execution_count": 9,
   "id": "900fcd9f",
   "metadata": {},
   "outputs": [
    {
     "data": {
      "text/plain": [
       "[7, 2, 3]"
      ]
     },
     "execution_count": 9,
     "metadata": {},
     "output_type": "execute_result"
    }
   ],
   "source": [
    "a"
   ]
  },
  {
   "cell_type": "markdown",
   "id": "3181d24d",
   "metadata": {},
   "source": [
    "copy"
   ]
  },
  {
   "cell_type": "code",
   "execution_count": 10,
   "id": "39d22388",
   "metadata": {},
   "outputs": [],
   "source": [
    "a = [1, 2, 3]"
   ]
  },
  {
   "cell_type": "code",
   "execution_count": 11,
   "id": "a7638ea9",
   "metadata": {},
   "outputs": [],
   "source": [
    "# copy()는 똑같은 값만 가지고 메모리는 공유하지 않는다.\n",
    "b = a.copy()"
   ]
  },
  {
   "cell_type": "code",
   "execution_count": 12,
   "id": "995b8748",
   "metadata": {},
   "outputs": [
    {
     "data": {
      "text/plain": [
       "False"
      ]
     },
     "execution_count": 12,
     "metadata": {},
     "output_type": "execute_result"
    }
   ],
   "source": [
    "a is b"
   ]
  },
  {
   "cell_type": "code",
   "execution_count": 13,
   "id": "1db5ce8b",
   "metadata": {},
   "outputs": [
    {
     "data": {
      "text/plain": [
       "1737592780224"
      ]
     },
     "execution_count": 13,
     "metadata": {},
     "output_type": "execute_result"
    }
   ],
   "source": [
    "id(a)"
   ]
  },
  {
   "cell_type": "code",
   "execution_count": 14,
   "id": "c1e0c537",
   "metadata": {},
   "outputs": [
    {
     "data": {
      "text/plain": [
       "1737591579968"
      ]
     },
     "execution_count": 14,
     "metadata": {},
     "output_type": "execute_result"
    }
   ],
   "source": [
    "id(b)"
   ]
  },
  {
   "cell_type": "code",
   "execution_count": 15,
   "id": "1fa6d5bb",
   "metadata": {},
   "outputs": [
    {
     "data": {
      "text/plain": [
       "True"
      ]
     },
     "execution_count": 15,
     "metadata": {},
     "output_type": "execute_result"
    }
   ],
   "source": [
    "a == b"
   ]
  },
  {
   "cell_type": "code",
   "execution_count": 16,
   "id": "1e54d565",
   "metadata": {},
   "outputs": [],
   "source": [
    "b[0] = 7"
   ]
  },
  {
   "cell_type": "code",
   "execution_count": 17,
   "id": "fb4efd9e",
   "metadata": {},
   "outputs": [
    {
     "name": "stdout",
     "output_type": "stream",
     "text": [
      "[1, 2, 3]\n",
      "[7, 2, 3]\n"
     ]
    }
   ],
   "source": [
    "# a는 안바뀐다.\n",
    "print(a)\n",
    "print(b)"
   ]
  },
  {
   "cell_type": "markdown",
   "id": "3c9abca4",
   "metadata": {},
   "source": [
    "shallow copy"
   ]
  },
  {
   "cell_type": "code",
   "execution_count": 23,
   "id": "dd84f1fb",
   "metadata": {},
   "outputs": [],
   "source": [
    "a = [[1,2,3]]"
   ]
  },
  {
   "cell_type": "code",
   "execution_count": 24,
   "id": "32d1909e",
   "metadata": {},
   "outputs": [
    {
     "data": {
      "text/plain": [
       "list"
      ]
     },
     "execution_count": 24,
     "metadata": {},
     "output_type": "execute_result"
    }
   ],
   "source": [
    "type(a)"
   ]
  },
  {
   "cell_type": "code",
   "execution_count": 28,
   "id": "12a07dd1",
   "metadata": {},
   "outputs": [],
   "source": [
    "# shallow copy(2차원 이상이면)\n",
    "b = a.copy()"
   ]
  },
  {
   "cell_type": "code",
   "execution_count": 29,
   "id": "d256c256",
   "metadata": {},
   "outputs": [
    {
     "data": {
      "text/plain": [
       "False"
      ]
     },
     "execution_count": 29,
     "metadata": {},
     "output_type": "execute_result"
    }
   ],
   "source": [
    "a is b"
   ]
  },
  {
   "cell_type": "code",
   "execution_count": 30,
   "id": "99409303",
   "metadata": {},
   "outputs": [
    {
     "name": "stdout",
     "output_type": "stream",
     "text": [
      "[[1, 2, 3]]\n",
      "[[1, 2, 3]]\n"
     ]
    }
   ],
   "source": [
    "print(a)\n",
    "print(b)"
   ]
  },
  {
   "cell_type": "code",
   "execution_count": 31,
   "id": "2d42a626",
   "metadata": {},
   "outputs": [],
   "source": [
    "b[0][0] = 7"
   ]
  },
  {
   "cell_type": "code",
   "execution_count": 32,
   "id": "2861c6a7",
   "metadata": {},
   "outputs": [
    {
     "name": "stdout",
     "output_type": "stream",
     "text": [
      "[[7, 2, 3]]\n",
      "[[7, 2, 3]]\n"
     ]
    }
   ],
   "source": [
    "print(a)\n",
    "print(b)"
   ]
  },
  {
   "cell_type": "code",
   "execution_count": 33,
   "id": "f25f1cf0",
   "metadata": {},
   "outputs": [
    {
     "data": {
      "text/plain": [
       "True"
      ]
     },
     "execution_count": 33,
     "metadata": {},
     "output_type": "execute_result"
    }
   ],
   "source": [
    "a[0] is b[0]"
   ]
  },
  {
   "cell_type": "markdown",
   "id": "c743333f",
   "metadata": {},
   "source": [
    "deepcopy"
   ]
  },
  {
   "cell_type": "code",
   "execution_count": 34,
   "id": "bbce5b17",
   "metadata": {},
   "outputs": [],
   "source": [
    "import copy"
   ]
  },
  {
   "cell_type": "code",
   "execution_count": 35,
   "id": "4a6b29db",
   "metadata": {},
   "outputs": [],
   "source": [
    "a = [[1,2,3]]"
   ]
  },
  {
   "cell_type": "code",
   "execution_count": 36,
   "id": "ba4cb21d",
   "metadata": {},
   "outputs": [],
   "source": [
    "b = copy.deepcopy(a)"
   ]
  },
  {
   "cell_type": "code",
   "execution_count": 37,
   "id": "8ffc041f",
   "metadata": {},
   "outputs": [
    {
     "name": "stdout",
     "output_type": "stream",
     "text": [
      "[[1, 2, 3]]\n",
      "[[1, 2, 3]]\n"
     ]
    }
   ],
   "source": [
    "print(a)\n",
    "print(b)"
   ]
  },
  {
   "cell_type": "code",
   "execution_count": 38,
   "id": "5cf7022c",
   "metadata": {},
   "outputs": [
    {
     "data": {
      "text/plain": [
       "False"
      ]
     },
     "execution_count": 38,
     "metadata": {},
     "output_type": "execute_result"
    }
   ],
   "source": [
    "a is b"
   ]
  },
  {
   "cell_type": "code",
   "execution_count": 39,
   "id": "ada00a21",
   "metadata": {},
   "outputs": [
    {
     "data": {
      "text/plain": [
       "False"
      ]
     },
     "execution_count": 39,
     "metadata": {},
     "output_type": "execute_result"
    }
   ],
   "source": [
    "# deep copy가 됨 : 밑바닥까지 그대로 data값을 복사해와서 다른 메모리에 생성\n",
    "a[0] is b[0]"
   ]
  },
  {
   "cell_type": "markdown",
   "id": "6e5076f9",
   "metadata": {},
   "source": [
    "[:]는 전체라는 뜻이다.\n",
    "슬라이싱 방식으로 1차 리스트일때는 재할당하면 deepcopy가 된다. 슬라이싱도 2차 리스트 이상인 경우 shallow copy가 된다."
   ]
  },
  {
   "cell_type": "code",
   "execution_count": 40,
   "id": "3cf48fa7",
   "metadata": {},
   "outputs": [],
   "source": [
    "a = [1,2,3]"
   ]
  },
  {
   "cell_type": "code",
   "execution_count": 41,
   "id": "ba4ffdcd",
   "metadata": {},
   "outputs": [],
   "source": [
    "b = a[:]"
   ]
  },
  {
   "cell_type": "code",
   "execution_count": 42,
   "id": "3c25ba55",
   "metadata": {},
   "outputs": [
    {
     "name": "stdout",
     "output_type": "stream",
     "text": [
      "[1, 2, 3]\n",
      "[1, 2, 3]\n"
     ]
    }
   ],
   "source": [
    "print(a)\n",
    "print(b)"
   ]
  },
  {
   "cell_type": "code",
   "execution_count": 43,
   "id": "bc4ebb24",
   "metadata": {},
   "outputs": [],
   "source": [
    "b[0]=7"
   ]
  },
  {
   "cell_type": "code",
   "execution_count": 44,
   "id": "d0ed198d",
   "metadata": {},
   "outputs": [
    {
     "name": "stdout",
     "output_type": "stream",
     "text": [
      "[1, 2, 3]\n",
      "[7, 2, 3]\n"
     ]
    }
   ],
   "source": [
    "print(a)\n",
    "print(b)"
   ]
  },
  {
   "cell_type": "code",
   "execution_count": 45,
   "id": "07e7a152",
   "metadata": {},
   "outputs": [],
   "source": [
    "a = [[1,2,3]]"
   ]
  },
  {
   "cell_type": "code",
   "execution_count": 46,
   "id": "19c43e0f",
   "metadata": {},
   "outputs": [],
   "source": [
    "# 슬라이싱도 2차원 이상인 경우  shallow copy가 된다.\n",
    "b = a[:]"
   ]
  },
  {
   "cell_type": "code",
   "execution_count": 47,
   "id": "3a6f52db",
   "metadata": {},
   "outputs": [
    {
     "name": "stdout",
     "output_type": "stream",
     "text": [
      "[[1, 2, 3]]\n",
      "[[1, 2, 3]]\n"
     ]
    }
   ],
   "source": [
    "print(a)\n",
    "print(b)"
   ]
  },
  {
   "cell_type": "code",
   "execution_count": 48,
   "id": "cdfa9eae",
   "metadata": {},
   "outputs": [
    {
     "data": {
      "text/plain": [
       "False"
      ]
     },
     "execution_count": 48,
     "metadata": {},
     "output_type": "execute_result"
    }
   ],
   "source": [
    "a is b"
   ]
  },
  {
   "cell_type": "code",
   "execution_count": 49,
   "id": "507bca29",
   "metadata": {},
   "outputs": [
    {
     "data": {
      "text/plain": [
       "True"
      ]
     },
     "execution_count": 49,
     "metadata": {},
     "output_type": "execute_result"
    }
   ],
   "source": [
    "a[0] is b[0]"
   ]
  },
  {
   "cell_type": "markdown",
   "id": "b9b2cebf",
   "metadata": {},
   "source": [
    "python의 copy는 기본적으로 shallow이다."
   ]
  },
  {
   "cell_type": "markdown",
   "id": "6f4d5b05",
   "metadata": {},
   "source": [
    "### numpy의 copy"
   ]
  },
  {
   "cell_type": "code",
   "execution_count": 52,
   "id": "27fdaa72",
   "metadata": {},
   "outputs": [],
   "source": [
    "a = b = np.array([1,2,3])"
   ]
  },
  {
   "cell_type": "code",
   "execution_count": 53,
   "id": "bc367d56",
   "metadata": {},
   "outputs": [
    {
     "data": {
      "text/plain": [
       "True"
      ]
     },
     "execution_count": 53,
     "metadata": {},
     "output_type": "execute_result"
    }
   ],
   "source": [
    "a is b"
   ]
  },
  {
   "cell_type": "markdown",
   "id": "0402b364",
   "metadata": {},
   "source": [
    "array는 sequence타입으로 인덱싱과 슬라이싱이 가능하다."
   ]
  },
  {
   "cell_type": "code",
   "execution_count": 54,
   "id": "693f1034",
   "metadata": {},
   "outputs": [
    {
     "data": {
      "text/plain": [
       "1"
      ]
     },
     "execution_count": 54,
     "metadata": {},
     "output_type": "execute_result"
    }
   ],
   "source": [
    "a[0] # indexing"
   ]
  },
  {
   "cell_type": "code",
   "execution_count": 55,
   "id": "b1309bed",
   "metadata": {},
   "outputs": [
    {
     "data": {
      "text/plain": [
       "array([1, 2, 3])"
      ]
     },
     "execution_count": 55,
     "metadata": {},
     "output_type": "execute_result"
    }
   ],
   "source": [
    "a[:] # slicing"
   ]
  },
  {
   "cell_type": "markdown",
   "id": "47a2809f",
   "metadata": {},
   "source": [
    "array는 mutable이다.  \n",
    "예외가 몇가지 있지만 mutable에 가깝다."
   ]
  },
  {
   "cell_type": "code",
   "execution_count": 56,
   "id": "c7781789",
   "metadata": {},
   "outputs": [],
   "source": [
    "a[0] = 100"
   ]
  },
  {
   "cell_type": "code",
   "execution_count": 57,
   "id": "5d80a770",
   "metadata": {},
   "outputs": [
    {
     "data": {
      "text/plain": [
       "array([100,   2,   3])"
      ]
     },
     "execution_count": 57,
     "metadata": {},
     "output_type": "execute_result"
    }
   ],
   "source": [
    "a"
   ]
  },
  {
   "cell_type": "code",
   "execution_count": 63,
   "id": "dbd855fc",
   "metadata": {},
   "outputs": [
    {
     "name": "stdout",
     "output_type": "stream",
     "text": [
      "[100   2   3]\n",
      "[100   2   3]\n"
     ]
    }
   ],
   "source": [
    "print(a)\n",
    "print(b)"
   ]
  },
  {
   "cell_type": "markdown",
   "id": "526ea8b6",
   "metadata": {},
   "source": [
    "array는 homogeneous이다."
   ]
  },
  {
   "cell_type": "code",
   "execution_count": 58,
   "id": "bd0c06a1",
   "metadata": {},
   "outputs": [],
   "source": [
    "c = np.array([1, 'a', True])"
   ]
  },
  {
   "cell_type": "code",
   "execution_count": 59,
   "id": "7061e703",
   "metadata": {},
   "outputs": [
    {
     "data": {
      "text/plain": [
       "array(['1', 'a', 'True'], dtype='<U11')"
      ]
     },
     "execution_count": 59,
     "metadata": {},
     "output_type": "execute_result"
    }
   ],
   "source": [
    "c"
   ]
  },
  {
   "cell_type": "code",
   "execution_count": 60,
   "id": "68461a1d",
   "metadata": {},
   "outputs": [
    {
     "data": {
      "text/plain": [
       "numpy.str_"
      ]
     },
     "execution_count": 60,
     "metadata": {},
     "output_type": "execute_result"
    }
   ],
   "source": [
    "type(c[0])"
   ]
  },
  {
   "cell_type": "markdown",
   "id": "ead576c8",
   "metadata": {},
   "source": [
    "array는 homogeneous, sequence, mutable 이다."
   ]
  },
  {
   "cell_type": "markdown",
   "id": "5c635350",
   "metadata": {},
   "source": [
    "deepcopy"
   ]
  },
  {
   "cell_type": "code",
   "execution_count": 70,
   "id": "13959e73",
   "metadata": {},
   "outputs": [],
   "source": [
    "a = np.array([[1,2,3]])"
   ]
  },
  {
   "cell_type": "code",
   "execution_count": 71,
   "id": "2585d320",
   "metadata": {},
   "outputs": [],
   "source": [
    "# numpy는 기본적으로 deepcopy이다.\n",
    "b = a.copy()"
   ]
  },
  {
   "cell_type": "code",
   "execution_count": 72,
   "id": "6d5ac44e",
   "metadata": {},
   "outputs": [
    {
     "data": {
      "text/plain": [
       "False"
      ]
     },
     "execution_count": 72,
     "metadata": {},
     "output_type": "execute_result"
    }
   ],
   "source": [
    "a is b"
   ]
  },
  {
   "cell_type": "code",
   "execution_count": 73,
   "id": "631b1537",
   "metadata": {},
   "outputs": [
    {
     "data": {
      "text/plain": [
       "array([1, 2, 3])"
      ]
     },
     "execution_count": 73,
     "metadata": {},
     "output_type": "execute_result"
    }
   ],
   "source": [
    "b[0]"
   ]
  },
  {
   "cell_type": "code",
   "execution_count": 74,
   "id": "ea5dc116",
   "metadata": {},
   "outputs": [
    {
     "name": "stdout",
     "output_type": "stream",
     "text": [
      "[[1 2 3]]\n",
      "[[1 2 3]]\n"
     ]
    }
   ],
   "source": [
    "print(a)\n",
    "print(b)"
   ]
  },
  {
   "cell_type": "markdown",
   "id": "ff69e947",
   "metadata": {},
   "source": [
    "### 다른 데이터 타입에서 데이터 가져오기"
   ]
  },
  {
   "cell_type": "code",
   "execution_count": null,
   "id": "ef23587e",
   "metadata": {},
   "outputs": [],
   "source": []
  },
  {
   "cell_type": "markdown",
   "id": "1b7978ee",
   "metadata": {},
   "source": [
    "#### as 계열\n",
    "\n",
    "다른 데이터 타입을 가져와서 바꿔서 사용할 때는 as라는 이름이 보통 붙는다."
   ]
  },
  {
   "cell_type": "code",
   "execution_count": 81,
   "id": "eff1451d",
   "metadata": {},
   "outputs": [
    {
     "name": "stdout",
     "output_type": "stream",
     "text": [
      "<class 'list'>\n",
      "<class 'int'>\n",
      "<class 'numpy.ndarray'>\n",
      "<class 'numpy.int32'>\n"
     ]
    }
   ],
   "source": [
    "# python의 list 데이터 타입을 int ndarray로 변환\n",
    "a = [1,2,3]\n",
    "print(type(a))\n",
    "print(type(a[0]))\n",
    "b = np.array(a)\n",
    "print(type(b))\n",
    "print(type(b[0]))"
   ]
  },
  {
   "cell_type": "code",
   "execution_count": 84,
   "id": "75e6a8bc",
   "metadata": {},
   "outputs": [
    {
     "name": "stdout",
     "output_type": "stream",
     "text": [
      "<class 'list'>\n",
      "<class 'int'>\n",
      "<class 'numpy.ndarray'>\n",
      "<class 'numpy.int32'>\n"
     ]
    }
   ],
   "source": [
    "# python의 list 데이터 타입을 int ndarray로 변환\n",
    "a = [1,2,3]\n",
    "print(type(a))\n",
    "print(type(a[0]))\n",
    "b = np.asarray(a)\n",
    "print(type(b))\n",
    "print(type(b[0]))"
   ]
  },
  {
   "cell_type": "code",
   "execution_count": 90,
   "id": "51a501a2",
   "metadata": {},
   "outputs": [
    {
     "name": "stdout",
     "output_type": "stream",
     "text": [
      "<class 'list'>\n",
      "<class 'float'>\n",
      "<class 'numpy.ndarray'>\n",
      "<class 'numpy.float64'>\n"
     ]
    }
   ],
   "source": [
    "# python의 list 데이터 타입을 float ndarray로 변환\n",
    "a = [1.,2.,3.]\n",
    "print(type(a))\n",
    "print(type(a[0]))\n",
    "b = np.asfarray(a)\n",
    "print(type(b))\n",
    "print(type(b[0]))"
   ]
  },
  {
   "cell_type": "code",
   "execution_count": 91,
   "id": "17d0fc9b",
   "metadata": {},
   "outputs": [
    {
     "name": "stdout",
     "output_type": "stream",
     "text": [
      "<class 'list'>\n",
      "<class 'float'>\n",
      "<class 'numpy.ndarray'>\n",
      "<class 'numpy.float64'>\n"
     ]
    }
   ],
   "source": [
    "# python의 list 데이터 타입 float이면 float ndarray로 변환\n",
    "# python의 list 데이터 타입 int이면 int ndarray로 변환\n",
    "a = [1.,2.,3.]\n",
    "print(type(a))\n",
    "print(type(a[0]))\n",
    "b = np.asarray(a)\n",
    "print(type(b))\n",
    "print(type(b[0]))"
   ]
  },
  {
   "cell_type": "markdown",
   "id": "b1878e06",
   "metadata": {},
   "source": [
    "numpy의 as계열과 from계열은 약간 비체계적인 면이 있기 때문에 tensorflow에서는 조금 다르게 사용한다.\n",
    "\n",
    "----------------\n",
    "※ numpy에서 데이터 만드는 방법 정리  \n",
    "- 생성  \n",
    "    - factory method계열  \n",
    "      zeros, ones, arrange, eye, identity, empty  \n",
    "- 기반  \n",
    "    - array, as계열, from계열, _like계열  \n",
    "- load  \n",
    "    - 파일로부터 값을 가져오는 방법  "
   ]
  },
  {
   "cell_type": "code",
   "execution_count": 92,
   "id": "6bb10e60",
   "metadata": {},
   "outputs": [],
   "source": [
    "### 값 가져오기"
   ]
  },
  {
   "cell_type": "markdown",
   "id": "4a8a98ff",
   "metadata": {},
   "source": [
    "comma로 값 가져오기"
   ]
  },
  {
   "cell_type": "code",
   "execution_count": 93,
   "id": "45d03211",
   "metadata": {},
   "outputs": [],
   "source": [
    "a = [ [1,2,3], [4,5,6] ] #python\n",
    "b = np.array([[1,2,3,],[4,5,6]]) #numpy"
   ]
  },
  {
   "cell_type": "code",
   "execution_count": 98,
   "id": "86eb09ff",
   "metadata": {},
   "outputs": [
    {
     "data": {
      "text/plain": [
       "[1, 2, 3]"
      ]
     },
     "execution_count": 98,
     "metadata": {},
     "output_type": "execute_result"
    }
   ],
   "source": [
    "a[0]"
   ]
  },
  {
   "cell_type": "code",
   "execution_count": 96,
   "id": "3da4bf6d",
   "metadata": {},
   "outputs": [
    {
     "ename": "TypeError",
     "evalue": "list indices must be integers or slices, not tuple",
     "output_type": "error",
     "traceback": [
      "\u001b[1;31m---------------------------------------------------------------------------\u001b[0m",
      "\u001b[1;31mTypeError\u001b[0m                                 Traceback (most recent call last)",
      "\u001b[1;32m<ipython-input-96-c40981472b77>\u001b[0m in \u001b[0;36m<module>\u001b[1;34m\u001b[0m\n\u001b[1;32m----> 1\u001b[1;33m \u001b[0ma\u001b[0m\u001b[1;33m[\u001b[0m\u001b[1;36m0\u001b[0m\u001b[1;33m,\u001b[0m \u001b[1;33m-\u001b[0m\u001b[1;36m1\u001b[0m\u001b[1;33m]\u001b[0m\u001b[1;33m\u001b[0m\u001b[1;33m\u001b[0m\u001b[0m\n\u001b[0m",
      "\u001b[1;31mTypeError\u001b[0m: list indices must be integers or slices, not tuple"
     ]
    }
   ],
   "source": [
    "a[0, -1]"
   ]
  },
  {
   "cell_type": "markdown",
   "id": "f62c9bc5",
   "metadata": {},
   "source": [
    "슬라이스 객체를 이용해서 comma를 사용하는 방법은 가능하다."
   ]
  },
  {
   "cell_type": "code",
   "execution_count": 102,
   "id": "bd468e1d",
   "metadata": {
    "scrolled": true
   },
   "outputs": [
    {
     "data": {
      "text/plain": [
       "[[1, 2, 3]]"
      ]
     },
     "execution_count": 102,
     "metadata": {},
     "output_type": "execute_result"
    }
   ],
   "source": [
    "# 2차원 리스트로 가져온다.\n",
    "a[slice(0,1)] # 0행에서부터 1행 미만의 데이터를 가져온다."
   ]
  },
  {
   "cell_type": "code",
   "execution_count": 107,
   "id": "7280120f",
   "metadata": {},
   "outputs": [
    {
     "data": {
      "text/plain": [
       "[[1, 2, 3], [4, 5, 6]]"
      ]
     },
     "execution_count": 107,
     "metadata": {},
     "output_type": "execute_result"
    }
   ],
   "source": [
    "a[slice(0,2)] # 0행에서부터 2행 미만의 데이터를 가져온다."
   ]
  },
  {
   "cell_type": "markdown",
   "id": "58f82704",
   "metadata": {},
   "source": [
    "numpy는 기본적으로 인덱싱/슬라이싱할 때 comma를 사용할 수 있다."
   ]
  },
  {
   "cell_type": "code",
   "execution_count": 108,
   "id": "8d2e1c38",
   "metadata": {},
   "outputs": [
    {
     "name": "stdout",
     "output_type": "stream",
     "text": [
      "3\n",
      "3\n"
     ]
    }
   ],
   "source": [
    "# numpy\n",
    "# b[행, 열]\n",
    "print( b[0, 2] )\n",
    "print( b[0,-1] )"
   ]
  },
  {
   "cell_type": "code",
   "execution_count": 110,
   "id": "cbd15cf9",
   "metadata": {},
   "outputs": [
    {
     "name": "stdout",
     "output_type": "stream",
     "text": [
      "3\n",
      "3\n"
     ]
    }
   ],
   "source": [
    "# python\n",
    "# a[행][열]\n",
    "print( a[0][2] )\n",
    "print( a[0][-1] )"
   ]
  },
  {
   "cell_type": "markdown",
   "id": "9b6ee50d",
   "metadata": {},
   "source": [
    "### 2. boolean indexing"
   ]
  },
  {
   "cell_type": "code",
   "execution_count": 116,
   "id": "5e0231b4",
   "metadata": {},
   "outputs": [],
   "source": [
    "a = [[1,2,3,4]]"
   ]
  },
  {
   "cell_type": "code",
   "execution_count": 117,
   "id": "32215d4d",
   "metadata": {},
   "outputs": [
    {
     "ename": "TypeError",
     "evalue": "'>' not supported between instances of 'list' and 'int'",
     "output_type": "error",
     "traceback": [
      "\u001b[1;31m---------------------------------------------------------------------------\u001b[0m",
      "\u001b[1;31mTypeError\u001b[0m                                 Traceback (most recent call last)",
      "\u001b[1;32m<ipython-input-117-bec40f332b50>\u001b[0m in \u001b[0;36m<module>\u001b[1;34m\u001b[0m\n\u001b[1;32m----> 1\u001b[1;33m \u001b[0ma\u001b[0m\u001b[1;33m>\u001b[0m\u001b[1;36m2\u001b[0m\u001b[1;33m\u001b[0m\u001b[1;33m\u001b[0m\u001b[0m\n\u001b[0m",
      "\u001b[1;31mTypeError\u001b[0m: '>' not supported between instances of 'list' and 'int'"
     ]
    }
   ],
   "source": [
    "a>2"
   ]
  },
  {
   "cell_type": "code",
   "execution_count": 111,
   "id": "b0d8a373",
   "metadata": {},
   "outputs": [],
   "source": [
    "b = np.array([[1,2,3,4]])"
   ]
  },
  {
   "cell_type": "code",
   "execution_count": 114,
   "id": "16b5d90b",
   "metadata": {},
   "outputs": [
    {
     "data": {
      "text/plain": [
       "array([[1, 2, 3, 4]])"
      ]
     },
     "execution_count": 114,
     "metadata": {},
     "output_type": "execute_result"
    }
   ],
   "source": [
    "b"
   ]
  },
  {
   "cell_type": "markdown",
   "id": "c6fb87ec",
   "metadata": {},
   "source": [
    "array를 scalar와 연산하면 elementwise로 계산한다.  \n",
    "(elementwise: 원소별로 각각 계산이 된다.)"
   ]
  },
  {
   "cell_type": "code",
   "execution_count": 119,
   "id": "480cd6a5",
   "metadata": {},
   "outputs": [
    {
     "data": {
      "text/plain": [
       "array([[False, False,  True,  True]])"
      ]
     },
     "execution_count": 119,
     "metadata": {},
     "output_type": "execute_result"
    }
   ],
   "source": [
    "# 원소별로 비교해서 True/False로 계산한다.\n",
    "# 1>2, 2>2, 3>2, 4>2\n",
    "# numpy에서는 가능하고 python에서는 안된다.\n",
    "b>2"
   ]
  },
  {
   "cell_type": "markdown",
   "id": "b11ce78a",
   "metadata": {},
   "source": [
    "numpy는 indexing, slicing자리에 조건도 쓸 수 있다.  \n",
    "True에 해당되는 값만 가져온다."
   ]
  },
  {
   "cell_type": "code",
   "execution_count": 132,
   "id": "74d21f20",
   "metadata": {},
   "outputs": [
    {
     "data": {
      "text/plain": [
       "array([3, 4])"
      ]
     },
     "execution_count": 132,
     "metadata": {},
     "output_type": "execute_result"
    }
   ],
   "source": [
    "# boolean indexing\n",
    "b[np.array([[False,False,True,True]])] #b[[1,2,3,4]]"
   ]
  },
  {
   "cell_type": "code",
   "execution_count": 130,
   "id": "e489f364",
   "metadata": {},
   "outputs": [
    {
     "data": {
      "text/plain": [
       "array([3, 4])"
      ]
     },
     "execution_count": 130,
     "metadata": {},
     "output_type": "execute_result"
    }
   ],
   "source": [
    "b[b>2]"
   ]
  },
  {
   "cell_type": "markdown",
   "id": "69c4bd9f",
   "metadata": {},
   "source": [
    "numpy에서 boolean indexing 조건\n",
    "- array만 된다.  \n",
    "- numpy True, False로만 구성되어야 한다.  \n",
    "- shape이 맞아야 한다. (개수가 맞을 때만 사용할 수 있다.)"
   ]
  },
  {
   "cell_type": "code",
   "execution_count": 133,
   "id": "595bf018",
   "metadata": {},
   "outputs": [
    {
     "ename": "TypeError",
     "evalue": "list indices must be integers or slices, not list",
     "output_type": "error",
     "traceback": [
      "\u001b[1;31m---------------------------------------------------------------------------\u001b[0m",
      "\u001b[1;31mTypeError\u001b[0m                                 Traceback (most recent call last)",
      "\u001b[1;32m<ipython-input-133-ffad85d3ebc4>\u001b[0m in \u001b[0;36m<module>\u001b[1;34m\u001b[0m\n\u001b[0;32m      1\u001b[0m \u001b[0ma\u001b[0m \u001b[1;33m=\u001b[0m \u001b[1;33m[\u001b[0m\u001b[1;33m[\u001b[0m\u001b[1;36m1\u001b[0m\u001b[1;33m,\u001b[0m\u001b[1;36m2\u001b[0m\u001b[1;33m,\u001b[0m\u001b[1;36m3\u001b[0m\u001b[1;33m,\u001b[0m\u001b[1;36m4\u001b[0m\u001b[1;33m]\u001b[0m\u001b[1;33m]\u001b[0m\u001b[1;33m\u001b[0m\u001b[1;33m\u001b[0m\u001b[0m\n\u001b[1;32m----> 2\u001b[1;33m \u001b[0ma\u001b[0m\u001b[1;33m[\u001b[0m\u001b[1;33m[\u001b[0m\u001b[1;33m[\u001b[0m\u001b[1;32mTrue\u001b[0m\u001b[1;33m,\u001b[0m \u001b[1;32mTrue\u001b[0m\u001b[1;33m,\u001b[0m \u001b[1;32mFalse\u001b[0m\u001b[1;33m,\u001b[0m \u001b[1;32mTrue\u001b[0m\u001b[1;33m]\u001b[0m\u001b[1;33m]\u001b[0m\u001b[1;33m]\u001b[0m\u001b[1;33m\u001b[0m\u001b[1;33m\u001b[0m\u001b[0m\n\u001b[0m",
      "\u001b[1;31mTypeError\u001b[0m: list indices must be integers or slices, not list"
     ]
    }
   ],
   "source": [
    "# python에서는 지원 안한다.\n",
    "a = [[1,2,3,4]]\n",
    "a[[[True, True, False, True]]]"
   ]
  },
  {
   "cell_type": "code",
   "execution_count": 134,
   "id": "3ebaa55f",
   "metadata": {},
   "outputs": [
    {
     "data": {
      "text/plain": [
       "dtype('bool')"
      ]
     },
     "execution_count": 134,
     "metadata": {},
     "output_type": "execute_result"
    }
   ],
   "source": [
    "np.array([[True, False, True, False]]).dtype"
   ]
  },
  {
   "cell_type": "code",
   "execution_count": 135,
   "id": "caacad58",
   "metadata": {},
   "outputs": [
    {
     "data": {
      "text/plain": [
       "dtype('<U1')"
      ]
     },
     "execution_count": 135,
     "metadata": {},
     "output_type": "execute_result"
    }
   ],
   "source": [
    "# numpy는 숫자를 위한 라이브러리이다.\n",
    "np.array([['a','b']]).dtype"
   ]
  },
  {
   "cell_type": "code",
   "execution_count": 140,
   "id": "12d551fe",
   "metadata": {},
   "outputs": [],
   "source": [
    "b = np.array([[1,2,3],[4,5,6]])"
   ]
  },
  {
   "cell_type": "code",
   "execution_count": 141,
   "id": "472d7b5b",
   "metadata": {},
   "outputs": [
    {
     "name": "stdout",
     "output_type": "stream",
     "text": [
      "<class 'numpy.ndarray'>\n",
      "<class 'numpy.ndarray'>\n"
     ]
    }
   ],
   "source": [
    "print( type(b) )\n",
    "print( b.__class__ )"
   ]
  },
  {
   "cell_type": "code",
   "execution_count": 142,
   "id": "328cdd68",
   "metadata": {},
   "outputs": [
    {
     "data": {
      "text/plain": [
       "(2, 3)"
      ]
     },
     "execution_count": 142,
     "metadata": {},
     "output_type": "execute_result"
    }
   ],
   "source": [
    "b.shape"
   ]
  },
  {
   "cell_type": "code",
   "execution_count": 146,
   "id": "574c0436",
   "metadata": {},
   "outputs": [
    {
     "data": {
      "text/plain": [
       "array([1, 2, 3])"
      ]
     },
     "execution_count": 146,
     "metadata": {},
     "output_type": "execute_result"
    }
   ],
   "source": [
    "b.__getitem__(0) # 0행의 데이터를 가져온다."
   ]
  },
  {
   "cell_type": "code",
   "execution_count": 145,
   "id": "ab82675b",
   "metadata": {},
   "outputs": [
    {
     "data": {
      "text/plain": [
       "array([1, 2, 3])"
      ]
     },
     "execution_count": 145,
     "metadata": {},
     "output_type": "execute_result"
    }
   ],
   "source": [
    "b[0]"
   ]
  },
  {
   "cell_type": "code",
   "execution_count": 143,
   "id": "fb5e789d",
   "metadata": {},
   "outputs": [
    {
     "data": {
      "text/plain": [
       "array([4, 5, 6])"
      ]
     },
     "execution_count": 143,
     "metadata": {},
     "output_type": "execute_result"
    }
   ],
   "source": [
    "b.__getitem__(1) # 1행의 데이터를 가져온다."
   ]
  },
  {
   "cell_type": "code",
   "execution_count": 147,
   "id": "7c743131",
   "metadata": {},
   "outputs": [
    {
     "data": {
      "text/plain": [
       "array([4, 5, 6])"
      ]
     },
     "execution_count": 147,
     "metadata": {},
     "output_type": "execute_result"
    }
   ],
   "source": [
    "b[1]"
   ]
  },
  {
   "cell_type": "code",
   "execution_count": 144,
   "id": "a49ff982",
   "metadata": {},
   "outputs": [
    {
     "data": {
      "text/plain": [
       "2"
      ]
     },
     "execution_count": 144,
     "metadata": {},
     "output_type": "execute_result"
    }
   ],
   "source": [
    "b.__getitem__((0,1)) # 0행 1열의 데이터를 가져온다."
   ]
  },
  {
   "cell_type": "code",
   "execution_count": 148,
   "id": "cb06de61",
   "metadata": {},
   "outputs": [
    {
     "data": {
      "text/plain": [
       "2"
      ]
     },
     "execution_count": 148,
     "metadata": {},
     "output_type": "execute_result"
    }
   ],
   "source": [
    "b[0,1]"
   ]
  },
  {
   "cell_type": "markdown",
   "id": "7ae64296",
   "metadata": {},
   "source": [
    "3. fancy indexing"
   ]
  },
  {
   "cell_type": "code",
   "execution_count": 168,
   "id": "1e9cf0be",
   "metadata": {},
   "outputs": [
    {
     "data": {
      "text/plain": [
       "array([[ 0,  1,  2,  3,  4],\n",
       "       [ 5,  6,  7,  8,  9],\n",
       "       [10, 11, 12, 13, 14],\n",
       "       [15, 16, 17, 18, 19],\n",
       "       [20, 21, 22, 23, 24],\n",
       "       [25, 26, 27, 28, 29],\n",
       "       [30, 31, 32, 33, 34],\n",
       "       [35, 36, 37, 38, 39],\n",
       "       [40, 41, 42, 43, 44],\n",
       "       [45, 46, 47, 48, 49],\n",
       "       [50, 51, 52, 53, 54],\n",
       "       [55, 56, 57, 58, 59],\n",
       "       [60, 61, 62, 63, 64],\n",
       "       [65, 66, 67, 68, 69],\n",
       "       [70, 71, 72, 73, 74],\n",
       "       [75, 76, 77, 78, 79],\n",
       "       [80, 81, 82, 83, 84],\n",
       "       [85, 86, 87, 88, 89],\n",
       "       [90, 91, 92, 93, 94],\n",
       "       [95, 96, 97, 98, 99]])"
      ]
     },
     "execution_count": 168,
     "metadata": {},
     "output_type": "execute_result"
    }
   ],
   "source": [
    "b = np.arange(100).reshape(20,5) # reshape(행,열): 배열의 구조 변경\n",
    "b"
   ]
  },
  {
   "cell_type": "markdown",
   "id": "160ec984",
   "metadata": {},
   "source": [
    "인덱싱, 슬라이싱 자리에 괄호를 하나 더 넣으면 fancy indexing할 수 있다.  \n",
    "여러 개를 한 번에 인덱싱 할 수 있다."
   ]
  },
  {
   "cell_type": "code",
   "execution_count": 170,
   "id": "54aa0e1c",
   "metadata": {},
   "outputs": [
    {
     "data": {
      "text/plain": [
       "array([ 5, 17, 29])"
      ]
     },
     "execution_count": 170,
     "metadata": {},
     "output_type": "execute_result"
    }
   ],
   "source": [
    "b[:] # 전체를 가져온다. b[:,:]와 같다.\n",
    "#b[행, 열]\n",
    "b[1:3]  # 1행부터 3행 미만의 데이터를 가져온다.\n",
    "b[1:3,2:4] # 1행부터 3행 미만이고, 2열에서부터 4열 미만의 데이터를 가져온다.\n",
    "b[[1,3,5]] # 1행, 3행, 5행의 데이터를 가져온다.\n",
    "b[[1,3,5],[0,2,4]] # 1행 0열, 3행 2열, 5행 4열의 데이터를 가져온다."
   ]
  },
  {
   "cell_type": "markdown",
   "id": "454e68ba",
   "metadata": {},
   "source": [
    "fancying indexing은 인덱싱 기법만 사용할 수 있다.\n",
    "':\"(콜론)은 슬라이싱 기법이므로 지원하지 않는다."
   ]
  },
  {
   "cell_type": "code",
   "execution_count": 171,
   "id": "6b738089",
   "metadata": {},
   "outputs": [
    {
     "ename": "SyntaxError",
     "evalue": "invalid syntax (<ipython-input-171-0d3840d4ea39>, line 2)",
     "output_type": "error",
     "traceback": [
      "\u001b[1;36m  File \u001b[1;32m\"<ipython-input-171-0d3840d4ea39>\"\u001b[1;36m, line \u001b[1;32m2\u001b[0m\n\u001b[1;33m    b[[2:5]]\u001b[0m\n\u001b[1;37m        ^\u001b[0m\n\u001b[1;31mSyntaxError\u001b[0m\u001b[1;31m:\u001b[0m invalid syntax\n"
     ]
    }
   ],
   "source": [
    "#Error\n",
    "b[[2:5]]"
   ]
  },
  {
   "cell_type": "code",
   "execution_count": 172,
   "id": "e5a41eae",
   "metadata": {},
   "outputs": [
    {
     "data": {
      "text/plain": [
       "array([[ 0,  2,  4],\n",
       "       [ 5,  7,  9],\n",
       "       [10, 12, 14],\n",
       "       [15, 17, 19],\n",
       "       [20, 22, 24],\n",
       "       [25, 27, 29],\n",
       "       [30, 32, 34],\n",
       "       [35, 37, 39],\n",
       "       [40, 42, 44],\n",
       "       [45, 47, 49],\n",
       "       [50, 52, 54],\n",
       "       [55, 57, 59],\n",
       "       [60, 62, 64],\n",
       "       [65, 67, 69],\n",
       "       [70, 72, 74],\n",
       "       [75, 77, 79],\n",
       "       [80, 82, 84],\n",
       "       [85, 87, 89],\n",
       "       [90, 92, 94],\n",
       "       [95, 97, 99]])"
      ]
     },
     "execution_count": 172,
     "metadata": {},
     "output_type": "execute_result"
    }
   ],
   "source": [
    "b[:,[0,2,4]] # 모든 행에서 0열, 2열, 4열의 데이터를 가져온다."
   ]
  },
  {
   "cell_type": "code",
   "execution_count": 175,
   "id": "2a73a0a9",
   "metadata": {},
   "outputs": [
    {
     "ename": "IndexError",
     "evalue": "shape mismatch: indexing arrays could not be broadcast together with shapes (3,) (2,) ",
     "output_type": "error",
     "traceback": [
      "\u001b[1;31m---------------------------------------------------------------------------\u001b[0m",
      "\u001b[1;31mIndexError\u001b[0m                                Traceback (most recent call last)",
      "\u001b[1;32m<ipython-input-175-2e6664acec4d>\u001b[0m in \u001b[0;36m<module>\u001b[1;34m\u001b[0m\n\u001b[0;32m      1\u001b[0m \u001b[1;31m# 개수가 같게 지정해야 한다.\u001b[0m\u001b[1;33m\u001b[0m\u001b[1;33m\u001b[0m\u001b[1;33m\u001b[0m\u001b[0m\n\u001b[0;32m      2\u001b[0m \u001b[1;31m#b[[1,3,4],[0,2,1]]\u001b[0m\u001b[1;33m\u001b[0m\u001b[1;33m\u001b[0m\u001b[1;33m\u001b[0m\u001b[0m\n\u001b[1;32m----> 3\u001b[1;33m \u001b[0mb\u001b[0m\u001b[1;33m[\u001b[0m\u001b[1;33m[\u001b[0m\u001b[1;36m1\u001b[0m\u001b[1;33m,\u001b[0m\u001b[1;36m3\u001b[0m\u001b[1;33m,\u001b[0m\u001b[1;36m4\u001b[0m\u001b[1;33m]\u001b[0m\u001b[1;33m,\u001b[0m\u001b[1;33m[\u001b[0m\u001b[1;36m0\u001b[0m\u001b[1;33m,\u001b[0m\u001b[1;36m2\u001b[0m\u001b[1;33m]\u001b[0m\u001b[1;33m]\u001b[0m\u001b[1;33m\u001b[0m\u001b[1;33m\u001b[0m\u001b[0m\n\u001b[0m",
      "\u001b[1;31mIndexError\u001b[0m: shape mismatch: indexing arrays could not be broadcast together with shapes (3,) (2,) "
     ]
    }
   ],
   "source": [
    "# 개수가 같게 지정해야 한다.\n",
    "#b[[1,3,4],[0,2,1]]\n",
    "b[[1,3,4],[0,2]]"
   ]
  },
  {
   "cell_type": "markdown",
   "id": "bf946cd8",
   "metadata": {},
   "source": [
    "fancy indexing은 내부적으로 copy해주는 방식이다."
   ]
  },
  {
   "cell_type": "code",
   "execution_count": 179,
   "id": "4e4dd628",
   "metadata": {},
   "outputs": [],
   "source": [
    "c = b[[1,3,5]] # fancy indexing으로 가져옴"
   ]
  },
  {
   "cell_type": "code",
   "execution_count": 180,
   "id": "4465b1f2",
   "metadata": {},
   "outputs": [
    {
     "data": {
      "text/plain": [
       "array([[ 5,  6,  7,  8,  9],\n",
       "       [15, 16, 17, 18, 19],\n",
       "       [25, 26, 27, 28, 29]])"
      ]
     },
     "execution_count": 180,
     "metadata": {},
     "output_type": "execute_result"
    }
   ],
   "source": [
    "c"
   ]
  },
  {
   "cell_type": "code",
   "execution_count": 181,
   "id": "cf660a1f",
   "metadata": {},
   "outputs": [],
   "source": [
    "c[0][0] = 120"
   ]
  },
  {
   "cell_type": "code",
   "execution_count": 182,
   "id": "1b2de521",
   "metadata": {},
   "outputs": [
    {
     "data": {
      "text/plain": [
       "array([[120,   6,   7,   8,   9],\n",
       "       [ 15,  16,  17,  18,  19],\n",
       "       [ 25,  26,  27,  28,  29]])"
      ]
     },
     "execution_count": 182,
     "metadata": {},
     "output_type": "execute_result"
    }
   ],
   "source": [
    "c"
   ]
  },
  {
   "cell_type": "code",
   "execution_count": 183,
   "id": "a0a61f98",
   "metadata": {},
   "outputs": [
    {
     "data": {
      "text/plain": [
       "array([[ 0,  1,  2,  3,  4],\n",
       "       [ 5,  6,  7,  8,  9],\n",
       "       [10, 11, 12, 13, 14],\n",
       "       [15, 16, 17, 18, 19],\n",
       "       [20, 21, 22, 23, 24],\n",
       "       [25, 26, 27, 28, 29],\n",
       "       [30, 31, 32, 33, 34],\n",
       "       [35, 36, 37, 38, 39],\n",
       "       [40, 41, 42, 43, 44],\n",
       "       [45, 46, 47, 48, 49],\n",
       "       [50, 51, 52, 53, 54],\n",
       "       [55, 56, 57, 58, 59],\n",
       "       [60, 61, 62, 63, 64],\n",
       "       [65, 66, 67, 68, 69],\n",
       "       [70, 71, 72, 73, 74],\n",
       "       [75, 76, 77, 78, 79],\n",
       "       [80, 81, 82, 83, 84],\n",
       "       [85, 86, 87, 88, 89],\n",
       "       [90, 91, 92, 93, 94],\n",
       "       [95, 96, 97, 98, 99]])"
      ]
     },
     "execution_count": 183,
     "metadata": {},
     "output_type": "execute_result"
    }
   ],
   "source": [
    "b # b는 그대로 유지하고 있다."
   ]
  },
  {
   "cell_type": "code",
   "execution_count": 184,
   "id": "c17f2296",
   "metadata": {},
   "outputs": [
    {
     "data": {
      "text/plain": [
       "False"
      ]
     },
     "execution_count": 184,
     "metadata": {},
     "output_type": "execute_result"
    }
   ],
   "source": [
    "b is c"
   ]
  },
  {
   "cell_type": "code",
   "execution_count": null,
   "id": "6378bf0d",
   "metadata": {},
   "outputs": [],
   "source": []
  },
  {
   "cell_type": "code",
   "execution_count": null,
   "id": "93cb236e",
   "metadata": {},
   "outputs": [],
   "source": []
  }
 ],
 "metadata": {
  "kernelspec": {
   "display_name": "Python 3",
   "language": "python",
   "name": "python3"
  },
  "language_info": {
   "codemirror_mode": {
    "name": "ipython",
    "version": 3
   },
   "file_extension": ".py",
   "mimetype": "text/x-python",
   "name": "python",
   "nbconvert_exporter": "python",
   "pygments_lexer": "ipython3",
   "version": "3.8.8"
  }
 },
 "nbformat": 4,
 "nbformat_minor": 5
}

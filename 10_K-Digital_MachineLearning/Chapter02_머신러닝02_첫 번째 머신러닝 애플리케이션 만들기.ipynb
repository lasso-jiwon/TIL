{
 "cells": [
  {
   "cell_type": "markdown",
   "metadata": {},
   "source": [
    "# 첫 번째 머신러닝 모델"
   ]
  },
  {
   "cell_type": "markdown",
   "metadata": {},
   "source": [
    "## 사이킷런을 이용하여 붓꽃 만들기"
   ]
  },
  {
   "cell_type": "markdown",
   "metadata": {},
   "source": [
    "사이킷런을 이용한 붓꽃 데이터 분류\n",
    "- 붓꽃 데이터 세트를 이용해서 붓꽃의 품종을 분류 (Classifcation)"
   ]
  },
  {
   "cell_type": "markdown",
   "metadata": {
    "ExecuteTime": {
     "end_time": "2021-07-21T01:12:19.683908Z",
     "start_time": "2021-07-21T01:12:19.678298Z"
    }
   },
   "source": [
    "붓꽃 데이터 세트\n",
    "- sklearn.datasets에 들어 있음 (내장 데이터 세트)\n",
    "- load_iris() 통해 로드해서 사용\n",
    "- 머신러닝 각 분에서 알고리즘 측정하기 위해 기본 자료로 다양하게 활용\n",
    "- 4가지 속성(피처)를 가진 3가지 붓꽃 품종의 각 50개 샘플 포함"
   ]
  },
  {
   "cell_type": "markdown",
   "metadata": {},
   "source": [
    "붓꽃 데이터 분류  \n",
    "  \n",
    "분류(Classification)\n",
    "- 대표적인 지도학습 방법\n",
    "- 학습을 위한 다양한 피처(속성)와 분류 결정값인 레이블(품종) 데이터로 모델을 학습한 후\n",
    "- 별도의 데스트 데이터 세트에서 레이블 (품종) 예측\n",
    "- 즉, 학습 데이터로 학습한 후, 테스트 데이터의 데이터를 보고 어떤 품종인 예측하는 것\n",
    "\n",
    "학습 데이터 : 학습용 데이터 세트\n",
    "테스트 데이터 : 머신러닝 모델의 예측 성능을 평가하기 위해 별도로 주어진 데이터 세트"
   ]
  },
  {
   "cell_type": "markdown",
   "metadata": {},
   "source": [
    "용어 정리  \n",
    "피처 (Feature) : 데이터 세트 속성\n",
    "    - feature_names : sepal length, sepal width, petal length, petal width\n",
    "    \n",
    "레이블 (Label)\n",
    "- 품종 (setosa, versicolr, virginica)\n",
    "- 결정값 (주어진 정답)\n",
    "- 타깃값 (target) : 예측해야 할 값\n",
    "- target (숫자): 0, 1, 2\n",
    "- target_names : setosa, versicolr, virginica\n",
    "- 레이블 = 결정값(정답) = 타깃값"
   ]
  },
  {
   "cell_type": "markdown",
   "metadata": {},
   "source": [
    "붓꽃 데이터 예측 프로세스  \n",
    "(1) 데이터 세트 분리 : 학습 데이터 / 테스트 데이터 세트  \n",
    "(2) 모델 학습 : 학습 데이터 세트 기반으로 ML 알고리즘을 적용하여 모델 학습  \n",
    "(3) 예측 수행 : 학습된 ML 모델을 이용해서 테스트 데이터의 분류 예측 (즉, 붓꽃 품종 예측)  \n",
    "(4) 평가 : 예측된 결과값과 테스트 데이터의 실제 결과값과 비교해서 ML 모델 성능 평가"
   ]
  },
  {
   "cell_type": "markdown",
   "metadata": {},
   "source": [
    "## 사이킷런을 이용하여 붓꽃 데이터 품종 예측 예제"
   ]
  },
  {
   "cell_type": "code",
   "execution_count": 2,
   "metadata": {
    "ExecuteTime": {
     "end_time": "2021-07-21T01:33:19.708880Z",
     "start_time": "2021-07-21T01:33:19.703956Z"
    }
   },
   "outputs": [
    {
     "name": "stdout",
     "output_type": "stream",
     "text": [
      "0.23.2\n"
     ]
    }
   ],
   "source": [
    "# 사이킷런 버전 확인\n",
    "import sklearn\n",
    "print(sklearn.__version__)"
   ]
  },
  {
   "cell_type": "markdown",
   "metadata": {},
   "source": [
    "### 붓꽃 예측을 위한 사이킷런 필요 모듈 로딩"
   ]
  },
  {
   "cell_type": "code",
   "execution_count": 5,
   "metadata": {
    "ExecuteTime": {
     "end_time": "2021-07-21T01:35:42.779708Z",
     "start_time": "2021-07-21T01:35:42.776757Z"
    }
   },
   "outputs": [],
   "source": [
    "from sklearn.datasets import load_iris\n",
    "from sklearn.tree import DecisionTreeClassifier\n",
    "from sklearn.model_selection import train_test_split"
   ]
  },
  {
   "cell_type": "markdown",
   "metadata": {},
   "source": [
    "사이킷런 패키지 모듈\n",
    "* 명명규칙 : 모듈명은 sklearn으로 시작\n",
    "* sklearn.datasets : 사이킷런에서 자체적으로 제공하는 데이터 세트를 생성하는 모듈 모임\n",
    "* sklearn.tree : 트리 기반 ML 알고리즘을 구현한 클래스 모임\n",
    "* sklearn.model_selection : 학습 데이터와 검증 데이터, 예측 데이터로 데이터를 분리하거나  \n",
    "    최적의 하이퍼 파라미터로 평가하기 위한 다양한 모듈의 모임\n",
    "    - 하이퍼 파라미터 : 머신러닝 알고리즘별로 최적의 학습을 위해 직접 입력하는 파라미터\n",
    "        - 머신러닝 알고리즘의 성능 튜닝에 사용"
   ]
  },
  {
   "cell_type": "markdown",
   "metadata": {},
   "source": [
    "### 데이터 세트 로딩"
   ]
  },
  {
   "cell_type": "code",
   "execution_count": 6,
   "metadata": {
    "ExecuteTime": {
     "end_time": "2021-07-21T01:43:20.977330Z",
     "start_time": "2021-07-21T01:43:20.773129Z"
    }
   },
   "outputs": [],
   "source": [
    "import pandas as pd"
   ]
  },
  {
   "cell_type": "code",
   "execution_count": 8,
   "metadata": {
    "ExecuteTime": {
     "end_time": "2021-07-21T01:47:49.973714Z",
     "start_time": "2021-07-21T01:47:49.967277Z"
    }
   },
   "outputs": [],
   "source": [
    "# 붓꽃 데이터 세트를 로딩합니다\n",
    "iris = load_iris()\n",
    "iris_data = iris.data"
   ]
  },
  {
   "cell_type": "code",
   "execution_count": 10,
   "metadata": {
    "ExecuteTime": {
     "end_time": "2021-07-21T01:48:14.692406Z",
     "start_time": "2021-07-21T01:48:14.687795Z"
    },
    "scrolled": true
   },
   "outputs": [
    {
     "name": "stdout",
     "output_type": "stream",
     "text": [
      "iris target 값 : [0 0 0 0 0 0 0 0 0 0 0 0 0 0 0 0 0 0 0 0 0 0 0 0 0 0 0 0 0 0 0 0 0 0 0 0 0\n",
      " 0 0 0 0 0 0 0 0 0 0 0 0 0 1 1 1 1 1 1 1 1 1 1 1 1 1 1 1 1 1 1 1 1 1 1 1 1\n",
      " 1 1 1 1 1 1 1 1 1 1 1 1 1 1 1 1 1 1 1 1 1 1 1 1 1 1 2 2 2 2 2 2 2 2 2 2 2\n",
      " 2 2 2 2 2 2 2 2 2 2 2 2 2 2 2 2 2 2 2 2 2 2 2 2 2 2 2 2 2 2 2 2 2 2 2 2 2\n",
      " 2 2]\n",
      "iris target 명 : ['setosa' 'versicolor' 'virginica']\n"
     ]
    }
   ],
   "source": [
    "# iris.target : 붓꽃 데이터 세트에서 \n",
    "# 레이블(결정값) 데이터 numpy 가지고 있음 (숫자)\n",
    "# 레이블 = 결정값 = 정답 (품종을 숫자로 표현)\n",
    "\n",
    "iris_label = iris.target\n",
    "print('iris target 값 :', iris_label)\n",
    "print('iris target 명 :', iris.target_names)"
   ]
  },
  {
   "cell_type": "code",
   "execution_count": 11,
   "metadata": {
    "ExecuteTime": {
     "end_time": "2021-07-21T01:49:16.929976Z",
     "start_time": "2021-07-21T01:49:16.898172Z"
    }
   },
   "outputs": [
    {
     "data": {
      "text/html": [
       "<div>\n",
       "<style scoped>\n",
       "    .dataframe tbody tr th:only-of-type {\n",
       "        vertical-align: middle;\n",
       "    }\n",
       "\n",
       "    .dataframe tbody tr th {\n",
       "        vertical-align: top;\n",
       "    }\n",
       "\n",
       "    .dataframe thead th {\n",
       "        text-align: right;\n",
       "    }\n",
       "</style>\n",
       "<table border=\"1\" class=\"dataframe\">\n",
       "  <thead>\n",
       "    <tr style=\"text-align: right;\">\n",
       "      <th></th>\n",
       "      <th>sepal length (cm)</th>\n",
       "      <th>sepal width (cm)</th>\n",
       "      <th>petal length (cm)</th>\n",
       "      <th>petal width (cm)</th>\n",
       "    </tr>\n",
       "  </thead>\n",
       "  <tbody>\n",
       "    <tr>\n",
       "      <th>0</th>\n",
       "      <td>5.1</td>\n",
       "      <td>3.5</td>\n",
       "      <td>1.4</td>\n",
       "      <td>0.2</td>\n",
       "    </tr>\n",
       "    <tr>\n",
       "      <th>1</th>\n",
       "      <td>4.9</td>\n",
       "      <td>3.0</td>\n",
       "      <td>1.4</td>\n",
       "      <td>0.2</td>\n",
       "    </tr>\n",
       "    <tr>\n",
       "      <th>2</th>\n",
       "      <td>4.7</td>\n",
       "      <td>3.2</td>\n",
       "      <td>1.3</td>\n",
       "      <td>0.2</td>\n",
       "    </tr>\n",
       "  </tbody>\n",
       "</table>\n",
       "</div>"
      ],
      "text/plain": [
       "   sepal length (cm)  sepal width (cm)  petal length (cm)  petal width (cm)\n",
       "0                5.1               3.5                1.4               0.2\n",
       "1                4.9               3.0                1.4               0.2\n",
       "2                4.7               3.2                1.3               0.2"
      ]
     },
     "execution_count": 11,
     "metadata": {},
     "output_type": "execute_result"
    }
   ],
   "source": [
    "# 붓꽃 데이터 DataFrame으로 변환\n",
    "iris_df = pd.DataFrame(data = iris_data, columns=iris.feature_names)\n",
    "iris_df.head(3)\n",
    "\n",
    "# sepal : 꽃밭침\n",
    "# petal : 꽃잎"
   ]
  },
  {
   "cell_type": "markdown",
   "metadata": {},
   "source": [
    "### 학습 데이터와 테스트 데이터 세트로 분리"
   ]
  },
  {
   "cell_type": "markdown",
   "metadata": {},
   "source": [
    "train_test_split() 함수 사용\n",
    "- train_test_split(iris_data, iris_label, test_size=0.3, random_state=11)\n",
    "- train_test_split(피처 데이터 세트, 레이블 데이터 세트, 테스트 데이터 세트 비율, 난수 발생값)\n",
    "- 피처 데이터 세트 : 피처(feature)만으로 된 데이터(numpy) [5.1, 3.5, 1.4, 0.2],...\n",
    "- 레이블 데이터 세트 : 레이블(결정 값) 데이터(numpy) [0 0 0 ... 1 1 1 .... 2 2 2]\n",
    "- 테스트 데이터 세트 비율 : 전체 데이터 세트 중 테스트 데이터 세트 비율 (0.3)\n",
    "- 난수 발생값 : 수행할 때마다 동일한 데이터 세트로 분리하기 위해 시드값 고정 (실습용)"
   ]
  },
  {
   "cell_type": "markdown",
   "metadata": {},
   "source": [
    "train_test_split() 반환값\n",
    "- X_train : 학습용 피처 데이터 세트 (feature)\n",
    "- X_test : 테스트용 피처 데이터 세트 (feature)\n",
    "- y_train : 학습용 레이블 데이터 세트 (target)\n",
    "- y_test : 테스트용 레이블 데이터 세트 (target)\n",
    "- feature : 대문자 X_\n",
    "- label(target) : 소문자 y_"
   ]
  },
  {
   "cell_type": "code",
   "execution_count": 29,
   "metadata": {
    "ExecuteTime": {
     "end_time": "2021-07-21T04:35:47.040579Z",
     "start_time": "2021-07-21T04:35:47.035009Z"
    }
   },
   "outputs": [],
   "source": [
    "# 학습 데이터와 테스트 데이터 세트로 분리\n",
    "X_train, X_test, y_train, y_test = train_test_split(iris_data,\n",
    "                                                    iris_label,\n",
    "                                                    test_size=0.2,\n",
    "                                                    random_state=121)"
   ]
  },
  {
   "cell_type": "code",
   "execution_count": 30,
   "metadata": {
    "ExecuteTime": {
     "end_time": "2021-07-21T04:36:00.816511Z",
     "start_time": "2021-07-21T04:36:00.799983Z"
    }
   },
   "outputs": [
    {
     "data": {
      "text/plain": [
       "array([[6.7, 3.1, 4.7, 1.5],\n",
       "       [7.7, 2.6, 6.9, 2.3],\n",
       "       [5.2, 3.4, 1.4, 0.2],\n",
       "       [5. , 3.5, 1.6, 0.6],\n",
       "       [6.4, 2.9, 4.3, 1.3],\n",
       "       [7.2, 3.6, 6.1, 2.5],\n",
       "       [5.3, 3.7, 1.5, 0.2],\n",
       "       [5.7, 3.8, 1.7, 0.3],\n",
       "       [5.4, 3.4, 1.7, 0.2],\n",
       "       [6.1, 2.6, 5.6, 1.4],\n",
       "       [6.3, 2.7, 4.9, 1.8],\n",
       "       [6. , 3. , 4.8, 1.8],\n",
       "       [6.4, 3.1, 5.5, 1.8],\n",
       "       [5.1, 3.8, 1.5, 0.3],\n",
       "       [4.9, 2.5, 4.5, 1.7],\n",
       "       [6.3, 2.8, 5.1, 1.5],\n",
       "       [6.8, 3.2, 5.9, 2.3],\n",
       "       [4.8, 3.4, 1.9, 0.2],\n",
       "       [6.3, 2.5, 4.9, 1.5],\n",
       "       [5. , 3.5, 1.3, 0.3],\n",
       "       [5.2, 3.5, 1.5, 0.2],\n",
       "       [4.4, 3. , 1.3, 0.2],\n",
       "       [5.7, 4.4, 1.5, 0.4],\n",
       "       [6.1, 3. , 4.6, 1.4],\n",
       "       [6.7, 3. , 5. , 1.7],\n",
       "       [5. , 3.4, 1.6, 0.4],\n",
       "       [6.5, 3. , 5.2, 2. ],\n",
       "       [6.7, 3.3, 5.7, 2.5],\n",
       "       [5. , 2.3, 3.3, 1. ],\n",
       "       [5.4, 3.4, 1.5, 0.4],\n",
       "       [4.4, 3.2, 1.3, 0.2],\n",
       "       [6.2, 2.9, 4.3, 1.3],\n",
       "       [5.1, 3.5, 1.4, 0.3],\n",
       "       [6.7, 2.5, 5.8, 1.8],\n",
       "       [6.8, 3. , 5.5, 2.1],\n",
       "       [4.6, 3.6, 1. , 0.2],\n",
       "       [4.8, 3.4, 1.6, 0.2],\n",
       "       [7.3, 2.9, 6.3, 1.8],\n",
       "       [6.7, 3.3, 5.7, 2.1],\n",
       "       [6.1, 2.8, 4.7, 1.2],\n",
       "       [5.8, 2.8, 5.1, 2.4],\n",
       "       [5.9, 3. , 5.1, 1.8],\n",
       "       [6.3, 3.3, 4.7, 1.6],\n",
       "       [5.4, 3. , 4.5, 1.5],\n",
       "       [7.7, 2.8, 6.7, 2. ],\n",
       "       [5.8, 2.7, 4.1, 1. ],\n",
       "       [6.4, 2.8, 5.6, 2.1],\n",
       "       [5.6, 2.5, 3.9, 1.1],\n",
       "       [5.1, 3.8, 1.9, 0.4],\n",
       "       [6.2, 2.8, 4.8, 1.8],\n",
       "       [4.7, 3.2, 1.3, 0.2],\n",
       "       [5.5, 2.4, 3.8, 1.1],\n",
       "       [5.9, 3. , 4.2, 1.5],\n",
       "       [7.2, 3.2, 6. , 1.8],\n",
       "       [5.5, 2.4, 3.7, 1. ],\n",
       "       [4.9, 3.6, 1.4, 0.1],\n",
       "       [5.7, 2.8, 4.1, 1.3],\n",
       "       [5.8, 2.7, 5.1, 1.9],\n",
       "       [6.7, 3. , 5.2, 2.3],\n",
       "       [5.7, 2.5, 5. , 2. ],\n",
       "       [4.9, 3.1, 1.5, 0.1],\n",
       "       [6.3, 3.3, 6. , 2.5],\n",
       "       [5.5, 4.2, 1.4, 0.2],\n",
       "       [6.7, 3.1, 5.6, 2.4],\n",
       "       [7.7, 3. , 6.1, 2.3],\n",
       "       [5. , 3.2, 1.2, 0.2],\n",
       "       [5.1, 3.5, 1.4, 0.2],\n",
       "       [5.6, 2.8, 4.9, 2. ],\n",
       "       [4.3, 3. , 1.1, 0.1],\n",
       "       [6.1, 2.8, 4. , 1.3],\n",
       "       [6.5, 3. , 5.8, 2.2],\n",
       "       [5.8, 2.7, 5.1, 1.9],\n",
       "       [4.8, 3. , 1.4, 0.1],\n",
       "       [6.1, 3. , 4.9, 1.8],\n",
       "       [4.9, 3. , 1.4, 0.2],\n",
       "       [6.1, 2.9, 4.7, 1.4],\n",
       "       [5. , 3.4, 1.5, 0.2],\n",
       "       [6.3, 2.9, 5.6, 1.8],\n",
       "       [5.4, 3.9, 1.3, 0.4],\n",
       "       [7.7, 3.8, 6.7, 2.2],\n",
       "       [5.6, 3. , 4.1, 1.3],\n",
       "       [4.8, 3. , 1.4, 0.3],\n",
       "       [6.4, 2.8, 5.6, 2.2],\n",
       "       [5. , 3.6, 1.4, 0.2],\n",
       "       [5.5, 3.5, 1.3, 0.2],\n",
       "       [6.5, 3.2, 5.1, 2. ],\n",
       "       [4.8, 3.1, 1.6, 0.2],\n",
       "       [6.8, 2.8, 4.8, 1.4],\n",
       "       [7.2, 3. , 5.8, 1.6],\n",
       "       [6.3, 2.3, 4.4, 1.3],\n",
       "       [6. , 2.2, 5. , 1.5],\n",
       "       [5.8, 4. , 1.2, 0.2],\n",
       "       [5.8, 2.7, 3.9, 1.2],\n",
       "       [6.2, 2.2, 4.5, 1.5],\n",
       "       [6.9, 3.1, 5.4, 2.1],\n",
       "       [5.4, 3.7, 1.5, 0.2],\n",
       "       [7.4, 2.8, 6.1, 1.9],\n",
       "       [6.4, 3.2, 4.5, 1.5],\n",
       "       [6.9, 3.2, 5.7, 2.3],\n",
       "       [5.6, 2.7, 4.2, 1.3],\n",
       "       [6.5, 3. , 5.5, 1.8],\n",
       "       [5.7, 2.8, 4.5, 1.3],\n",
       "       [4.5, 2.3, 1.3, 0.3],\n",
       "       [7.6, 3. , 6.6, 2.1],\n",
       "       [5.1, 3.7, 1.5, 0.4],\n",
       "       [5.1, 3.4, 1.5, 0.2],\n",
       "       [6.6, 3. , 4.4, 1.4],\n",
       "       [4.9, 2.4, 3.3, 1. ],\n",
       "       [6.9, 3.1, 4.9, 1.5],\n",
       "       [4.6, 3.1, 1.5, 0.2],\n",
       "       [6.5, 2.8, 4.6, 1.5],\n",
       "       [5. , 2. , 3.5, 1. ],\n",
       "       [4.9, 3.1, 1.5, 0.2],\n",
       "       [5.1, 3.8, 1.6, 0.2],\n",
       "       [5.7, 2.9, 4.2, 1.3],\n",
       "       [6. , 2.7, 5.1, 1.6],\n",
       "       [6.7, 3.1, 4.4, 1.4],\n",
       "       [5.7, 3. , 4.2, 1.2],\n",
       "       [4.4, 2.9, 1.4, 0.2],\n",
       "       [5.6, 3. , 4.5, 1.5]])"
      ]
     },
     "execution_count": 30,
     "metadata": {},
     "output_type": "execute_result"
    }
   ],
   "source": [
    "X_train # 학습용 피처 데이터 세트 (feature)"
   ]
  },
  {
   "cell_type": "code",
   "execution_count": 31,
   "metadata": {
    "ExecuteTime": {
     "end_time": "2021-07-21T04:36:01.850399Z",
     "start_time": "2021-07-21T04:36:01.842541Z"
    }
   },
   "outputs": [
    {
     "data": {
      "text/plain": [
       "array([[7. , 3.2, 4.7, 1.4],\n",
       "       [6.2, 3.4, 5.4, 2.3],\n",
       "       [6. , 3.4, 4.5, 1.6],\n",
       "       [4.6, 3.4, 1.4, 0.3],\n",
       "       [5.2, 4.1, 1.5, 0.1],\n",
       "       [5.8, 2.6, 4. , 1.2],\n",
       "       [5.6, 2.9, 3.6, 1.3],\n",
       "       [5.7, 2.6, 3.5, 1. ],\n",
       "       [5.2, 2.7, 3.9, 1.4],\n",
       "       [6.9, 3.1, 5.1, 2.3],\n",
       "       [5.9, 3.2, 4.8, 1.8],\n",
       "       [5.5, 2.3, 4. , 1.3],\n",
       "       [6.6, 2.9, 4.6, 1.3],\n",
       "       [4.6, 3.2, 1.4, 0.2],\n",
       "       [4.7, 3.2, 1.6, 0.2],\n",
       "       [6.3, 3.4, 5.6, 2.4],\n",
       "       [6. , 2.2, 4. , 1. ],\n",
       "       [5. , 3. , 1.6, 0.2],\n",
       "       [6.4, 3.2, 5.3, 2.3],\n",
       "       [5.4, 3.9, 1.7, 0.4],\n",
       "       [6.4, 2.7, 5.3, 1.9],\n",
       "       [6.3, 2.5, 5. , 1.9],\n",
       "       [6. , 2.9, 4.5, 1.5],\n",
       "       [5.1, 2.5, 3. , 1.1],\n",
       "       [5.5, 2.6, 4.4, 1.2],\n",
       "       [5.5, 2.5, 4. , 1.3],\n",
       "       [5. , 3.3, 1.4, 0.2],\n",
       "       [5.1, 3.3, 1.7, 0.5],\n",
       "       [7.9, 3.8, 6.4, 2. ],\n",
       "       [7.1, 3. , 5.9, 2.1]])"
      ]
     },
     "execution_count": 31,
     "metadata": {},
     "output_type": "execute_result"
    }
   ],
   "source": [
    "X_test # 테스트용 피처 데이터 세트 (feature)"
   ]
  },
  {
   "cell_type": "code",
   "execution_count": 32,
   "metadata": {
    "ExecuteTime": {
     "end_time": "2021-07-21T04:36:06.220578Z",
     "start_time": "2021-07-21T04:36:06.215382Z"
    }
   },
   "outputs": [
    {
     "data": {
      "text/plain": [
       "array([1, 2, 0, 0, 1, 2, 0, 0, 0, 2, 2, 2, 2, 0, 2, 2, 2, 0, 1, 0, 0, 0,\n",
       "       0, 1, 1, 0, 2, 2, 1, 0, 0, 1, 0, 2, 2, 0, 0, 2, 2, 1, 2, 2, 1, 1,\n",
       "       2, 1, 2, 1, 0, 2, 0, 1, 1, 2, 1, 0, 1, 2, 2, 2, 0, 2, 0, 2, 2, 0,\n",
       "       0, 2, 0, 1, 2, 2, 0, 2, 0, 1, 0, 2, 0, 2, 1, 0, 2, 0, 0, 2, 0, 1,\n",
       "       2, 1, 2, 0, 1, 1, 2, 0, 2, 1, 2, 1, 2, 1, 0, 2, 0, 0, 1, 1, 1, 0,\n",
       "       1, 1, 0, 0, 1, 1, 1, 1, 0, 1])"
      ]
     },
     "execution_count": 32,
     "metadata": {},
     "output_type": "execute_result"
    }
   ],
   "source": [
    "y_train # 학습용 레이블 데이터 세트 (target)"
   ]
  },
  {
   "cell_type": "code",
   "execution_count": 33,
   "metadata": {
    "ExecuteTime": {
     "end_time": "2021-07-21T04:36:06.688965Z",
     "start_time": "2021-07-21T04:36:06.682414Z"
    }
   },
   "outputs": [
    {
     "data": {
      "text/plain": [
       "array([1, 2, 1, 0, 0, 1, 1, 1, 1, 2, 1, 1, 1, 0, 0, 2, 1, 0, 2, 0, 2, 2,\n",
       "       1, 1, 1, 1, 0, 0, 2, 2])"
      ]
     },
     "execution_count": 33,
     "metadata": {},
     "output_type": "execute_result"
    }
   ],
   "source": [
    "y_test # 테스트용 레이블 데이터 세트 (target)"
   ]
  },
  {
   "cell_type": "markdown",
   "metadata": {},
   "source": [
    "## 학습 데이터 세트로 학습 수행 / 예측 수행"
   ]
  },
  {
   "cell_type": "markdown",
   "metadata": {},
   "source": [
    "ML 알고리즘으로 의사결정 트리 알고리즘을 이용해서 학습과 예측 수행  \n",
    "DecisionTreeClassifier 클래스의 fit()/predict() 메소드 사용\n",
    " \n",
    "fit() : 학습 (학습용 데이터 사용)  \n",
    "    - fit(학습용 피처 데이터 세트, 학습용 레이블(정답) 데이터 세트)\n",
    "\n",
    "predict() : 예측 수행  \n",
    "    - predict(테스트용 피처 데이터 세트)"
   ]
  },
  {
   "cell_type": "code",
   "execution_count": 19,
   "metadata": {
    "ExecuteTime": {
     "end_time": "2021-07-21T02:12:25.436500Z",
     "start_time": "2021-07-21T02:12:25.420772Z"
    }
   },
   "outputs": [
    {
     "data": {
      "text/plain": [
       "DecisionTreeClassifier(random_state=11)"
      ]
     },
     "execution_count": 19,
     "metadata": {},
     "output_type": "execute_result"
    }
   ],
   "source": [
    "# DecisionTreeClassifier 객체 생성\n",
    "dt_clf = DecisionTreeClassifier(random_state=11)\n",
    "\n",
    "# 학습 수행\n",
    "dt_clf.fit(X_train, y_train)  # 학습용 피처 데이터, 학습용 레이블(정답) 데이터"
   ]
  },
  {
   "cell_type": "markdown",
   "metadata": {},
   "source": [
    "### 테스트 데이터 세트로 예측(Predict) 수행"
   ]
  },
  {
   "cell_type": "code",
   "execution_count": 20,
   "metadata": {
    "ExecuteTime": {
     "end_time": "2021-07-21T02:14:18.542667Z",
     "start_time": "2021-07-21T02:14:18.537807Z"
    }
   },
   "outputs": [],
   "source": [
    "# 학습이 완료된 DecisionTreeClassifier 객체에서 테스트 데이트 세트로 예측 수행\n",
    "pred = dt_clf.predict(X_test)  # 테스트용 피처 데이터"
   ]
  },
  {
   "cell_type": "code",
   "execution_count": 22,
   "metadata": {
    "ExecuteTime": {
     "end_time": "2021-07-21T02:14:52.481088Z",
     "start_time": "2021-07-21T02:14:52.475748Z"
    }
   },
   "outputs": [
    {
     "data": {
      "text/plain": [
       "array([2, 2, 1, 1, 2, 0, 1, 0, 0, 1, 1, 1, 1, 2, 2, 0, 2, 1, 2, 2, 1, 0,\n",
       "       0, 1, 0, 0, 2, 1, 0, 1])"
      ]
     },
     "execution_count": 22,
     "metadata": {},
     "output_type": "execute_result"
    }
   ],
   "source": [
    "pred  # 예측한 값"
   ]
  },
  {
   "cell_type": "code",
   "execution_count": 23,
   "metadata": {
    "ExecuteTime": {
     "end_time": "2021-07-21T02:15:04.235174Z",
     "start_time": "2021-07-21T02:15:04.228569Z"
    }
   },
   "outputs": [
    {
     "data": {
      "text/plain": [
       "array([2, 2, 2, 1, 2, 0, 1, 0, 0, 1, 2, 1, 1, 2, 2, 0, 2, 1, 2, 2, 1, 0,\n",
       "       0, 1, 0, 0, 2, 1, 0, 1])"
      ]
     },
     "execution_count": 23,
     "metadata": {},
     "output_type": "execute_result"
    }
   ],
   "source": [
    "y_test  # 테스트용 레이블 데이터 세트"
   ]
  },
  {
   "cell_type": "code",
   "execution_count": 24,
   "metadata": {
    "ExecuteTime": {
     "end_time": "2021-07-21T02:15:31.523773Z",
     "start_time": "2021-07-21T02:15:31.517750Z"
    }
   },
   "outputs": [
    {
     "name": "stdout",
     "output_type": "stream",
     "text": [
      "[2 2 1 1 2 0 1 0 0 1 1 1 1 2 2 0 2 1 2 2 1 0 0 1 0 0 2 1 0 1]\n",
      "[2 2 2 1 2 0 1 0 0 1 2 1 1 2 2 0 2 1 2 2 1 0 0 1 0 0 2 1 0 1]\n"
     ]
    }
   ],
   "source": [
    "# 실제 데이터 레이블 값과 예측한 값 비교\n",
    "print(pred)\n",
    "print(y_test)\n",
    "\n",
    "# 결과\n",
    "# 30개 중 2개만 예측이 빗나갔고 28개 정확하게 예측함\n",
    "# 28/30 = 0.9333"
   ]
  },
  {
   "cell_type": "markdown",
   "metadata": {},
   "source": [
    "### 예측 정확도 평가\n",
    "\n",
    "예측 결과를 기반으로 의사 결정 트리 기반의 DecisionTreeClassifier 예측 성능 평가  \n",
    "머신러닝 모델의 여러 성능 평가 방법 중 정확도 측정 (Accuracy)  \n",
    "정확도 : 예측 결과 실제 레이블 값과 얼마나 정확하게 맞는지 평가하는 지표  \n",
    "예측한 붓꽃 품종과 실제 테스트 데이터 세트의 붓꽃 품종이 얼마나 일치하는지 확인  \n",
    "  \n",
    "정확도 측정을 위해 사이킷런에서 제공하는 `accuracy_score()`함수 사용  \n",
    "`accuracy_score(실제 테스트용 레이블 데이터 세트, 예측된 레이블 데이터 세트)`"
   ]
  },
  {
   "cell_type": "code",
   "execution_count": 28,
   "metadata": {
    "ExecuteTime": {
     "end_time": "2021-07-21T02:22:06.067170Z",
     "start_time": "2021-07-21T02:22:06.061896Z"
    }
   },
   "outputs": [
    {
     "name": "stdout",
     "output_type": "stream",
     "text": [
      "예측 정확도 :0.9333\n"
     ]
    }
   ],
   "source": [
    "# 예측 정확도 확인\n",
    "from sklearn.metrics import accuracy_score\n",
    "\n",
    "print('예측 정확도 :{0:.4f}'.format(accuracy_score(y_test, pred)))\n",
    "\n",
    "# 30개 중에서 28개 정확하게 예측함 : 28/33 = 0.9333"
   ]
  },
  {
   "cell_type": "markdown",
   "metadata": {},
   "source": [
    "___\n",
    "# 붓꽃 데이터 품종 예측 프로세스 정리\n",
    "\n",
    "1. 데이터 준비 (데이터 로드 / 데이터 확인) : `load_iris()` 사용  \n",
    "2. 학습 데이터와 테스트 데이터 세트 분리 : `train_test_split()`사용  \n",
    "3. 학습 및 예측 수행  : DecisionTreeClassifier 클래스의 `fit()` / `predict()` 사용  \n",
    "- `fit()` : 학습용 데이터를 사용해서 학습  \n",
    "- `predict()` : 테스트용 피처 데이터 사용해서 예측  \n",
    "4. 예측 정확도 평가 : `accuracy_score()` 함수 사용   \n",
    "- 실제 테스트용 레이블 데이터 세트와 예측된 레이블 데이터 세트 비교 (실제값 vs 예측값)  \n",
    "- 예측 정확도 측정"
   ]
  }
 ],
 "metadata": {
  "kernelspec": {
   "display_name": "Python 3",
   "language": "python",
   "name": "python3"
  },
  "language_info": {
   "codemirror_mode": {
    "name": "ipython",
    "version": 3
   },
   "file_extension": ".py",
   "mimetype": "text/x-python",
   "name": "python",
   "nbconvert_exporter": "python",
   "pygments_lexer": "ipython3",
   "version": "3.9.5"
  }
 },
 "nbformat": 4,
 "nbformat_minor": 4
}

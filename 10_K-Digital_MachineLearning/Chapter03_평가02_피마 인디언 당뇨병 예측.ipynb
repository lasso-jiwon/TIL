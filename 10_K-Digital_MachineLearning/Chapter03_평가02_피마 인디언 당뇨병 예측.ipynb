{
 "cells": [
  {
   "cell_type": "markdown",
   "id": "738975e5",
   "metadata": {},
   "source": [
    "# 피마 인디언 당뇨병 예측\n",
    "피마 인디언 당뇨병 (Pima Indian Diabetes) 데이터 세트를 이용해  \n",
    "당뇨병 여부를 판단하는 머신러닝 예측 모델을 수립하고  \n",
    "지금까지 학습한 오차행렬, 정확도, 정밀도, 재현율, F1 스코어, ROC AUC 평가 지표 적용  "
   ]
  },
  {
   "cell_type": "markdown",
   "id": "9bbd0aa1",
   "metadata": {},
   "source": [
    "**피마 인디언 당뇨병 데이터 세트**  \n",
    "북아메리카 피마 지역 원주민의 Type-2 당뇨병 결과 데이터  \n",
    "보통 당뇨 원인은 식습관과 유전을 꼽음  \n",
    "피마 지역은 고립된 지역에서 인디언 고유의 혈통이 지속되어 왔지만  \n",
    "20세기 후반에 들어서면서 서구화된 식습관으로 많은 당뇨 환자 발생  \n",
    "고립된 유전적 특성 때문에 당뇨 학회에서는 피마 인디언 당뇨병 자료에 많은 연구를 함"
   ]
  },
  {
   "cell_type": "markdown",
   "id": "425a8c0c",
   "metadata": {},
   "source": [
    "**피마 인디언 당뇨병 데이터 세트 피처 구성**  \n",
    "- Pregnancies : 임신 횟수\n",
    "- Glucose : 포도당 부하 검사 수치\n",
    "- BloodPressure : 혈압 (mm Hg)\n",
    "- SkinThickness : 팔 삼두근 뒤쪽의 피하지방 측정값\n",
    "- Insulin : 혈청 인슐린\n",
    "- BMI : 체질량 지수\n",
    "- DiabetesPedigreeFunction : 당뇨 내력 가중치 값\n",
    "- age : 나이\n",
    "- Outcome : 클래스 결정 값 (0 또는 1)"
   ]
  },
  {
   "cell_type": "markdown",
   "id": "50cd5554",
   "metadata": {},
   "source": [
    "## 라이브러리 불러오기"
   ]
  },
  {
   "cell_type": "code",
   "execution_count": 42,
   "id": "5e90cefa",
   "metadata": {
    "ExecuteTime": {
     "end_time": "2021-07-23T07:57:58.527464Z",
     "start_time": "2021-07-23T07:57:58.518938Z"
    }
   },
   "outputs": [],
   "source": [
    "import pandas as pd\n",
    "import numpy as np\n",
    "import matplotlib.pyplot as plt\n",
    "%matplotlib inline\n",
    "\n",
    "from sklearn.model_selection import train_test_split\n",
    "from sklearn.metrics import accuracy_score, precision_score, recall_score, roc_auc_score\n",
    "from sklearn.metrics import f1_score, confusion_matrix, precision_recall_curve, roc_curve\n",
    "from sklearn.preprocessing import StandardScaler, Binarizer\n",
    "from sklearn.linear_model import LogisticRegression"
   ]
  },
  {
   "cell_type": "markdown",
   "id": "9864cd7d",
   "metadata": {},
   "source": [
    "## 데이터 불러오기"
   ]
  },
  {
   "cell_type": "code",
   "execution_count": 43,
   "id": "1ce8de65",
   "metadata": {
    "ExecuteTime": {
     "end_time": "2021-07-23T07:57:59.601107Z",
     "start_time": "2021-07-23T07:57:59.568386Z"
    }
   },
   "outputs": [
    {
     "name": "stdout",
     "output_type": "stream",
     "text": [
      "0    500\n",
      "1    268\n",
      "Name: Outcome, dtype: int64\n"
     ]
    },
    {
     "data": {
      "text/html": [
       "<div>\n",
       "<style scoped>\n",
       "    .dataframe tbody tr th:only-of-type {\n",
       "        vertical-align: middle;\n",
       "    }\n",
       "\n",
       "    .dataframe tbody tr th {\n",
       "        vertical-align: top;\n",
       "    }\n",
       "\n",
       "    .dataframe thead th {\n",
       "        text-align: right;\n",
       "    }\n",
       "</style>\n",
       "<table border=\"1\" class=\"dataframe\">\n",
       "  <thead>\n",
       "    <tr style=\"text-align: right;\">\n",
       "      <th></th>\n",
       "      <th>Pregnancies</th>\n",
       "      <th>Glucose</th>\n",
       "      <th>BloodPressure</th>\n",
       "      <th>SkinThickness</th>\n",
       "      <th>Insulin</th>\n",
       "      <th>BMI</th>\n",
       "      <th>DiabetesPedigreeFunction</th>\n",
       "      <th>Age</th>\n",
       "      <th>Outcome</th>\n",
       "    </tr>\n",
       "  </thead>\n",
       "  <tbody>\n",
       "    <tr>\n",
       "      <th>0</th>\n",
       "      <td>6</td>\n",
       "      <td>148</td>\n",
       "      <td>72</td>\n",
       "      <td>35</td>\n",
       "      <td>0</td>\n",
       "      <td>33.6</td>\n",
       "      <td>0.627</td>\n",
       "      <td>50</td>\n",
       "      <td>1</td>\n",
       "    </tr>\n",
       "    <tr>\n",
       "      <th>1</th>\n",
       "      <td>1</td>\n",
       "      <td>85</td>\n",
       "      <td>66</td>\n",
       "      <td>29</td>\n",
       "      <td>0</td>\n",
       "      <td>26.6</td>\n",
       "      <td>0.351</td>\n",
       "      <td>31</td>\n",
       "      <td>0</td>\n",
       "    </tr>\n",
       "    <tr>\n",
       "      <th>2</th>\n",
       "      <td>8</td>\n",
       "      <td>183</td>\n",
       "      <td>64</td>\n",
       "      <td>0</td>\n",
       "      <td>0</td>\n",
       "      <td>23.3</td>\n",
       "      <td>0.672</td>\n",
       "      <td>32</td>\n",
       "      <td>1</td>\n",
       "    </tr>\n",
       "    <tr>\n",
       "      <th>3</th>\n",
       "      <td>1</td>\n",
       "      <td>89</td>\n",
       "      <td>66</td>\n",
       "      <td>23</td>\n",
       "      <td>94</td>\n",
       "      <td>28.1</td>\n",
       "      <td>0.167</td>\n",
       "      <td>21</td>\n",
       "      <td>0</td>\n",
       "    </tr>\n",
       "    <tr>\n",
       "      <th>4</th>\n",
       "      <td>0</td>\n",
       "      <td>137</td>\n",
       "      <td>40</td>\n",
       "      <td>35</td>\n",
       "      <td>168</td>\n",
       "      <td>43.1</td>\n",
       "      <td>2.288</td>\n",
       "      <td>33</td>\n",
       "      <td>1</td>\n",
       "    </tr>\n",
       "  </tbody>\n",
       "</table>\n",
       "</div>"
      ],
      "text/plain": [
       "   Pregnancies  Glucose  BloodPressure  ...  DiabetesPedigreeFunction  Age  Outcome\n",
       "0            6      148             72  ...                     0.627   50        1\n",
       "1            1       85             66  ...                     0.351   31        0\n",
       "2            8      183             64  ...                     0.672   32        1\n",
       "3            1       89             66  ...                     0.167   21        0\n",
       "4            0      137             40  ...                     2.288   33        1\n",
       "\n",
       "[5 rows x 9 columns]"
      ]
     },
     "execution_count": 43,
     "metadata": {},
     "output_type": "execute_result"
    }
   ],
   "source": [
    "diabetes_data = pd.read_csv('data/diabetes.csv')\n",
    "print(diabetes_data['Outcome'].value_counts())\n",
    "diabetes_data.head(5)"
   ]
  },
  {
   "cell_type": "markdown",
   "id": "ac744f9a",
   "metadata": {},
   "source": [
    "전체 768개의 데이터 중 Positive 값 (1)이 268개, Negative(0) 값이 500개로 구성되어 있음"
   ]
  },
  {
   "cell_type": "code",
   "execution_count": 44,
   "id": "02e61ba0",
   "metadata": {
    "ExecuteTime": {
     "end_time": "2021-07-23T07:58:00.405548Z",
     "start_time": "2021-07-23T07:58:00.389676Z"
    }
   },
   "outputs": [
    {
     "name": "stdout",
     "output_type": "stream",
     "text": [
      "<class 'pandas.core.frame.DataFrame'>\n",
      "RangeIndex: 768 entries, 0 to 767\n",
      "Data columns (total 9 columns):\n",
      " #   Column                    Non-Null Count  Dtype  \n",
      "---  ------                    --------------  -----  \n",
      " 0   Pregnancies               768 non-null    int64  \n",
      " 1   Glucose                   768 non-null    int64  \n",
      " 2   BloodPressure             768 non-null    int64  \n",
      " 3   SkinThickness             768 non-null    int64  \n",
      " 4   Insulin                   768 non-null    int64  \n",
      " 5   BMI                       768 non-null    float64\n",
      " 6   DiabetesPedigreeFunction  768 non-null    float64\n",
      " 7   Age                       768 non-null    int64  \n",
      " 8   Outcome                   768 non-null    int64  \n",
      "dtypes: float64(2), int64(7)\n",
      "memory usage: 54.1 KB\n"
     ]
    }
   ],
   "source": [
    "# diabetes 데이터 갼략히 보기(feature type 및 Null 값 개수 보기)\n",
    "diabetes_data.info()"
   ]
  },
  {
   "cell_type": "markdown",
   "id": "88397afd",
   "metadata": {},
   "source": [
    "Null 값은 존재하지 않으며 모두 int, float의 숫자형 데이터이므로  \n",
    "Null 값과 문자열 처리를 위한 별도의 작업은 필요하지 않음  "
   ]
  },
  {
   "cell_type": "markdown",
   "id": "6d8c9943",
   "metadata": {},
   "source": [
    "#### 앞으로 할 일\n",
    "- 로지스틱 회귀를 이용해 예측 모델 생성  \n",
    "- 데이터 세트를 피처 데이터와 클래스 데이터 세트로 나누고 학습 데이터 세트와 테스트 세트로 분리\n",
    "- 로지스틱 회귀를 이용해 예측 수행\n",
    "- 성능 평가 지표 출력\n",
    "- 재현율 곡선 시각화"
   ]
  },
  {
   "cell_type": "markdown",
   "id": "5550a052",
   "metadata": {},
   "source": [
    "## 로지스틱 회귀를 이용한 예측모델 생성"
   ]
  },
  {
   "cell_type": "markdown",
   "id": "94b964e8",
   "metadata": {},
   "source": [
    "### 평가 지표 함수 설정"
   ]
  },
  {
   "cell_type": "code",
   "execution_count": 45,
   "id": "16dfd684",
   "metadata": {
    "ExecuteTime": {
     "end_time": "2021-07-23T07:58:02.679414Z",
     "start_time": "2021-07-23T07:58:02.672236Z"
    }
   },
   "outputs": [],
   "source": [
    "# 앞 예제에서 get_clf_eval()과 precision_recall_curve_plot()을 추가해서 사용\n",
    "\n",
    "# 평가지표 출력하는 함수 설정\n",
    "def get_clf_eval(y_test, pred=None, pred_proba=None):\n",
    "    confusion = confusion_matrix(y_test, pred) # 오차행렬\n",
    "    accuracy = accuracy_score(y_test, pred)    # 정확도\n",
    "    precision = precision_score(y_test, pred) # 정밀도\n",
    "    recall = recall_score(y_test, pred)        # 재현율\n",
    "    f1 = f1_score(y_test, pred)               # F1 스코어 \n",
    "    roc_auc = roc_auc_score(y_test, pred_proba)  # ROC-AUC  \n",
    "    \n",
    "    print(\"오차 행렬\")\n",
    "    print(confusion)\n",
    "    print('정확도 : {0:.4f}, 정밀도: {1:.4f}, 재현율 : {2:.4f},\\\n",
    "    F1 : {3:.4f}, AUC:{4:.4f}'.format(accuracy, precision, recall, f1, roc_auc))"
   ]
  },
  {
   "cell_type": "markdown",
   "id": "64570427",
   "metadata": {},
   "source": [
    "### 정밀도 재현율 곡선 함수 설정"
   ]
  },
  {
   "cell_type": "code",
   "execution_count": 46,
   "id": "32221c36",
   "metadata": {
    "ExecuteTime": {
     "end_time": "2021-07-23T07:58:04.078356Z",
     "start_time": "2021-07-23T07:58:04.061785Z"
    }
   },
   "outputs": [],
   "source": [
    "import matplotlib.pyplot as plt\n",
    "import matplotlib.ticker as ticker\n",
    "%matplotlib inline\n",
    "\n",
    "def precision_recall_curve_plot(y_test, pred_proba_c1) :\n",
    "    # threshold ndarray 와 이 threshold에 따른 정밀도, 재현율 ndarray 추출\n",
    "    precisions, recalls, thresholds = precision_recall_curve(y_test, pred_proba_c1)\n",
    "    \n",
    "    # X축을 threshold값으로, Y축은 정밀도, 재현율 값으로 각각 Plot 수행, 정밀도는 점선으로 표시\n",
    "    plt.figure(figsize=(8, 6))\n",
    "    threshold_boundary = thresholds.shape[0]  # (143, 0)에서 143 추출\n",
    "    \n",
    "    # thresholds는 143이고, precisions과 recalls는 144로 X축과 Y축 값의 개수가 맞지 않으므로\n",
    "    # precisions과 recalls로 그래프를 그리면 오류가 남..\n",
    "    # y값을 [0:threshold_boundary]로 143개 추출해서 X축 개수와 맞춤\n",
    "    plt.plot(thresholds, precisions[0:threshold_boundary], linestyle = '--', label = 'precision')\n",
    "    plt.plot(thresholds, recalls[0:threshold_boundary], label = 'recall')   \n",
    "    \n",
    "    # threshold 값 X 축의 Scale을 0.1 단위로 변경\n",
    "    # xlim() : X 축 범위를 지정하거나 반환\n",
    "    start, end = plt.xlim()  # X축 범위 반환\n",
    "    plt.xticks(np.round(np.arange(start, end, 0.1), 2))\n",
    "    \n",
    "    # X축, Y축 label과 legend, 그리고 grid 설정\n",
    "    plt.xlabel('Threshold value')\n",
    "    plt.ylabel('Precision and Recall value')\n",
    "    plt.legend()\n",
    "    plt.grid()\n",
    "    plt.show()"
   ]
  },
  {
   "cell_type": "markdown",
   "id": "debc9ccc",
   "metadata": {},
   "source": [
    "### LogisticRegression으로 학습/예측 수행"
   ]
  },
  {
   "cell_type": "code",
   "execution_count": 50,
   "id": "f0262788",
   "metadata": {
    "ExecuteTime": {
     "end_time": "2021-07-23T08:05:47.993322Z",
     "start_time": "2021-07-23T08:05:47.954537Z"
    }
   },
   "outputs": [
    {
     "name": "stdout",
     "output_type": "stream",
     "text": [
      "오차 행렬\n",
      "[[87 13]\n",
      " [22 32]]\n",
      "정확도 : 0.7727, 정밀도: 0.7111, 재현율 : 0.5926,    F1 : 0.6465, AUC:0.8083\n"
     ]
    }
   ],
   "source": [
    "# LogisticRegression으로 학습/예측 수행\n",
    "\n",
    "# 데이터 추출\n",
    "# 피처 데이터 세트 : X\n",
    "# 레이블 데이터 세트 : y\n",
    "X = diabetes_data.iloc[:, :-1] # 슬라이싱 start에서 end -1까지\n",
    "y = diabetes_data.iloc[:, -1]   # 인덱싱 : 마지막 칼럼\n",
    "\n",
    "# 학습 데이터 세트와 테스트 데이터 세트로 분리\n",
    "\n",
    "X_train, X_test, y_train, y_test = train_test_split(X, y, test_size=0.2, random_state=156, stratify=y)\n",
    "\n",
    "# 로지스틱 회귀로 학습/예측/평가 수행\n",
    "lr_clf = LogisticRegression(solver='liblinear')\n",
    "lr_clf.fit(X_train, y_train)\n",
    "pred = lr_clf.predict(X_test)\n",
    "\n",
    "# 예측 확률 \n",
    "pred_proba = lr_clf.predict_proba(X_test)[:, 1]\n",
    "\n",
    "get_clf_eval(y_test, pred, pred_proba)"
   ]
  },
  {
   "cell_type": "markdown",
   "id": "2eb266ce",
   "metadata": {},
   "source": [
    "**결과**  \n",
    "예측 정확도가 77.27% 이고 재현율이 59.26% 로 측정됨  \n",
    "전체 데이터의 약 65%가 Negative이므로 정확도 보다는 재현율 성능에 초첨을 맞춰보겠음  \n",
    "먼저 정밀도 재현율 곡선을 보고 임곗값별 정밀도와 재현율 값의 변화를 확인해보겠음  "
   ]
  },
  {
   "cell_type": "markdown",
   "id": "de60319e",
   "metadata": {},
   "source": [
    "#### 피마 인디언 당뇨병 데이터 세트\n",
    "- 전체 768개 중에서 1이 268개 : 34.89 %\n",
    "- stratify=y로 설정한 경우 (비율 거의 유사)\n",
    "    - 학습 데이터 세트 에서 1의 비율 : 34.85 %\n",
    "    - 데스트 데이터 세트에서 1의 비율 : 35.06%\n",
    "- stratify=y로 설정하지 않은 경우 (비율 차이가 있음)\n",
    "    - 학습 데이터 세트 에서 1의 비율 : 34.36 %\n",
    "    - 데스트 데이터 세트에서 1의 비율 : 37.01 %"
   ]
  },
  {
   "cell_type": "markdown",
   "id": "6b7d37ed",
   "metadata": {},
   "source": [
    "### 임계값별로 정밀도-재현율 출력"
   ]
  },
  {
   "cell_type": "code",
   "execution_count": 49,
   "id": "63d1061d",
   "metadata": {
    "ExecuteTime": {
     "end_time": "2021-07-23T07:59:27.488419Z",
     "start_time": "2021-07-23T07:59:27.351136Z"
    }
   },
   "outputs": [
    {
     "data": {
      "image/png": "[encoded data removed]",
      "text/plain": [
       "<Figure size 576x432 with 1 Axes>"
      ]
     },
     "metadata": {
      "needs_background": "light"
     },
     "output_type": "display_data"
    }
   ],
   "source": [
    "# 임계값별로 정밀도-재현율 출력\n",
    "pred_proba = lr_clf.predict_proba(X_test)[:, 1]\n",
    "precision_recall_curve_plot(y_test, pred_proba)"
   ]
  },
  {
   "cell_type": "markdown",
   "id": "eae65bb6",
   "metadata": {},
   "source": [
    "**결과**  \n",
    "재현율 곡선을 보면 임곗값을 0.42정도로 낮추면 정밀도와 재현율이 어느 정도 균형을 맞춤  \n",
    "하지만 두 개 지표 모두 0.7이 안되는 수준으로 높지 않음  \n",
    "데이터를 다시 확인해서 개선할 부분이 있는지 확인해 보자  "
   ]
  },
  {
   "cell_type": "code",
   "execution_count": 51,
   "id": "291bb942",
   "metadata": {
    "ExecuteTime": {
     "end_time": "2021-07-23T08:18:28.531608Z",
     "start_time": "2021-07-23T08:18:28.481934Z"
    }
   },
   "outputs": [
    {
     "data": {
      "text/html": [
       "<div>\n",
       "<style scoped>\n",
       "    .dataframe tbody tr th:only-of-type {\n",
       "        vertical-align: middle;\n",
       "    }\n",
       "\n",
       "    .dataframe tbody tr th {\n",
       "        vertical-align: top;\n",
       "    }\n",
       "\n",
       "    .dataframe thead th {\n",
       "        text-align: right;\n",
       "    }\n",
       "</style>\n",
       "<table border=\"1\" class=\"dataframe\">\n",
       "  <thead>\n",
       "    <tr style=\"text-align: right;\">\n",
       "      <th></th>\n",
       "      <th>Pregnancies</th>\n",
       "      <th>Glucose</th>\n",
       "      <th>BloodPressure</th>\n",
       "      <th>SkinThickness</th>\n",
       "      <th>Insulin</th>\n",
       "      <th>BMI</th>\n",
       "      <th>DiabetesPedigreeFunction</th>\n",
       "      <th>Age</th>\n",
       "      <th>Outcome</th>\n",
       "    </tr>\n",
       "  </thead>\n",
       "  <tbody>\n",
       "    <tr>\n",
       "      <th>count</th>\n",
       "      <td>768.000000</td>\n",
       "      <td>768.000000</td>\n",
       "      <td>768.000000</td>\n",
       "      <td>768.000000</td>\n",
       "      <td>768.000000</td>\n",
       "      <td>768.000000</td>\n",
       "      <td>768.000000</td>\n",
       "      <td>768.000000</td>\n",
       "      <td>768.000000</td>\n",
       "    </tr>\n",
       "    <tr>\n",
       "      <th>mean</th>\n",
       "      <td>3.845052</td>\n",
       "      <td>120.894531</td>\n",
       "      <td>69.105469</td>\n",
       "      <td>20.536458</td>\n",
       "      <td>79.799479</td>\n",
       "      <td>31.992578</td>\n",
       "      <td>0.471876</td>\n",
       "      <td>33.240885</td>\n",
       "      <td>0.348958</td>\n",
       "    </tr>\n",
       "    <tr>\n",
       "      <th>std</th>\n",
       "      <td>3.369578</td>\n",
       "      <td>31.972618</td>\n",
       "      <td>19.355807</td>\n",
       "      <td>15.952218</td>\n",
       "      <td>115.244002</td>\n",
       "      <td>7.884160</td>\n",
       "      <td>0.331329</td>\n",
       "      <td>11.760232</td>\n",
       "      <td>0.476951</td>\n",
       "    </tr>\n",
       "    <tr>\n",
       "      <th>min</th>\n",
       "      <td>0.000000</td>\n",
       "      <td>0.000000</td>\n",
       "      <td>0.000000</td>\n",
       "      <td>0.000000</td>\n",
       "      <td>0.000000</td>\n",
       "      <td>0.000000</td>\n",
       "      <td>0.078000</td>\n",
       "      <td>21.000000</td>\n",
       "      <td>0.000000</td>\n",
       "    </tr>\n",
       "    <tr>\n",
       "      <th>25%</th>\n",
       "      <td>1.000000</td>\n",
       "      <td>99.000000</td>\n",
       "      <td>62.000000</td>\n",
       "      <td>0.000000</td>\n",
       "      <td>0.000000</td>\n",
       "      <td>27.300000</td>\n",
       "      <td>0.243750</td>\n",
       "      <td>24.000000</td>\n",
       "      <td>0.000000</td>\n",
       "    </tr>\n",
       "    <tr>\n",
       "      <th>50%</th>\n",
       "      <td>3.000000</td>\n",
       "      <td>117.000000</td>\n",
       "      <td>72.000000</td>\n",
       "      <td>23.000000</td>\n",
       "      <td>30.500000</td>\n",
       "      <td>32.000000</td>\n",
       "      <td>0.372500</td>\n",
       "      <td>29.000000</td>\n",
       "      <td>0.000000</td>\n",
       "    </tr>\n",
       "    <tr>\n",
       "      <th>75%</th>\n",
       "      <td>6.000000</td>\n",
       "      <td>140.250000</td>\n",
       "      <td>80.000000</td>\n",
       "      <td>32.000000</td>\n",
       "      <td>127.250000</td>\n",
       "      <td>36.600000</td>\n",
       "      <td>0.626250</td>\n",
       "      <td>41.000000</td>\n",
       "      <td>1.000000</td>\n",
       "    </tr>\n",
       "    <tr>\n",
       "      <th>max</th>\n",
       "      <td>17.000000</td>\n",
       "      <td>199.000000</td>\n",
       "      <td>122.000000</td>\n",
       "      <td>99.000000</td>\n",
       "      <td>846.000000</td>\n",
       "      <td>67.100000</td>\n",
       "      <td>2.420000</td>\n",
       "      <td>81.000000</td>\n",
       "      <td>1.000000</td>\n",
       "    </tr>\n",
       "  </tbody>\n",
       "</table>\n",
       "</div>"
      ],
      "text/plain": [
       "       Pregnancies     Glucose  ...         Age     Outcome\n",
       "count   768.000000  768.000000  ...  768.000000  768.000000\n",
       "mean      3.845052  120.894531  ...   33.240885    0.348958\n",
       "std       3.369578   31.972618  ...   11.760232    0.476951\n",
       "min       0.000000    0.000000  ...   21.000000    0.000000\n",
       "25%       1.000000   99.000000  ...   24.000000    0.000000\n",
       "50%       3.000000  117.000000  ...   29.000000    0.000000\n",
       "75%       6.000000  140.250000  ...   41.000000    1.000000\n",
       "max      17.000000  199.000000  ...   81.000000    1.000000\n",
       "\n",
       "[8 rows x 9 columns]"
      ]
     },
     "execution_count": 51,
     "metadata": {},
     "output_type": "execute_result"
    }
   ],
   "source": [
    "# 데이터의 기초 통계값들\n",
    "diabetes_data.describe()"
   ]
  },
  {
   "cell_type": "markdown",
   "id": "c36b035b",
   "metadata": {},
   "source": [
    "데이터값을 보면 최소값이 0으로 되어있는 값이 많음  \n",
    "Glucose(당 수치), BloodPressure(혈압), SkinThickness(피하지방), Insulin(인슐린), BMI(체질량 지수) 같은 값이  \n",
    "실제로 0일 수는 없다고 생각되므로 확인이 필요함  "
   ]
  },
  {
   "cell_type": "markdown",
   "id": "fa97ee70",
   "metadata": {},
   "source": [
    "## 데이터 세트에서 0값 확인해서 평균으로 대체하기\n",
    "### 데이터 세트에서 0값 그래프 그리기"
   ]
  },
  {
   "cell_type": "code",
   "execution_count": 53,
   "id": "4f266865",
   "metadata": {
    "ExecuteTime": {
     "end_time": "2021-07-23T08:21:06.566813Z",
     "start_time": "2021-07-23T08:21:06.108814Z"
    }
   },
   "outputs": [
    {
     "data": {
      "image/png": "[encoded data removed]",
      "text/plain": [
       "<Figure size 432x288 with 1 Axes>"
      ]
     },
     "metadata": {
      "needs_background": "light"
     },
     "output_type": "display_data"
    },
    {
     "data": {
      "image/png": "[encoded data removed]",
      "text/plain": [
       "<Figure size 432x288 with 1 Axes>"
      ]
     },
     "metadata": {
      "needs_background": "light"
     },
     "output_type": "display_data"
    },
    {
     "data": {
      "image/png": "[encoded data removed]",
      "text/plain": [
       "<Figure size 432x288 with 1 Axes>"
      ]
     },
     "metadata": {
      "needs_background": "light"
     },
     "output_type": "display_data"
    },
    {
     "data": {
      "image/png": "[encoded data removed]",
      "text/plain": [
       "<Figure size 432x288 with 1 Axes>"
      ]
     },
     "metadata": {
      "needs_background": "light"
     },
     "output_type": "display_data"
    },
    {
     "data": {
      "image/png": "[encoded data removed]",
      "text/plain": [
       "<Figure size 432x288 with 1 Axes>"
      ]
     },
     "metadata": {
      "needs_background": "light"
     },
     "output_type": "display_data"
    }
   ],
   "source": [
    "# 0값이 얼마나 있는지 그래프로 확인\n",
    "feature_list = ['Glucose', 'BloodPressure', 'SkinThickness', 'Insulin', 'BMI']\n",
    "\n",
    "def hist_plot(df):\n",
    "    for col in feature_list:\n",
    "        df[col].plot(kind='hist', bins=20).set_title('Histogram of '+col)\n",
    "        plt.show()\n",
    "\n",
    "hist_plot(diabetes_data)"
   ]
  },
  {
   "cell_type": "markdown",
   "id": "f51754a6",
   "metadata": {},
   "source": [
    "### 데이터 세트에서 0값의 비율 확인\n",
    "전체 데이터 건수 대비 0값이 몇 퍼센트 비율인지 확인하기"
   ]
  },
  {
   "cell_type": "code",
   "execution_count": 56,
   "id": "72ab01fb",
   "metadata": {
    "ExecuteTime": {
     "end_time": "2021-07-23T08:29:15.283329Z",
     "start_time": "2021-07-23T08:29:15.268110Z"
    }
   },
   "outputs": [
    {
     "name": "stdout",
     "output_type": "stream",
     "text": [
      "Glucose 0 건수는 5, 퍼센트는 0.65%\n",
      "BloodPressure 0 건수는 35, 퍼센트는 4.56%\n",
      "SkinThickness 0 건수는 227, 퍼센트는 29.56%\n",
      "Insulin 0 건수는 374, 퍼센트는 48.70%\n",
      "BMI 0 건수는 11, 퍼센트는 1.43%\n"
     ]
    }
   ],
   "source": [
    "# 0값을 검사할 피처 명 리스트\n",
    "zero_features = ['Glucose', 'BloodPressure', 'SkinThickness', 'Insulin', 'BMI']\n",
    "\n",
    "# 전체 데이터 건수\n",
    "total_count = diabetes_data['Glucose'].count()\n",
    "\n",
    "# 피처별로 반복하면서 데이터 값이 0인 데이터 건수를 추출하고, 퍼센트 계산\n",
    "for feature in zero_features :\n",
    "    zero_count = diabetes_data[diabetes_data[feature] == 0][feature].count()\n",
    "    print('{0} 0 건수는 {1}, 퍼센트는 {2:.2f}%'.format(feature, zero_count, 100*zero_count/total_count))"
   ]
  },
  {
   "cell_type": "markdown",
   "id": "9b8ecb82",
   "metadata": {},
   "source": [
    "SkinThickness와 Insulin의 경우 0 값의 비율이 각각 29.56%, 48.70%로 상당히 높음   \n",
    "이들 데이터를 삭제하기에는 너무 많으므로 피처 0 값을 평균 값으로 대체  "
   ]
  },
  {
   "cell_type": "markdown",
   "id": "9320c6b1",
   "metadata": {},
   "source": [
    "### 데이터 세트에서 0값 평균으로 대체하기\n",
    "StandardScaler 클래스를 이용해서 피처 데이터 세트에 일괄적으로 스케일링을 적용하고  \n",
    "0값을 평균으로 대체한 데이터 세트로 학습/예측 수행"
   ]
  },
  {
   "cell_type": "code",
   "execution_count": 64,
   "id": "40a42634",
   "metadata": {
    "ExecuteTime": {
     "end_time": "2021-07-23T08:38:35.963563Z",
     "start_time": "2021-07-23T08:38:35.938256Z"
    }
   },
   "outputs": [],
   "source": [
    "# zero_features 리스트 내부에 저장된 개별 피처들에 대해서 0값을 평균 값으로 대체\n",
    "mean_zero_features = diabetes_data[zero_features].mean()\n",
    "diabetes_data[zero_features] = diabetes_data[zero_features].replace(0, mean_zero_features)"
   ]
  },
  {
   "cell_type": "markdown",
   "id": "e9139c75",
   "metadata": {},
   "source": [
    "## 바뀐 데이터 세트로 로지스틱 회귀를 이용한 예측모델 생성"
   ]
  },
  {
   "cell_type": "code",
   "execution_count": 66,
   "id": "c776318e",
   "metadata": {
    "ExecuteTime": {
     "end_time": "2021-07-23T08:39:02.703942Z",
     "start_time": "2021-07-23T08:39:02.671079Z"
    }
   },
   "outputs": [
    {
     "name": "stdout",
     "output_type": "stream",
     "text": [
      "오차 행렬\n",
      "[[90 10]\n",
      " [21 33]]\n",
      "정확도 : 0.7987, 정밀도: 0.7674, 재현율 : 0.6111,    F1 : 0.6804, AUC:0.8433\n"
     ]
    }
   ],
   "source": [
    "# LogisticRegression으로 학습/예측 수행\n",
    "\n",
    "# 데이터 추출\n",
    "# 피처 데이터 세트 : X\n",
    "# 레이블 데이터 세트 : y\n",
    "X = diabetes_data.iloc[:, :-1] # 슬라이싱 : start에서 end -1까지\n",
    "y = diabetes_data.iloc[:, -1]  # 인덱싱 : 마지막 칼럼\n",
    "\n",
    "# StandardScaler 클래스를 이용해서 피처 데이터 세트에 일괄적으로 스케일링 적용\n",
    "scaler = StandardScaler()\n",
    "X_scaled = scaler.fit_transform(X)\n",
    "\n",
    "# 학습 데이터 세트와 테스트 데이터 세트로 분리\n",
    "\n",
    "X_train, X_test, y_train, y_test = train_test_split(X_scaled, y, test_size=0.2, random_state=156, stratify=y)\n",
    "\n",
    "# 로지스틱 회귀로 학습/예측/평가 수행\n",
    "lr_clf = LogisticRegression(solver='liblinear')\n",
    "lr_clf.fit(X_train, y_train)\n",
    "pred = lr_clf.predict(X_test)\n",
    "\n",
    "# 예측 확률 \n",
    "pred_proba = lr_clf.predict_proba(X_test)[:, 1]\n",
    "\n",
    "get_clf_eval(y_test, pred, pred_proba)"
   ]
  },
  {
   "cell_type": "markdown",
   "id": "ab281760",
   "metadata": {},
   "source": [
    "## 임계값 변화에 따른 예측 성능 확인"
   ]
  },
  {
   "cell_type": "code",
   "execution_count": 69,
   "id": "7697fb07",
   "metadata": {
    "ExecuteTime": {
     "end_time": "2021-07-23T08:42:13.610669Z",
     "start_time": "2021-07-23T08:42:13.604817Z"
    }
   },
   "outputs": [],
   "source": [
    "# 임계값에 따른 평가 수치 출력 함수\n",
    "from sklearn.preprocessing import Binarizer\n",
    "\n",
    "def get_eval_by_threshold(y_test, pred_proba_c1, thresholds):\n",
    "    # thresholds 리스트 값을 차례로 반복하면서 평가 수행\n",
    "    for custom_threshold in thresholds:\n",
    "        binarizer = Binarizer(threshold=custom_threshold).fit(pred_proba_c1)\n",
    "        custom_predict = binarizer.transform(pred_proba_c1)\n",
    "        \n",
    "        print('\\n임계값 : ', custom_threshold)\n",
    "        \n",
    "        # 위에서 만든 평가 함수 호출\n",
    "        get_clf_eval(y_test, custom_predict, pred_proba_c1)"
   ]
  },
  {
   "cell_type": "code",
   "execution_count": 71,
   "id": "e5c3632e",
   "metadata": {
    "ExecuteTime": {
     "end_time": "2021-07-23T08:46:08.478284Z",
     "start_time": "2021-07-23T08:46:08.406110Z"
    }
   },
   "outputs": [
    {
     "name": "stdout",
     "output_type": "stream",
     "text": [
      "\n",
      "임계값 :  0.3\n",
      "오차 행렬\n",
      "[[65 35]\n",
      " [11 43]]\n",
      "정확도 : 0.7013, 정밀도: 0.5513, 재현율 : 0.7963,    F1 : 0.6515, AUC:0.8433\n",
      "\n",
      "임계값 :  0.33\n",
      "오차 행렬\n",
      "[[71 29]\n",
      " [11 43]]\n",
      "정확도 : 0.7403, 정밀도: 0.5972, 재현율 : 0.7963,    F1 : 0.6825, AUC:0.8433\n",
      "\n",
      "임계값 :  0.36\n",
      "오차 행렬\n",
      "[[76 24]\n",
      " [15 39]]\n",
      "정확도 : 0.7468, 정밀도: 0.6190, 재현율 : 0.7222,    F1 : 0.6667, AUC:0.8433\n",
      "\n",
      "임계값 :  0.39\n",
      "오차 행렬\n",
      "[[78 22]\n",
      " [16 38]]\n",
      "정확도 : 0.7532, 정밀도: 0.6333, 재현율 : 0.7037,    F1 : 0.6667, AUC:0.8433\n",
      "\n",
      "임계값 :  0.42\n",
      "오차 행렬\n",
      "[[84 16]\n",
      " [18 36]]\n",
      "정확도 : 0.7792, 정밀도: 0.6923, 재현율 : 0.6667,    F1 : 0.6792, AUC:0.8433\n",
      "\n",
      "임계값 :  0.45\n",
      "오차 행렬\n",
      "[[85 15]\n",
      " [18 36]]\n",
      "정확도 : 0.7857, 정밀도: 0.7059, 재현율 : 0.6667,    F1 : 0.6857, AUC:0.8433\n",
      "\n",
      "임계값 :  0.48\n",
      "오차 행렬\n",
      "[[88 12]\n",
      " [19 35]]\n",
      "정확도 : 0.7987, 정밀도: 0.7447, 재현율 : 0.6481,    F1 : 0.6931, AUC:0.8433\n",
      "\n",
      "임계값 :  0.5\n",
      "오차 행렬\n",
      "[[90 10]\n",
      " [21 33]]\n",
      "정확도 : 0.7987, 정밀도: 0.7674, 재현율 : 0.6111,    F1 : 0.6804, AUC:0.8433\n"
     ]
    }
   ],
   "source": [
    "# 임계값 변화에 따른 예측 성능 확인\n",
    "thresholds = [0.3, 0.33, 0.36, 0.39, 0.42, 0.45, 0.48, 0.50]\n",
    "pred_proba = lr_clf.predict_proba(X_test)\n",
    "get_eval_by_threshold(y_test, pred_proba[:, 1].reshape(-1, 1), thresholds)"
   ]
  },
  {
   "cell_type": "markdown",
   "id": "6e2efea7",
   "metadata": {},
   "source": [
    "**결과**  \n",
    "정확도와 정밀도를 희생하고 재현율을 높이는데 가장 좋은 임계값은 0.3  \n",
    "재현율 : 0.7963 이지만 정밀도가 0.5513 이므로 매우 낮음 > 극단적인 선택으로 보임  \n",
    "  \n",
    "임계값이 0.48일 경우  \n",
    "정확도 : 0.7987, 정밀도가 0.7447, 재현율이 0.6481  \n",
    "F1스코어 : 0.6931, ROC AUC : 0.84333 으로  \n",
    "전체적인 성능 평가 지표를 유지하면서 재현율을 약간 향상시키는 좋은 임계값으로 보임  "
   ]
  },
  {
   "cell_type": "code",
   "execution_count": 74,
   "id": "b9fc99d2",
   "metadata": {
    "ExecuteTime": {
     "end_time": "2021-07-23T08:50:45.836724Z",
     "start_time": "2021-07-23T08:50:45.816247Z"
    }
   },
   "outputs": [
    {
     "name": "stdout",
     "output_type": "stream",
     "text": [
      "오차 행렬\n",
      "[[88 12]\n",
      " [19 35]]\n",
      "정확도 : 0.7987, 정밀도: 0.7447, 재현율 : 0.6481,    F1 : 0.6931, AUC:0.8433\n"
     ]
    }
   ],
   "source": [
    "# 임계값을 0.48로 설정하여 예측 수행\n",
    "binarizer = Binarizer(threshold=0.48)\n",
    "\n",
    "# 위에서 구한 predict_proba() 예측확률의 array에서 1에 해당하는 컬럼 값을 대입하여 Binarizer 반환하기\n",
    "pred_th_048 = binarizer.fit_transform(pred_proba[:, 1].reshape(-1, 1))\n",
    "\n",
    "get_clf_eval(y_test, pred_th_048, pred_proba[:,1])"
   ]
  }
 ],
 "metadata": {
  "kernelspec": {
   "display_name": "ML_ENV",
   "language": "python",
   "name": "mlenv"
  },
  "language_info": {
   "codemirror_mode": {
    "name": "ipython",
    "version": 3
   },
   "file_extension": ".py",
   "mimetype": "text/x-python",
   "name": "python",
   "nbconvert_exporter": "python",
   "pygments_lexer": "ipython3",
   "version": "3.8.5"
  }
 },
 "nbformat": 4,
 "nbformat_minor": 5
}
